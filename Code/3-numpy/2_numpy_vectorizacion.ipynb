{
 "cells": [
  {
   "cell_type": "markdown",
   "metadata": {},
   "source": [
    "# Numpy, Estadística, Probabilidades"
   ]
  },
  {
   "cell_type": "markdown",
   "metadata": {
    "toc-hr-collapsed": false
   },
   "source": [
    "## Vectorización\n",
    "\n",
    "En esta notebook vamos a usar funciones que se ejecutan en forma vectorial, es decir que realizan operaciones sobre cada uno de los elementos de un array sin usar loops, y por eso son mucho más eficientes.\n",
    "\n",
    "Las operaciones vectorizadas trabajan sobre los datos como un bloque.  Por eso es necesario que los tipos sean homogéneos entre todos los e\n",
    "lementos. En operaciones vectorizadas no recorremos los elementos en orden. \n",
    "\n",
    "![Image](img/computacion_vectorial.jpg)"
   ]
  },
  {
   "cell_type": "markdown",
   "metadata": {},
   "source": [
    "### Universal Functions\n",
    "\n",
    "Son funciones que realizan operaciones sobre cada elemento de un array multidimensional.\n",
    "\n",
    "Estas operaciones se paralelizan y el procesador las completa en un tiempo mucho menor que si aplicásemos un loop y operásemos sobre cada uno de los elementos.\n",
    "\n",
    "![Image](img/numpy_unary_ufunc.jpg)\n",
    "\n",
    "![Image](img/numpy_binary_ufunc.jpg)\n",
    "\n",
    "\n",
    "<a id=\"section_statistical\"></a> \n",
    "### Métodos matemáticos y estadísticos\n",
    "\n",
    "La clase array implementa también métodos que calculan de forma eficiente estadísticas sobre un array.\n",
    "\n",
    "Podemos hacer agregaciones como suma, promedio, desvío standard.\n",
    "\n",
    "A continuación hay una lista de algunos de los métodos disponibles en Numpy:\n",
    "\n",
    "![Image](img/numpy_array_statistical_methods.jpg)\n"
   ]
  },
  {
   "cell_type": "markdown",
   "metadata": {},
   "source": [
    "Veamos algunos ejemplos de uso de estos métodos.\n",
    "\n",
    "Construimos un array que usaremos para comparar tiempos de ejecución de distintos métodos:"
   ]
  },
  {
   "cell_type": "code",
   "execution_count": 13,
   "metadata": {},
   "outputs": [],
   "source": [
    "# Definimos el tamaño del array que vamos a construir\n",
    "big_array_size = 1000000\n",
    "\n",
    "# Definimos la semilla del generador random\n",
    "seed_cualquier_numero = 4703\n",
    "\n",
    "# Creamos el generador \n",
    "random_generator_seed = np.random.default_rng(seed_cualquier_numero)\n",
    "\n",
    "# Creamos el array\n",
    "low = 1\n",
    "high = 100\n",
    "big_array = random_generator_seed.uniform(low, high, size=big_array_size)\n"
   ]
  },
  {
   "cell_type": "markdown",
   "metadata": {},
   "source": [
    "Calculamos la suma de los elementos del array usando sum \n",
    "https://docs.python.org/3/library/functions.html#sum\n",
    "\n",
    "Y medimos el tiempo empleado en esto"
   ]
  },
  {
   "cell_type": "code",
   "execution_count": 14,
   "metadata": {},
   "outputs": [
    {
     "name": "stdout",
     "output_type": "stream",
     "text": [
      "109 ms ± 1.26 ms per loop (mean ± std. dev. of 7 runs, 10 loops each)\n"
     ]
    },
    {
     "data": {
      "text/plain": [
       "<TimeitResult : 109 ms ± 1.26 ms per loop (mean ± std. dev. of 7 runs, 10 loops each)>"
      ]
     },
     "execution_count": 14,
     "metadata": {},
     "output_type": "execute_result"
    }
   ],
   "source": [
    "%timeit -o sum(big_array)"
   ]
  },
  {
   "cell_type": "code",
   "execution_count": 15,
   "metadata": {},
   "outputs": [],
   "source": [
    "python_sum_time = _"
   ]
  },
  {
   "cell_type": "code",
   "execution_count": 16,
   "metadata": {},
   "outputs": [
    {
     "data": {
      "text/plain": [
       "0.10945384678571404"
      ]
     },
     "execution_count": 16,
     "metadata": {},
     "output_type": "execute_result"
    }
   ],
   "source": [
    "python_sum_time_average = python_sum_time.average\n",
    "python_sum_time_average"
   ]
  },
  {
   "cell_type": "markdown",
   "metadata": {},
   "source": [
    "Calculamos ahora la suma de los elementos del array usando sum de Numpy\n",
    "https://docs.scipy.org/doc/numpy/reference/generated/numpy.sum.html\n",
    "\n",
    "Y medimos el tiempo empleado en esto"
   ]
  },
  {
   "cell_type": "code",
   "execution_count": 17,
   "metadata": {},
   "outputs": [
    {
     "name": "stdout",
     "output_type": "stream",
     "text": [
      "458 µs ± 23.7 µs per loop (mean ± std. dev. of 7 runs, 1000 loops each)\n"
     ]
    },
    {
     "data": {
      "text/plain": [
       "<TimeitResult : 458 µs ± 23.7 µs per loop (mean ± std. dev. of 7 runs, 1000 loops each)>"
      ]
     },
     "execution_count": 17,
     "metadata": {},
     "output_type": "execute_result"
    }
   ],
   "source": [
    "%timeit -o np.sum(big_array)"
   ]
  },
  {
   "cell_type": "code",
   "execution_count": 18,
   "metadata": {},
   "outputs": [],
   "source": [
    "numpy_sum_time = _"
   ]
  },
  {
   "cell_type": "code",
   "execution_count": 19,
   "metadata": {},
   "outputs": [
    {
     "data": {
      "text/plain": [
       "0.00045795296457143306"
      ]
     },
     "execution_count": 19,
     "metadata": {},
     "output_type": "execute_result"
    }
   ],
   "source": [
    "numpy_sum_time_average = numpy_sum_time.average\n",
    "numpy_sum_time_average"
   ]
  },
  {
   "cell_type": "code",
   "execution_count": 20,
   "metadata": {},
   "outputs": [
    {
     "name": "stdout",
     "output_type": "stream",
     "text": [
      "Para este array la implementación sum de python emplea 239.0067436033402 veces más tiempo que la implementación sum de Numpy\n"
     ]
    }
   ],
   "source": [
    "print(\"Para este array la implementación sum de python emplea\", python_sum_time_average / numpy_sum_time_average, \n",
    "      \"veces más tiempo que la implementación sum de Numpy\")"
   ]
  },
  {
   "cell_type": "markdown",
   "metadata": {},
   "source": [
    "Ahora vamos a mostrar algunos ejemplos de estas funciones sobre una matriz (array de dos dimensiones)."
   ]
  },
  {
   "cell_type": "code",
   "execution_count": 21,
   "metadata": {},
   "outputs": [],
   "source": [
    "\n",
    "# Definimos el tamaño de la matriz que vamos a construir\n",
    "big_array_size = (300, 400)\n",
    "\n",
    "# Definimos la semilla del generador random\n",
    "seed_cualquier_numero = 4703\n",
    "\n",
    "# Creamos el generador \n",
    "random_generator_seed = np.random.default_rng(seed_cualquier_numero)\n",
    "\n",
    "# Creamos el array\n",
    "low = 1\n",
    "high = 100\n",
    "big_array = random_generator_seed.uniform(low, high, size=big_array_size)\n"
   ]
  },
  {
   "cell_type": "markdown",
   "metadata": {},
   "source": [
    "* Suma de todos los elementos de la matriz:"
   ]
  },
  {
   "cell_type": "code",
   "execution_count": 22,
   "metadata": {},
   "outputs": [
    {
     "name": "stdout",
     "output_type": "stream",
     "text": [
      "Suma de toda la matriz:  6064843.1555379275\n"
     ]
    }
   ],
   "source": [
    "print(\"Suma de toda la matriz: \", big_array.sum())"
   ]
  },
  {
   "cell_type": "markdown",
   "metadata": {},
   "source": [
    "Es lo mismo que escribir:"
   ]
  },
  {
   "cell_type": "code",
   "execution_count": 23,
   "metadata": {},
   "outputs": [
    {
     "data": {
      "text/plain": [
       "6064843.1555379275"
      ]
     },
     "execution_count": 23,
     "metadata": {},
     "output_type": "execute_result"
    }
   ],
   "source": [
    "np.sum(big_array)"
   ]
  },
  {
   "cell_type": "markdown",
   "metadata": {},
   "source": [
    "* Mínimo de cada columna, debe devolver un array de longitud igual a la cantidad de columnas de la matriz:\n",
    "\n",
    "`axis` representa el eje que se va a **reducir**\n",
    "\n",
    "En una matriz de dos dimensiones axis 0 representa el eje de las filas, y axis 1 el eje de las columnas\n",
    "\n",
    "Para calcular los mínimos de cada columna debemos reducir las filas, por lo tanto el valor de axis es 0"
   ]
  },
  {
   "cell_type": "code",
   "execution_count": 24,
   "metadata": {},
   "outputs": [
    {
     "name": "stdout",
     "output_type": "stream",
     "text": [
      "cantidad de columnas de big_array: 400\n",
      "cantidad de elementos en los mínimos por columnas: 400\n"
     ]
    }
   ],
   "source": [
    "minimos_por_columnas = big_array.min(axis=0)\n",
    "\n",
    "cant_columnas = big_array.shape[1]\n",
    "\n",
    "print(\"cantidad de columnas de big_array:\", cant_columnas)\n",
    "\n",
    "print(\"cantidad de elementos en los mínimos por columnas:\",  len(minimos_por_columnas))\n",
    "\n",
    "#print(\"Mínimos de cada columna: \", minimos_por_columnas)"
   ]
  },
  {
   "cell_type": "markdown",
   "metadata": {},
   "source": [
    "* Máximo de cada fila, debe devolver un array de longitud igual a la cantidad de filas de la matriz:\n",
    "\n",
    "`axis` representa el eje que se va a reducir, en este caso debemos reducir las columnas, por lo tanto el valor de axis es 1\n"
   ]
  },
  {
   "cell_type": "code",
   "execution_count": 25,
   "metadata": {},
   "outputs": [
    {
     "name": "stdout",
     "output_type": "stream",
     "text": [
      "cantidad de filas de big_array: 300\n",
      "cantidad de elementos en los máximos por filas: 300\n"
     ]
    }
   ],
   "source": [
    "maximos_por_filas = big_array.max(axis=1)\n",
    "\n",
    "cant_filas = big_array.shape[0]\n",
    "\n",
    "print(\"cantidad de filas de big_array:\", cant_filas)\n",
    "\n",
    "print(\"cantidad de elementos en los máximos por filas:\",  len(maximos_por_filas))\n",
    "\n",
    "#print(\"Máximos de cada fila: \", maximos_por_filas)\n"
   ]
  },
  {
   "cell_type": "markdown",
   "metadata": {},
   "source": [
    "* Suma de los elementos de cada fila\n",
    "\n",
    "en este caso tenemos que reducir columnas, por lo tanto el valor de axis es 1\n",
    "\n",
    "> Recuerden que `big_array.sum(axis=1)` es lo mismo que `np.sum(big_array, axis=1)`"
   ]
  },
  {
   "cell_type": "code",
   "execution_count": 26,
   "metadata": {},
   "outputs": [
    {
     "name": "stdout",
     "output_type": "stream",
     "text": [
      "Suma de cada fila:  [18910.33036273 20279.14633071 20456.58297344 19796.15514547\n",
      " 20312.11572238 20166.83973085 19571.65484108 20172.65906289\n",
      " 20721.78910578 20739.00568135 19809.70790564 20612.61873513\n",
      " 20425.50278738 19072.25495072 19568.41708099 19652.86151729\n",
      " 20047.75205379 20147.09003941 19804.32615746 20350.81655519\n",
      " 20273.33281219 18769.85722544 19006.4913321  20410.5636523\n",
      " 20236.25697818 20117.99531226 19977.36466832 20933.91456867\n",
      " 20418.5036841  20530.54326175 19540.2517708  21074.26635655\n",
      " 20062.02056112 20900.32366252 19556.19555206 19466.89151054\n",
      " 19189.42374796 20270.07301021 19798.0866719  21040.84115933\n",
      " 20869.09701017 21220.02649443 20568.0745206  20335.83152359\n",
      " 19391.49009386 19843.10897357 21137.342842   20348.00246468\n",
      " 20784.49623609 20575.13714506 20708.73582908 20487.59057178\n",
      " 20920.82869947 20368.86131967 20944.35872889 20794.20724457\n",
      " 20820.72110523 21183.72676242 20784.95677375 19181.92092683\n",
      " 19918.97842758 20160.39077051 20333.78465588 20592.33594627\n",
      " 20769.76227175 19744.28832037 20344.59785219 20253.92385371\n",
      " 20463.90542232 20892.89193501 19930.72498191 19822.01422014\n",
      " 20484.89536505 20207.44208018 20773.73296712 20269.3433323\n",
      " 19851.9948059  19711.77051272 19875.81873293 19869.88166675\n",
      " 19099.62706995 20788.24969907 19685.04923051 20107.71092149\n",
      " 20704.04173086 21695.11069273 19941.96828817 20676.44099056\n",
      " 19019.32098192 19998.4219802  20539.92070271 19521.30641323\n",
      " 20227.14893978 20291.9843155  21025.58061799 19159.26745922\n",
      " 20965.50470429 19677.18219754 19469.94635863 20956.3363126\n",
      " 20325.67140801 20624.62689523 20496.50663821 21251.03706576\n",
      " 20784.09270166 20216.22147481 19935.0421979  20565.50367249\n",
      " 20234.54171223 19487.81791474 19590.88648001 20267.13641698\n",
      " 21907.09311641 20493.05766733 20186.40245607 19698.00736976\n",
      " 20749.68319107 19553.03049679 20090.0687446  20604.7897511\n",
      " 21120.23715088 19760.75869061 19201.34118206 20842.32238028\n",
      " 21231.38864038 21038.48403076 19468.0939751  19853.65153845\n",
      " 20539.01523839 19992.67610549 20643.42229047 20244.54917349\n",
      " 20692.59308889 19342.94589014 21213.35473215 20805.24452935\n",
      " 19656.86978593 19925.59609085 19621.35750974 20178.24176391\n",
      " 20161.63753156 20452.22024522 20141.16469344 20580.59594296\n",
      " 20989.7781856  19639.82082137 20053.52148551 20871.64525923\n",
      " 20348.06195237 20094.56964398 20269.95663688 19903.80330296\n",
      " 20442.11579269 18613.34280509 18900.46160017 19689.31044265\n",
      " 20761.69573378 20561.27762065 19887.80967601 20247.09435444\n",
      " 19780.24864612 20295.05684933 20852.13795255 19696.21593445\n",
      " 19915.41876252 19548.25737618 20452.16875551 20326.32247713\n",
      " 19908.57195205 20007.45269838 20191.27822382 20500.42051246\n",
      " 20029.20848013 20382.83988958 20718.08523312 20005.02158533\n",
      " 20498.5778782  19892.61200249 19869.49669393 20587.6664935\n",
      " 19243.68578063 20618.77067697 19750.69292162 20942.13622424\n",
      " 20056.74608122 20066.59895787 19921.41295753 20371.00182433\n",
      " 19672.36607787 19624.09588453 20496.28181303 19346.58751575\n",
      " 20672.20090601 19947.36663032 21164.84334044 20197.03200007\n",
      " 19320.27184969 19806.91560567 20143.58166505 19797.25689912\n",
      " 20444.84367767 19731.0474788  19421.97561129 20893.33055074\n",
      " 19899.02644453 19670.58840999 20813.68049557 20298.62225329\n",
      " 19151.79812968 21020.42188554 20274.50196958 20038.84389906\n",
      " 19967.24944781 20297.88294757 20150.11800218 20896.99761532\n",
      " 20012.38169545 21010.4701618  20391.02856773 19062.63436312\n",
      " 21234.55041937 19705.23239043 20031.67839936 21199.51382537\n",
      " 19734.71091434 20145.44175709 20024.32760069 20149.77443148\n",
      " 20400.75892092 20516.9721396  21091.05691309 20835.53484254\n",
      " 19485.53685198 18672.93526228 19698.8753128  19721.39378098\n",
      " 19712.6153568  20229.78800303 19931.56351483 20989.21527316\n",
      " 21343.27709206 20683.9293407  20825.16902056 20271.2937058\n",
      " 20546.30130723 19075.67184391 21003.50839484 19724.12916085\n",
      " 20373.99094054 20291.6424822  21229.58327243 20249.32245639\n",
      " 20065.83744629 20118.88767765 19256.47729608 20715.55029336\n",
      " 20022.0541879  19925.2859752  20714.69649775 20945.74457689\n",
      " 19698.11659969 21266.43036908 20745.89029539 19668.79551649\n",
      " 20692.20659016 19214.50114572 20699.92315177 21763.44462157\n",
      " 21494.5635363  20249.74788185 19499.81358764 19401.19280494\n",
      " 20485.87266242 19802.84416858 18641.48665613 19562.60840952\n",
      " 20310.8109787  20281.40019096 20694.79747408 20575.98319236\n",
      " 19530.85286485 19833.5162922  20646.39658855 19577.81100291\n",
      " 20341.59976063 20050.19353032 20317.45085097 20520.26712942\n",
      " 20333.57131511 20534.95831096 20225.79299637 21048.15063457\n",
      " 21183.65986967 19419.4756296  20673.12387284 19901.21612162\n",
      " 20007.76536231 19593.69482166 20064.73543323 21005.13470631]\n"
     ]
    }
   ],
   "source": [
    "#print(\"Suma de cada fila: \", big_array.sum(axis=1))\n",
    "print(\"Suma de cada fila: \", np.sum(big_array, axis=1))\n"
   ]
  },
  {
   "cell_type": "markdown",
   "source": [
    "<a id=\"section_broadcasting\"></a> \n",
    "### Broadcasting\n",
    "\n",
    "En conjunto con las ufuncs, el broadcasting es una forma de aplicar operaciones sobre los datos sin tener que escribir loops \"for\" en Python nativo que resultan más lentos.\n",
    "\n",
    "Recordemos que cuando operamos sobre arrays de las mismas dimensiones, se pueden hacer operaciones eficientes elemento a elemento.\n",
    "\n",
    "Numpy tiene un conjunto de reglas para aplicar operaciones elemento a elemento en arrays de diferente tamaño. \n",
    "Se proyectan los valores de los arrays igualando las dimensiones de los argumentos, para poder operar sobre los mismos de forma vecotrizada.\n",
    "\n",
    "![Image](img/broadcasting.jpg)\n",
    "\n",
    "El broadcasting en NumPy sigue un conjunto estricto de reglas para determinar la interacción entre las dos arrays:\n",
    "\n",
    "* Regla 1: si los dos arrays difieren en su número de dimensiones (forma), se rellena con 1s a su izquierda aquel que tiene menos dimensiones. \n",
    "\n",
    "* Regla 2: si el tamaño de los dos arrays no coincide en alguna dimensión, el array con tamaño igual a 1 en esa dimensión se estira para que coincida con el tamaño del otro.\n",
    "\n",
    "* Regla 3: si en alguna dimensión los tamaños son diferentes y ninguno es igual a 1, se genera un error."
   ],
   "metadata": {
    "collapsed": false
   }
  },
  {
   "cell_type": "code",
   "execution_count": 28,
   "metadata": {},
   "outputs": [
    {
     "data": {
      "text/plain": [
       "array([5, 6, 7])"
      ]
     },
     "execution_count": 28,
     "metadata": {},
     "output_type": "execute_result"
    }
   ],
   "source": [
    "a = np.array([0, 1, 2])\n",
    "b = np.array([5, 5, 5])\n",
    "a + b"
   ]
  },
  {
   "cell_type": "markdown",
   "metadata": {},
   "source": [
    "En el ejemplo de arriba, \"a + b\" es una operación eficiente porque \"a\" y \"b\" tienen la mismas dimensiones. \n",
    "\n",
    "Las reglas de \"broadcasting\" de Numpy, permiten que la operación siga siendo eficiente llevando los elementos involucrados a la misma dimensión y tamaño.\n"
   ]
  },
  {
   "cell_type": "markdown",
   "metadata": {},
   "source": [
    "Veamos en código los ejemplos de la imagen:"
   ]
  },
  {
   "cell_type": "code",
   "execution_count": 29,
   "metadata": {},
   "outputs": [
    {
     "data": {
      "text/plain": [
       "array([5, 6, 7])"
      ]
     },
     "execution_count": 29,
     "metadata": {},
     "output_type": "execute_result"
    }
   ],
   "source": [
    "# linea 1 de la imagen:\n",
    "\n",
    "a = np.array([0, 1, 2])\n",
    "b = 5\n",
    "a + b"
   ]
  },
  {
   "cell_type": "code",
   "execution_count": 30,
   "metadata": {},
   "outputs": [
    {
     "data": {
      "text/plain": [
       "array([[1., 2., 3.],\n",
       "       [1., 2., 3.],\n",
       "       [1., 2., 3.]])"
      ]
     },
     "execution_count": 30,
     "metadata": {},
     "output_type": "execute_result"
    }
   ],
   "source": [
    "# linea 2 de la imagen:\n",
    "a = np.ones((3, 3))\n",
    "b = np.array([0, 1, 2])\n",
    "a + b"
   ]
  },
  {
   "cell_type": "code",
   "execution_count": 31,
   "metadata": {},
   "outputs": [],
   "source": [
    "# linea 3 de la imagen:"
   ]
  },
  {
   "cell_type": "code",
   "execution_count": 32,
   "metadata": {},
   "outputs": [
    {
     "name": "stdout",
     "output_type": "stream",
     "text": [
      "(3, 1)\n"
     ]
    },
    {
     "data": {
      "text/plain": [
       "array([[0],\n",
       "       [1],\n",
       "       [2]])"
      ]
     },
     "execution_count": 32,
     "metadata": {},
     "output_type": "execute_result"
    }
   ],
   "source": [
    "a = np.array([[0], [1], [2]])\n",
    "print(a.shape)\n",
    "a"
   ]
  },
  {
   "cell_type": "code",
   "execution_count": 33,
   "metadata": {},
   "outputs": [
    {
     "name": "stdout",
     "output_type": "stream",
     "text": [
      "(3,)\n"
     ]
    },
    {
     "data": {
      "text/plain": [
       "array([0, 1, 2])"
      ]
     },
     "execution_count": 33,
     "metadata": {},
     "output_type": "execute_result"
    }
   ],
   "source": [
    "b = np.array([0, 1, 2])\n",
    "print(b.shape)\n",
    "b"
   ]
  },
  {
   "cell_type": "code",
   "execution_count": 34,
   "metadata": {},
   "outputs": [
    {
     "data": {
      "text/plain": [
       "array([[0, 1, 2],\n",
       "       [1, 2, 3],\n",
       "       [2, 3, 4]])"
      ]
     },
     "execution_count": 34,
     "metadata": {},
     "output_type": "execute_result"
    }
   ],
   "source": [
    "a + b"
   ]
  }
 ],
 "metadata": {
  "kernelspec": {
   "display_name": "Python 3",
   "language": "python",
   "name": "python3"
  },
  "language_info": {
   "codemirror_mode": {
    "name": "ipython",
    "version": 3
   },
   "file_extension": ".py",
   "mimetype": "text/x-python",
   "name": "python",
   "nbconvert_exporter": "python",
   "pygments_lexer": "ipython3",
   "version": "3.7.7"
  }
 },
 "nbformat": 4,
 "nbformat_minor": 4
}