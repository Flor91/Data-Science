{
 "cells": [
  {
   "cell_type": "markdown",
   "metadata": {},
   "source": [
    "#### Distribución Bernoulli\n",
    "\n",
    "La distribución Bernoulli es una **distribución de probabilidad discreta**.\n",
    "\n",
    "Un ensayo Bernoulli se define como un experimento aleatorio con sólo dos resultados posibles: éxito o fracaso.\n",
    "\n",
    "La probabilidad de éxito es $p$ y la probabilidad de fracaso es $1-p$\n",
    "\n",
    "Definimos la variable aleatoria X como la función de mapea el resultado éxito al número 1, y fracaso al número 0. Entonces X tiene distribución Bernoulli con parámetro $p \\in (0,1) \\hspace{0.5cm} X \\sim Be(p)$\n",
    "\n",
    "La función de probabilidad es\n",
    "\n",
    "\\begin{equation}\n",
    "  f_X(x)=\\begin{cases}\n",
    "    1-p, & \\text{si $x = 0$} \\\\\n",
    "    p, & \\text{si $x = 1$} \\\\\n",
    "    0, & \\text{en otro caso}\n",
    "  \\end{cases}\n",
    "\\end{equation}\n",
    "\n",
    "Que también puede escribirse como\n",
    "\n",
    "\\begin{equation}\n",
    "  f_X(x)=\\begin{cases}\n",
    "    p^{x}(1-p)^{1-x}, & \\text{si $x \\in \\{0, 1\\}$} \\\\    \n",
    "    0, & \\text{en otro caso}\n",
    "  \\end{cases}\n",
    "\\end{equation}\n",
    "\n",
    "**Ejemplos**:\n",
    "\n",
    "* X: un tratamiento médico es efectivo\n",
    "\n",
    "* X: al lanzar una moneda sale cara\n",
    "\n",
    "* X: al lanzar un dado sale 3\n",
    "\n",
    "---"
   ]
  },
  {
   "cell_type": "markdown",
   "metadata": {},
   "source": [
    "Vamos a ver ahora cómo generar datos con esta distibución de probabilidad.\n",
    "\n",
    "Necesitamos un generador de números aleatorios, que expone métodos para generar números aleatorios con alguna distribución de probabilidad especificada. Construimos este generador de este modo `np.random.default_rng()`\n",
    "\n",
    "https://docs.scipy.org/doc/numpy/reference/random/generator.html\n",
    "\n",
    "Estas son las distribuciones de probabilidad disponibles:\n",
    "https://docs.scipy.org/doc/numpy/reference/random/generator.html#distributions\n",
    "\n",
    "Recordemos que la distribución de Bernoulli es un caso particular de la distribucón Binomial con una única repetición. Por eso vamos a generar datos con distribución empleando el método `binomial` con `n=1` https://docs.scipy.org/doc/numpy/reference/random/generated/numpy.random.Generator.binomial.html#numpy.random.Generator.binomial\n"
   ]
  },
  {
   "cell_type": "code",
   "execution_count": null,
   "metadata": {},
   "outputs": [],
   "source": [
    "import numpy as np\n",
    "random_generator = np.random.default_rng()\n",
    "sample_size = 1000\n",
    "random_bernoulli_data = random_generator.binomial(n=1, p = 0.7, size = sample_size)"
   ]
  },
  {
   "cell_type": "markdown",
   "metadata": {},
   "source": [
    "Usamos la misma función `distribution_plotter` para graficar los datos generados"
   ]
  },
  {
   "cell_type": "code",
   "execution_count": null,
   "metadata": {},
   "outputs": [],
   "source": [
    "import seaborn as sns\n",
    "def distribution_plotter(data, label, bins=None):    \n",
    "    sns.set(rc={\"figure.figsize\": (10, 7)})\n",
    "    sns.set_style(\"white\")    \n",
    "    dist = sns.distplot(data, bins= bins, hist_kws={'alpha':0.2}, kde_kws={'linewidth':5})\n",
    "    dist.set_title('Distribucion de ' + label + '\\n', fontsize=16)"
   ]
  },
  {
   "cell_type": "code",
   "execution_count": null,
   "metadata": {},
   "outputs": [],
   "source": [
    "#print(random_bernoulli_data)\n",
    "distribution_plotter(random_bernoulli_data, \"bernoulli\", bins=[0,.1,.9,1])"
   ]
  },
  {
   "cell_type": "markdown",
   "metadata": {},
   "source": [
    "#### Referencias\n",
    "\n",
    "https://www.statisticshowto.datasciencecentral.com/bernoulli-distribution/\n",
    "\n",
    "Gráficos: https://en.wikipedia.org/wiki/List_of_probability_distributions"
   ]
  }
 ],
 "metadata": {
  "kernelspec": {
   "display_name": "Python 3",
   "language": "python",
   "name": "python3"
  },
  "language_info": {
   "codemirror_mode": {
    "name": "ipython",
    "version": 3
   },
   "file_extension": ".py",
   "mimetype": "text/x-python",
   "name": "python",
   "nbconvert_exporter": "python",
   "pygments_lexer": "ipython3",
   "version": "3.6.7"
  }
 },
 "nbformat": 4,
 "nbformat_minor": 4
}