{
 "cells": [
  {
   "cell_type": "markdown",
   "metadata": {
    "slideshow": {
     "slide_type": "slide"
    }
   },
   "source": [
    "#### Distribución Uniforme\n",
    "\n",
    "##### Distribución Uniforme Discreta\n",
    "\n",
    "Decimos que una variable aleatoria X tiene una distribución uniforme discreta sobre el conjunto de n números {x1, x2, ..., xn} si **la probabilidad de que X tome cualquiera de estos valores es constante 1/n**. \n",
    "\n",
    "Esta distribución surge en espacios de probabilidad **equiprobables**, esto es, en situaciones en donde tenemos n resultados diferentes y todos ellos tienen la misma probabilidad de ocurrir.\n",
    "\n",
    "Se escribe \n",
    "\n",
    "$X \\sim \\text{unif}\\{x_1, x_2, ..., x_n\\} $\n",
    "\n",
    "en donde el símbolo \"$\\sim$\" se lee \"se distribuye como\" o \"tiene una distribución\".\n",
    "\n",
    "La distribución de probabilidad de esa variable aleatoria es:\n",
    "\n",
    "\\begin{equation}\n",
    "  f(x)=\\begin{cases}\n",
    "    1/n, & \\text{si x = $x_1, x_2, ..., x_n$}\\\\\n",
    "    0, & \\text{en otro caso}.\n",
    "  \\end{cases}\n",
    "\\end{equation}\n",
    "\n",
    "\n",
    "<!--![Image](img/prob_uniforme_discreta.png)-->\n",
    "<img src=\"img/prob_uniforme_discreta.png\" width=\"500\"/>\n",
    "\n",
    "\\begin{equation}\n",
    "n = 5  \\text{    donde    } n = b − a + 1\n",
    "\\end{equation}\n",
    "\n",
    "**Ejemplos**:\n",
    "\n",
    "* X: puntuación en el lanzamiento de un dado regular\n",
    "\n",
    "* X: resultado del lanzamiento de una moneda\n",
    "\n",
    "* X: resultado de un juego de lotería\n",
    "\n",
    "\n",
    "#### Distribución Uniforme Continua\n",
    "\n",
    "Decimos que una variable aleatoria X tiene una distribución uniforme continua en el intervalo (a,b), donde a y b son números reales, si su función de densidad es \n",
    "\n",
    "\\begin{equation}\n",
    "  f_X(x)=\\begin{cases}\n",
    "    \\frac{1}{b-a}, & \\text{si $a \\lt x \\lt b$} \\\\\n",
    "    0, & \\text{en otro caso}.\n",
    "  \\end{cases}\n",
    "\\end{equation}\n",
    "\n",
    "a y b son los parámetros de la distribución uniforme continua.\n",
    "\n",
    "La distribución uniforme asigna probabilidad positiva constante y mayor a cero sólo a valores de la variable aleatoria en determinado rango.\n",
    "\n",
    "\\begin{equation}\n",
    "  F_X(x)=\\begin{cases}\n",
    "    0, & \\text{si $x \\lt a$} \\\\\n",
    "    \\frac{x - a}{b - a}, & \\text{si $a \\le x \\lt b$} \\\\\n",
    "    1, & \\text{si $x \\ge b$}\n",
    "  \\end{cases}\n",
    "\\end{equation}\n",
    "\n",
    "\n",
    "<img src=\"img/prob_uniforme_continua.png\" width=\"500\"/>\n",
    "\n",
    "**Ejemplos**:\n",
    "\n",
    "* Una llamada telefónica llegó a in conmutador en un tiempo, al azar, dentro de un período de 1 minuto. El conmutador estuvo ocupado durante 15 segundos en ese minuto. ¿Cuál es la probabilidad de que la llamada haya llegado mientras el conmutador no estuvo ocupado?\n",
    "\n",
    "* Dos amigos deben encontrarse en una parada de colectivo entre las 9:00 y las 10:00. Cada uno esperará un máximo de 10 minutos. ¿Cuál es la probabilidad de que no se encuentren si el amigo1 llegará a las 9:30?\n",
    "\n",
    "---"
   ]
  },
  {
   "cell_type": "markdown",
   "metadata": {
    "slideshow": {
     "slide_type": "slide"
    }
   },
   "source": [
    "Vamos a ver ahora cómo generar datos con estas distibuciones de probabilidad.\n",
    "\n",
    "Necesitamos un generador de números aleatorios, que expone métodos para generar números aleatorios con alguna distribución de probabilidad especificada. Construimos este generador de este modo `np.random.default_rng()`\n",
    "\n",
    "https://docs.scipy.org/doc/numpy/reference/random/generator.html\n",
    "\n",
    "Estas son las distribuciones de probabilidad disponibles:\n",
    "https://docs.scipy.org/doc/numpy/reference/random/generator.html#distributions\n",
    "\n",
    "Para generar datos con distribución **uniforme discreta** emplearemos el método `choice`\n",
    "\n",
    "https://docs.scipy.org/doc/numpy/reference/random/generated/numpy.random.Generator.choice.html\n",
    "\n",
    "Para generar datos con distribución **uniforme continua** emplearemos el método `uniform`\n",
    "\n",
    "https://docs.scipy.org/doc/numpy/reference/random/generated/numpy.random.Generator.uniform.html#numpy.random.Generator.uniform\n"
   ]
  },
  {
   "cell_type": "code",
   "execution_count": null,
   "metadata": {
    "slideshow": {
     "slide_type": "fragment"
    }
   },
   "outputs": [],
   "source": [
    "import numpy as np\n",
    "random_generator = np.random.default_rng()\n",
    "random_uniform_cont_data = random_generator.uniform(low = 3, high = 17, size = 30)\n",
    "\n",
    "possible_values = [3, 4, 5, 6, 7, 8, 9, 10, 11, 12, 13, 14, 15, 16]\n",
    "random_uniform_disc_data = random_generator.choice(possible_values, size = 30)"
   ]
  },
  {
   "cell_type": "markdown",
   "metadata": {},
   "source": [
    "Usando la función `distribution_plotter` vamos a graficar los valores generados"
   ]
  },
  {
   "cell_type": "code",
   "execution_count": null,
   "metadata": {
    "slideshow": {
     "slide_type": "fragment"
    }
   },
   "outputs": [],
   "source": [
    "import seaborn as sns\n",
    "def distribution_plotter(data, label, bins=None):    \n",
    "    sns.set(rc={\"figure.figsize\": (10, 7)})\n",
    "    sns.set_style(\"white\")    \n",
    "    dist = sns.distplot(data, bins= bins, hist_kws={'alpha':0.2}, kde_kws={'linewidth':5})\n",
    "    dist.set_title('Distribucion de ' + label + '\\n', fontsize=16)"
   ]
  },
  {
   "cell_type": "code",
   "execution_count": null,
   "metadata": {
    "slideshow": {
     "slide_type": "fragment"
    }
   },
   "outputs": [],
   "source": [
    "print(random_uniform_cont_data)\n",
    "distribution_plotter(random_uniform_cont_data, \"uniforme continua\")"
   ]
  },
  {
   "cell_type": "code",
   "execution_count": null,
   "metadata": {},
   "outputs": [],
   "source": [
    "print(random_uniform_disc_data)\n",
    "\n",
    "distribution_plotter(random_uniform_disc_data, \"uniforme discreta\", bins=possible_values)"
   ]
  },
  {
   "cell_type": "markdown",
   "metadata": {},
   "source": [
    "<div id=\"caja1\" style=\"float:left;width: 100%;\">\n",
    "  <div style=\"float:left;width: 15%;\"><img src=\"../../../common/icons/para_seguir_pensando.png\" style=\"align:left\"/> </div>\n",
    "  <div style=\"float:left;width: 85%;\"><label>¿Estas distribuciones se parecen?</label></div>\n",
    "</div>\n",
    "\n",
    "<div id=\"caja2\" style=\"float:left;width: 100%;\">\n",
    "  <div style=\"float:left;width: 15%;\"><img src=\"../../../common/icons/ponete_a_prueba.png\" style=\"align:left\"/> </div>\n",
    "  <div style=\"float:left;width: 85%;\"><label>Prueben ahora generando, 100, 1000, 10000 y 100000 datos y comparen los gráficos. ¿Qué pueden concluir?</label></div>\n",
    "</div>\n",
    "\n"
   ]
  },
  {
   "cell_type": "code",
   "execution_count": null,
   "metadata": {},
   "outputs": [],
   "source": [
    "# modificar este valor:\n",
    "size_sample = 30\n",
    "\n",
    "random_uniform_cont_data = random_generator.uniform(low = 3, high = 17, size = size_sample)\n",
    "\n",
    "possible_values = [3, 4, 5, 6, 7, 8, 9, 10, 11, 12, 13, 14, 15, 16]\n",
    "random_uniform_disc_data = random_generator.choice(possible_values, size = size_sample)\n",
    "\n",
    "distribution_plotter(random_uniform_disc_data, \"uniforme discreta\")\n",
    "distribution_plotter(random_uniform_cont_data, \"uniforme continua\")"
   ]
  },
  {
   "cell_type": "markdown",
   "metadata": {},
   "source": [
    "#### Referencias\n",
    "\n",
    "Gráficos: https://en.wikipedia.org/wiki/List_of_probability_distributions"
   ]
  }
 ],
 "metadata": {
  "kernelspec": {
   "display_name": "Python 3",
   "language": "python",
   "name": "python3"
  },
  "language_info": {
   "codemirror_mode": {
    "name": "ipython",
    "version": 3
   },
   "file_extension": ".py",
   "mimetype": "text/x-python",
   "name": "python",
   "nbconvert_exporter": "python",
   "pygments_lexer": "ipython3",
   "version": "3.6.10"
  }
 },
 "nbformat": 4,
 "nbformat_minor": 4
}