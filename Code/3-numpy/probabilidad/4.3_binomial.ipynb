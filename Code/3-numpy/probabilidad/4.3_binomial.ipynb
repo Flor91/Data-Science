{
 "cells": [
  {
   "cell_type": "code",
   "execution_count": null,
   "metadata": {},
   "outputs": [],
   "source": [
    "# initial setup\n",
    "try:\n",
    "    # settings colab:\n",
    "    import google.colab\n",
    "except ModuleNotFoundError:    \n",
    "    # settings local:\n",
    "    %run \"../../../common/0_notebooks_base_setup.py\"    "
   ]
  },
  {
   "cell_type": "markdown",
   "metadata": {},
   "source": [
    "---\n",
    "\n",
    "<img src='../../../common/logo_DH.png' align='left' width=35%/>\n"
   ]
  },
  {
   "cell_type": "markdown",
   "metadata": {},
   "source": [
    "#### Distribución Binomial\n",
    "\n",
    "La distribución Binomial es una **distribución de probabilidad discreta**.\n",
    "\n",
    "Mide el número de éxitos en una secuencia de n ensayos independientes entre sí, con una probabilidad fija p de ocurrencia del éxito entre los ensayos.\n",
    "\n",
    "Sea n los intentos, x la cantidad de éxitos que buscamos y p la probabilidad de éxito en cada prueba (independientes entre sí).\n",
    "\n",
    "\\begin{equation}\n",
    "  P(X = x) = {n \\choose x} p^x (1-p)^{n-x}\n",
    "\\end{equation}\n",
    "\n",
    "**Ejemplos**:\n",
    "\n",
    "* X: cantidad de pacientes en un grupo de 10 para los que fue efectivo un tratamiento médico\n",
    "\n",
    "* X: cantidad de caras al lanzar una moneda 5 veces\n",
    "\n",
    "* X: cantidad de 3 al lanzar un dado 10 veces\n",
    "\n",
    "\n",
    "<div id=\"caja6\" style=\"float:left;width: 100%;\">\n",
    "  <div style=\"float:left;width: 15%;\"><img src=\"../../../common/icons/haciendo_foco.png\" style=\"align:left\"/> </div>\n",
    "  <div style=\"float:left;width: 85%;\"><label>Una variable aleatoria con distribución Bernoulli es una Binomial con n= 1</label></div>\n",
    "</div>\n",
    "\n",
    "\n",
    "---\n"
   ]
  },
  {
   "cell_type": "markdown",
   "metadata": {},
   "source": [
    "Vamos a ver ahora cómo generar datos con esta distibución de probabilidad.\n",
    "\n",
    "Necesitamos un generador de números aleatorios, que expone métodos para generar números aleatorios con alguna distribución de probabilidad especificada. Construimos este generador de este modo `np.random.default_rng()`\n",
    "\n",
    "https://docs.scipy.org/doc/numpy/reference/random/generator.html\n",
    "\n",
    "Estas son las distribuciones de probabilidad disponibles:\n",
    "https://docs.scipy.org/doc/numpy/reference/random/generator.html#distributions\n",
    "\n",
    "Vamos a generar datos con distribución empleando el método `binomial` con `n` la cantidad de veces que hacemos el test, `p` la probabilidad de éxito\n",
    "https://docs.scipy.org/doc/numpy/reference/random/generated/numpy.random.Generator.binomial.html#numpy.random.Generator.binomial"
   ]
  },
  {
   "cell_type": "code",
   "execution_count": null,
   "metadata": {},
   "outputs": [],
   "source": [
    "import seaborn as sns\n",
    "def distribution_plotter(data, label, bins=None):    \n",
    "    sns.set(rc={\"figure.figsize\": (10, 7)})\n",
    "    sns.set_style(\"white\")    \n",
    "    dist = sns.distplot(data, bins= bins, hist_kws={'alpha':0.2}, kde_kws={'linewidth':5})\n",
    "    dist.set_title('Distribucion de ' + label + '\\n', fontsize=16)"
   ]
  },
  {
   "cell_type": "markdown",
   "metadata": {},
   "source": [
    "Simulemos el resultado de tirar una moneda 10 veces, repitiendo el experimento 10000 veces, y grafiquemos el resultado."
   ]
  },
  {
   "cell_type": "code",
   "execution_count": null,
   "metadata": {},
   "outputs": [],
   "source": [
    "import numpy as np\n",
    "random_generator = np.random.default_rng()\n",
    "n=10\n",
    "p=0.5\n",
    "sample_size = 100\n",
    "random_binomial_data = random_generator.binomial(n=n, p=p, size = sample_size)\n",
    "\n",
    "distribution_plotter(random_binomial_data, \"Binomial\")"
   ]
  },
  {
   "cell_type": "markdown",
   "metadata": {},
   "source": [
    "<div id=\"caja2\" style=\"float:left;width: 100%;\">\n",
    "  <div style=\"float:left;width: 15%;\"><img src=\"../../../common/icons/ponete_a_prueba.png\" style=\"align:left\"/> </div>\n",
    "  <div style=\"float:left;width: 85%;\"><label>Prueben ahora generando 1000, 10000 y 100000 datos y comparen los gráficos. ¿Qué pueden concluir?</label></div>\n",
    "</div>"
   ]
  }
 ],
 "metadata": {
  "kernelspec": {
   "display_name": "Python 3",
   "language": "python",
   "name": "python3"
  },
  "language_info": {
   "codemirror_mode": {
    "name": "ipython",
    "version": 3
   },
   "file_extension": ".py",
   "mimetype": "text/x-python",
   "name": "python",
   "nbconvert_exporter": "python",
   "pygments_lexer": "ipython3",
   "version": "3.6.7"
  }
 },
 "nbformat": 4,
 "nbformat_minor": 4
}
