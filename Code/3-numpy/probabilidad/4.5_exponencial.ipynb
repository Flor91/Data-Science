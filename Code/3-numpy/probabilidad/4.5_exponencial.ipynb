{
 "cells": [
  {
   "cell_type": "code",
   "execution_count": null,
   "metadata": {},
   "outputs": [],
   "source": [
    "# initial setup\n",
    "try:\n",
    "    # settings colab:\n",
    "    import google.colab\n",
    "except ModuleNotFoundError:    \n",
    "    # settings local:\n",
    "    %run \"../../../common/0_notebooks_base_setup.py\"    "
   ]
  },
  {
   "cell_type": "markdown",
   "metadata": {},
   "source": [
    "---\n",
    "\n",
    "<img src='../../../common/logo_DH.png' align='left' width=35%/>\n"
   ]
  },
  {
   "cell_type": "markdown",
   "metadata": {},
   "source": [
    "#### Distribución Exponencial\n",
    "\n",
    "La distribución exponencial es una **distribución de probabilidad continua** que describe el tiempo entre eventos en un proceso de Poisson.\n",
    "\n",
    "Su función de densidad de probabilidad\n",
    "\n",
    "\\begin{equation}\n",
    "    f_X(x) = P(x) = \\begin{cases}\n",
    "    \\lambda e^{-\\lambda x} & \\text{si $x \\ge 0$} \\\\    \n",
    "    0 & \\text{en otro caso}\n",
    "  \\end{cases}        \n",
    "\\end{equation}\n",
    "\n",
    "Su función de distribución acumulada es \n",
    "\\begin{equation}\n",
    "F_X(x) = P(X <= x) = \\begin{cases}\n",
    "    0 & \\text{si $x \\lt 0$} \\\\    \n",
    "    1 - e^{-\\lambda x} & \\text{si $x \\ge 0$} \n",
    "  \\end{cases}        \n",
    "\\end{equation}"
   ]
  },
  {
   "cell_type": "markdown",
   "metadata": {},
   "source": [
    "<div>\n",
    "<div>Función de densidad de probabilidad:</div><div>\n",
    "<img src=\"img/prob_exponential.png\" width=\"500\"/></div>\n",
    "</div>\n",
    "\n",
    "<div>\n",
    "<div>Función de distribución de probabilidad:</div><div>\n",
    "<img src=\"img/prob_exponential_cdf.png\" width=\"500\"/></div>\n",
    "</div>\n",
    "\n",
    "#### Ejemplos\n",
    "\n",
    "* X: Tiempo entre el ingreso de pacientes consecutivos en la guardia de un hospital en una hora\n",
    "\n",
    "* X: Tiempo entre la llegada de autos consecutivos a una cabina de peaje\n",
    "\n",
    "* X: Tiempo entre llamados consecutivos que llegan a un operador en un call center en la mañana.\n",
    "\n",
    "\n",
    "---"
   ]
  },
  {
   "cell_type": "markdown",
   "metadata": {},
   "source": [
    "<div id=\"caja1\" style=\"float:left;width: 100%;\">\n",
    "  <div style=\"float:left;width: 15%;\"><img src=\"../../../common/icons/ponete_a_prueba.png\" style=\"align:left\"/> </div>\n",
    "  <div style=\"float:left;width: 85%;\"><label>Prueben ahora generando 100000 datos para esta distribución con distintos valores de lambda (0.5, 1, 1.5, 10), usando como modelo el código que vemos a continuación, y comparen los gráficos. ¿Qué pueden concluir?</label></div>\n",
    "</div>\n",
    "\n",
    "\n",
    "Observemos en la documentación, que el parámetro que recibe es beta en lugar de lambda: $\\lambda$ = 1/$ \\beta$https://docs.scipy.org/doc/numpy/reference/random/generated/numpy.random.Generator.exponential.html#numpy.random.Generator.exponential \n"
   ]
  },
  {
   "cell_type": "code",
   "execution_count": null,
   "metadata": {},
   "outputs": [],
   "source": [
    "import seaborn as sns\n",
    "def distribution_plotter(data, label, bins=None):    \n",
    "    sns.set(rc={\"figure.figsize\": (10, 7)})\n",
    "    sns.set_style(\"white\")    \n",
    "    dist = sns.distplot(data, bins= bins, hist_kws={'alpha':0.2}, kde_kws={'linewidth':5})\n",
    "    dist.set_title('Distribucion de ' + label + '\\n', fontsize=16)"
   ]
  },
  {
   "cell_type": "code",
   "execution_count": null,
   "metadata": {},
   "outputs": [],
   "source": [
    "import numpy as np\n",
    "random_generator = np.random.default_rng()\n",
    "\n",
    "lambda_value = .5\n",
    "beta_value = 1.0 / lambda_value\n",
    "sample_size = 100000\n",
    "random_exponential_data_1 = random_generator.exponential(scale=beta_value, size = sample_size)\n",
    "\n",
    "lambda_value = 1\n",
    "beta_value = 1.0 / lambda_value\n",
    "sample_size = 100000\n",
    "random_exponential_data_2 = random_generator.exponential(scale=beta_value, size = sample_size)\n",
    "\n",
    "lambda_value = 1.5\n",
    "beta_value = 1.0 / lambda_value\n",
    "sample_size = 100000\n",
    "random_exponential_data_3 = random_generator.exponential(scale=beta_value, size = sample_size)\n",
    "\n",
    "\n",
    "distribution_plotter(random_exponential_data_1, \"Exponential\")\n",
    "distribution_plotter(random_exponential_data_2, \"Exponential\")\n",
    "distribution_plotter(random_exponential_data_3, \"Exponential\")"
   ]
  },
  {
   "cell_type": "markdown",
   "metadata": {},
   "source": [
    "---\n",
    "\n",
    "#### Referencias\n",
    "\n",
    "https://towardsdatascience.com/what-is-exponential-distribution-7bdd08590e2a\n",
    "\n",
    "Gráficos: https://es.wikipedia.org/wiki/Distribuci%C3%B3n_exponencial"
   ]
  }
 ],
 "metadata": {
  "kernelspec": {
   "display_name": "Python 3",
   "language": "python",
   "name": "python3"
  },
  "language_info": {
   "codemirror_mode": {
    "name": "ipython",
    "version": 3
   },
   "file_extension": ".py",
   "mimetype": "text/x-python",
   "name": "python",
   "nbconvert_exporter": "python",
   "pygments_lexer": "ipython3",
   "version": "3.6.7"
  }
 },
 "nbformat": 4,
 "nbformat_minor": 4
}
