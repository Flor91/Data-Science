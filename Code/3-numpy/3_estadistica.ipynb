{
 "cells": [
  {
   "cell_type": "markdown",
   "metadata": {},
   "source": [
    "# Numpy, Estadística, Probabilidades"
   ]
  },
  {
   "cell_type": "markdown",
   "metadata": {},
   "source": [
    "## Estadística\n",
    "\n",
    "En esta parte vamos a revisar conceptos de estadística descriptiva.\n",
    "\n",
    "La estadística descriptiva busca describir, sumarizar y comprender los datos.\n",
    "\n",
    "Para ello empleamos Medidas de Tendencia Central, y medidas de Variabilidad.\n",
    "\n",
    "La función de las Medidas de Tendencia Central es proveer información descriptiva sobre el valor numérico que es considerado el más usual para una variable cuantitativa.\n",
    "\n",
    "Las medidas de tendencia central son\n",
    "* **Media**\n",
    "\n",
    "Dados los n números ${\\{x_{1},x_{2},\\ldots ,x_{n}\\}}$ la media aritmética se define como: \n",
    "\n",
    "\\begin{equation}\n",
    "    \\bar {x} = {\\frac {1}{n}} \\sum _{i=1}^{n}x_{i} ={\\frac {x_{1}+x_{2}+\\cdots +x_{n}}{n}}\n",
    "\\end{equation}\n",
    "\n",
    "* **Mediana**\n",
    "\n",
    "Sean ${ x_{1},x_{2},x_{3},\\ldots ,x_{n} }$ los datos de una muestra ordenada en orden creciente y designando la mediana como $M_{e}$, distinguimos dos casos:\n",
    "\n",
    "a) Si n es impar, la mediana es el valor que ocupa la posición $(n+1)/2$ una vez que los datos han sido ordenados (en orden creciente o decreciente), porque este es el valor central. Es decir: $M_{e}=x_{{(n+1)/2}}$.\n",
    "\n",
    "b) Si n es par, la mediana es la media aritmética de los dos valores centrales. Cuando $n$ es par, los dos datos que están en el centro de la muestra ocupan las posiciones $n/2$ y $(n/2)+1$. Es decir: $M_{e}=(x_{{{\\frac{n}{2}}}}+x_{{{{\\frac{n}{2}}}+1}})/2$.\n",
    "\n",
    "\n",
    "* **Moda**\n",
    "\n",
    "Es el valor del dato con mayor frecuencia en un conjunto.\n",
    "\n",
    "Las medidas de variabilidad o dispersión nos indican si los valores de los datos están próximos entre sí o si \n",
    "por el contrario están muy dispersos. Estas medidas se determinan en función de la distancia entre los datos y algún estadístico de tendencia central.\n",
    "\n",
    "Las medidas de variabilidad son\n",
    "* **Rango**\n",
    "\n",
    "Sean ${ x_{1},x_{2},x_{3},\\ldots ,x_{n} }$ los datos de una muestra ordenada en orden creciente, el rango es $x_{n} - x_{1}$\n",
    "\n",
    "\n",
    "* **Varianza**\n",
    "\n",
    "Si tenemos un conjunto de valores de una variable, la varianza se calcula de la siguiente forma:\n",
    "\n",
    "\\begin{equation}\n",
    "\\sigma_{n}^{2} = \\frac{1}{n} \\sum _{i=1}^{n} (x_i - \\bar{X})^{2}\n",
    "\\end{equation}\n",
    "\n",
    "Siendo:\n",
    "\n",
    "$x_{i}$: cada dato\n",
    "\n",
    "$\\bar{X}$: media de los datos\n",
    "\n",
    "$n$: número de datos\n",
    "\n",
    "\n",
    "* **Desvío Estándar**\n",
    "\n",
    "Es la raíz cuadrada de la varianza\n",
    "\n",
    "\\begin{equation}\n",
    "\\sigma_{n} = \\sqrt{\\frac{1}{n} \\sum _{i=1}^{n} (x_i - \\bar{X})^{2}}\n",
    "\\end{equation}\n",
    "\n",
    "\n",
    "* **Coeficiente de Variación**\n",
    "\n",
    "Es el desvío estándar dividido por la media\n",
    "\n",
    "\\begin{equation}\n",
    "CV = \\frac{\\sigma_{n}}{\\bar{X}} . 100 \n",
    "\\end{equation}\n",
    "\n",
    "\n",
    "\n",
    "\n",
    "NumPy tiene funciones para calcular todas estas medidas.\n",
    "\n",
    "---\n",
    "\n"
   ]
  },
  {
   "cell_type": "markdown",
   "metadata": {},
   "source": [
    "Vamos a ver cómo calcular algunas medidas de estadística descriptiva usando Numpy.\n",
    "\n",
    "Para eso, usaremos datos que tenemos en un csv con tres poblaciones:\n",
    "* conejos\n",
    "* linces \n",
    "* zanahorias\n",
    "\n",
    "Leeremos los datos del csv usando `genfromtxt` de Numpy\n",
    "\n",
    "La primera columna de la matriz corresponde al año, la segunda a la población de conejos, la tercera corresponde a la población de linces, y la cuarta a la población de zanahorias.\n",
    "\n",
    "Y luego vamos a convertir en arrays, que aprendimos a usar recientemente, cada una de sus columnas. ¿Cómo hacemos esto?"
   ]
  },
  {
   "cell_type": "code",
   "execution_count": null,
   "metadata": {},
   "outputs": [],
   "source": [
    "import numpy as np\n",
    "\n",
    "data_location = '../Data/populations.txt'\n",
    "data = np.genfromtxt(data_location, skip_header=1, delimiter='\\t')\n",
    "data"
   ]
  },
  {
   "cell_type": "markdown",
   "metadata": {},
   "source": [
    "Definimos variables con el índice que corresponde a cada población:"
   ]
  },
  {
   "cell_type": "code",
   "execution_count": null,
   "metadata": {},
   "outputs": [],
   "source": [
    "anno_col_index  = 0\n",
    "conejos_col_index = 1\n",
    "linces_col_index = 2\n",
    "zanahorias_col_index = 3"
   ]
  },
  {
   "cell_type": "markdown",
   "metadata": {},
   "source": [
    "Vamos a crear un array de Numpy para cada población y para el año, usando slicing (si no lo recuerdan, revisen la clase  de Numpy):"
   ]
  },
  {
   "cell_type": "code",
   "execution_count": null,
   "metadata": {},
   "outputs": [],
   "source": [
    "anno = data[:, anno_col_index]\n",
    "#print(anno)\n",
    "conejos = data[:, conejos_col_index]\n",
    "#print(conejos)\n",
    "linces = data[:, linces_col_index]\n",
    "#print(linces)\n",
    "zanahorias = data[:, zanahorias_col_index]\n",
    "#print(zanahorias)"
   ]
  },
  {
   "cell_type": "markdown",
   "metadata": {},
   "source": [
    "Y por último vamos crear una variable poblaciones, que tenga todos los datos de la matriz data menos la columna \"# year\""
   ]
  },
  {
   "cell_type": "code",
   "execution_count": null,
   "metadata": {},
   "outputs": [],
   "source": [
    "poblaciones = data[:, 1:]\n",
    "poblaciones"
   ]
  },
  {
   "cell_type": "markdown",
   "metadata": {},
   "source": [
    "<a id=\"section_descriptive\"></a> \n",
    "### Estadística descriptiva\n",
    "[volver a TOC](#section_toc)\n",
    "\n",
    "Para cada variable de la serie histórica, calculamos la media y el desvío. Redondeamos los valores para que tengan sólo 2 decimales.\n",
    "\n",
    "Vamos a usar los métodos de Numpy\n",
    "* **mean**: calcula la media de los valores pasados en el primer parámetro https://docs.scipy.org/doc/numpy/reference/generated/numpy.mean.html\n",
    "* **std**: calcula el desvio standard de los valores pasados en el primer parámetro  https://docs.scipy.org/doc/numpy/reference/generated/numpy.std.html\n",
    "* **around**: redondea los valores a la cantidad de decimales pasada como parámetro, el default es 0 https://docs.scipy.org/doc/numpy/reference/generated/numpy.around.html\n",
    "\n"
   ]
  },
  {
   "cell_type": "markdown",
   "metadata": {},
   "source": [
    "Ahora vamos a calcular la media de cada una de las poblaciones usando la matriz `poblaciones` y el método `mean` de Numpy, redondenado a dos decimales.\n",
    "\n",
    "¿Qué valor de `axis` debemos usar? ¿Por qué?"
   ]
  },
  {
   "cell_type": "markdown",
   "metadata": {},
   "source": [
    "Respuesta: Cada población está representada por una columna en la matriz poblaciones, por lo tanto para calcular la media por población debemos colapsar las filas, y para eso el valor de axis debe ser 0"
   ]
  },
  {
   "cell_type": "code",
   "execution_count": null,
   "metadata": {},
   "outputs": [],
   "source": [
    "print (\"        Conejos, Linces, Zanahorias\")\n",
    "print (\"Mean:\", np.around(poblaciones.mean(axis=0), decimals=2))\n",
    "print (\"Std:\", np.around(poblaciones.std(axis=0), decimals=2))"
   ]
  },
  {
   "cell_type": "markdown",
   "metadata": {},
   "source": [
    "A continuación, calculamos para cada especie el año en el que tuvieron máxima población. \n",
    "\n",
    "Para eso vamos a usar el método `argmax` de Numpy que devuelve el índice en el array del valor máximo https://docs.scipy.org/doc/numpy/reference/generated/numpy.argmax.html\n",
    "\n",
    "Igual que en el punto anterior, las poblaciones están representadas por columnas, entonces debemos colapsar filas y así axis debe tener valor 0. \n",
    "\n",
    "`indice_max_poblacion` tendrá tantos elementos como poblaciones considero (3 en este caso: conejos, linces, zanahorias) y cada elemento será **el índice de la fila** donde esa población tuvo la máxima cantidad de individuos."
   ]
  },
  {
   "cell_type": "code",
   "execution_count": null,
   "metadata": {},
   "outputs": [],
   "source": [
    "indice_max_poblacion = np.argmax(poblaciones, axis=0)\n",
    "indice_max_poblacion"
   ]
  },
  {
   "cell_type": "markdown",
   "metadata": {},
   "source": [
    "Por lo tanto, la población de conejos fue máxima en la cuarta fila, la de linces en la quinta fila, la de zanahorias en la primer fila.\n",
    "\n",
    "Veamos a que años corresponden esas filas, usando Fancy indexing (si no lo recuerdan, por favor revisen la guía de numpy1!)"
   ]
  },
  {
   "cell_type": "code",
   "execution_count": null,
   "metadata": {},
   "outputs": [],
   "source": [
    "annos_con_maximos = anno[indice_max_poblacion]\n",
    "annos_con_maximos"
   ]
  },
  {
   "cell_type": "markdown",
   "metadata": {},
   "source": [
    "Entonces la máxima población de conejos fue en 1903, la de linces fue en 1904, y la de zanahorias fue en 1900"
   ]
  },
  {
   "cell_type": "code",
   "execution_count": null,
   "metadata": {},
   "outputs": [],
   "source": [
    "# Fancy Indexing\n",
    "print (\"                          Conejos, Linces, Zanahorias\")\n",
    "print (\"Años de máxima población:\", anno[indice_max_poblacion])"
   ]
  },
  {
   "cell_type": "markdown",
   "metadata": {},
   "source": [
    "Como adicional, vamos a graficar estas tres poblaciones para ver si los resultados que obtuvimos se corresponden con los graficados. \n",
    "\n",
    "En unos días vamos a tener una clase de visualización y veremos en detalle bibliotecas como `matplotlib` que usamos ahora de forma muy básica."
   ]
  },
  {
   "cell_type": "code",
   "execution_count": null,
   "metadata": {},
   "outputs": [],
   "source": [
    "%matplotlib inline\n",
    "import matplotlib.pyplot as plt\n",
    "plt.plot(anno, conejos, anno, linces, anno, zanahorias) \n",
    "plt.legend(('Conejos (hares)', 'Linces (lynxes)', 'Zanahorias (carrots)'), loc=(1.05, 0.5)) \n",
    "plt.show()"
   ]
  },
  {
   "cell_type": "markdown",
   "metadata": {},
   "source": [
    "<div id=\"ejercicio1\" style=\"float:left;width: 100%;\">\n",
    "  <div style=\"float:left;width: 15%;\"><img src=\"../../../common/icons/ponete_a_prueba.png\" style=\"align:left\"/> </div>\n",
    "    <div style=\"float:left;width: 85%;\"><label>\n",
    "<b>Ejercicio</b>:\n",
    "    \n",
    "¿En qué años alguna de las poblaciones se encuentra por encima de 50000?\n",
    "    \n",
    "Ayuda: boolean indexing\n",
    "    \n",
    "Ayuda 2: podemos resolverlo usando la matriz poblaciones o usando los array de poblaciones por separado\n",
    "    \n",
    "Podemos autocorregir los ejercicios mirando el gráfico</label></div>\n",
    "</div>\n",
    "    \n"
   ]
  },
  {
   "cell_type": "markdown",
   "metadata": {},
   "source": [
    "<div id=\"ejercicio2\" style=\"float:left;width: 100%;\">\n",
    "  <div style=\"float:left;width: 15%;\"><img src=\"../../../common/icons/ponete_a_prueba.png\" style=\"align:left\"/> </div>\n",
    "    <div style=\"float:left;width: 85%;\"><label>\n",
    "<b>Ejercicio</b>:\n",
    "    \n",
    "¿En qué dos años, cada especie tuvo sus niveles más bajos de población?\n",
    "\n",
    "Ayuda: pueden buscar la documentación de `argsort` de Numpy\n",
    "    \n",
    "Ayuda 2: podemos resolverlo usando la matriz poblaciones o usando los array de poblaciones por separado\n",
    "    \n",
    "Podemos autocorregir los ejercicios mirando el gráfico</label></div>\n",
    "</div>\n",
    "    "
   ]
  },
  {
   "cell_type": "markdown",
   "metadata": {},
   "source": [
    "#### Covarianza\n",
    "\n",
    "La covarianza es un valor que indica el grado de variación conjunta de dos variables aleatorias respecto a sus medias. \n",
    "\n",
    "Es el dato básico para determinar si existe una dependencia entre ambas variables \n",
    "\n",
    "El método que calcula la covarianza en Numpy es `cov`\n",
    "https://docs.scipy.org/doc/numpy/reference/generated/numpy.cov.html"
   ]
  },
  {
   "cell_type": "code",
   "execution_count": null,
   "metadata": {},
   "outputs": [],
   "source": [
    "np.cov([conejos, linces, zanahorias])"
   ]
  },
  {
   "cell_type": "markdown",
   "metadata": {},
   "source": [
    "<div id=\"caja1\" style=\"float:left;width: 100%;\">\n",
    "  <div style=\"float:left;width: 15%;\"><img src=\"../../../common/icons/para_seguir_pensando.png\" style=\"align:left\"/> </div>\n",
    "  <div style=\"float:left;width: 85%;\"><label>Ahora intentemos responder estas preguntas:\n",
    "\n",
    "      \n",
    "* **¿Puedo comparar las distintas varianzas? ¿Por qué?**\n",
    "\n",
    "Si las variables se miden en las misma unidades y sus valores son de magnitudes parecidas, puedo comparar sus varianzas. Pero sólo en ese caso y no en general.\n",
    "\n",
    "* **¿Qué variable tiene la mayor varianza? ¿Cómo se ve esto en el gráfico?**\n",
    "\n",
    "Podemos mirar los valores de la diagonal de la matriz de covarianzas para obtener los valores de las varianzas de esas variables. \n",
    "\n",
    "La variable de mayor varianza es el conejo, su valor está en el elemento (0,0) de la matriz de varianzas y covarianzas. \n",
    "\n",
    "En el gráfico podemos ver que la dispersión de la serie de los conejos es parecida a la serie de los linces, pero la serie de conejos tiene mayor rango (diferencia entre los valores máximo y mínimo) por lo tanto aporta más en la suma de distancias a la media.\n",
    "\n",
    "* **¿Qué significa una covarianza positiva? ¿Y una negativa?**\n",
    "\n",
    "Dos variables X e Y, tienen covarianza positiva cuando tienden a encontrarse por encima de su media al mismo tiempo y tienen covarianza negativa cuando al mismo tiempo, tienden a encontrarse una por debajo y otra por encima.\n",
    "\n",
    "En cambio X e Y tienen covarianza cercana a cero cuando las variables pueden encontrarse por encima o por debajo de su media independientemente de lo que haga la otra.\n",
    "\n",
    "La covarianza mide la relación lineal entre ambas variables, es decir, qué tanto se asemeja la relación con una función lineal.</label></div>\n",
    "</div>    \n",
    "\n"
   ]
  },
  {
   "cell_type": "markdown",
   "metadata": {},
   "source": [
    "#### Correlación\n",
    "\n",
    "El coeficiente de correlación de Pearson es una medida lineal entre dos variables aleatorias cuantitativas. \n",
    "\n",
    "A diferencia de la covarianza, la correlación de Pearson es independiente de la escala de medida de las variables.\n",
    "\n",
    "Podemos definir el coeficiente de correlación de Pearson como un índice que puede utilizarse para medir el grado de relación de dos variables siempre y cuando ambas sean cuantitativas.\n",
    "\n",
    "El método que calcula la correlación de Pearson en Numpy es `corrcoef`. Los valores de los elementos de la matriz de correlación están entre -1 y 1 inclusive. Es equivalente a la matriz de covarianzas normalizada.\n",
    "https://docs.scipy.org/doc/numpy/reference/generated/numpy.corrcoef.html\n",
    "\n"
   ]
  },
  {
   "cell_type": "code",
   "execution_count": null,
   "metadata": {
    "pycharm": {
     "name": "#%%\n"
    }
   },
   "outputs": [],
   "source": [
    "np.corrcoef([conejos, linces, zanahorias])"
   ]
  }
 ],
 "metadata": {
  "kernelspec": {
   "display_name": "Python 3",
   "language": "python",
   "name": "python3"
  },
  "language_info": {
   "codemirror_mode": {
    "name": "ipython",
    "version": 3
   },
   "file_extension": ".py",
   "mimetype": "text/x-python",
   "name": "python",
   "nbconvert_exporter": "python",
   "pygments_lexer": "ipython3",
   "version": "3.7.7"
  }
 },
 "nbformat": 4,
 "nbformat_minor": 4
}