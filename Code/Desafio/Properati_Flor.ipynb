{
  "nbformat": 4,
  "nbformat_minor": 0,
  "metadata": {
    "colab": {
      "name": "Properati Flor.ipynb",
      "provenance": [],
      "collapsed_sections": [
        "itT3EKo5nxQm",
        "XOf30vijo8oV",
        "Y5ViuWUmh3ya",
        "3f2LMgNxvroo"
      ],
      "include_colab_link": true
    },
    "kernelspec": {
      "name": "python3",
      "display_name": "Python 3"
    }
  },
  "cells": [
    {
      "cell_type": "markdown",
      "metadata": {
        "id": "view-in-github",
        "colab_type": "text"
      },
      "source": [
        "<a href=\"https://colab.research.google.com/github/Flor91/Data-Science/blob/master/Properati_Flor.ipynb\" target=\"_parent\"><img src=\"https://colab.research.google.com/assets/colab-badge.svg\" alt=\"Open In Colab\"/></a>"
      ]
    },
    {
      "cell_type": "markdown",
      "metadata": {
        "id": "tPj3RvIorhyc"
      },
      "source": [
        "# Properati Grupo 5\n",
        "\n",
        "## Autores\n",
        "* Lautaro Chehin\n",
        "* Alexia Aquino\n",
        "* Agustin Silvestre\n",
        "* Constanza Silvestre\n",
        "* Florencia Silvestre\n",
        "\n",
        "\n",
        "### El dataset\n",
        "\n",
        "* operation: alquiler (rent) o venta (sell)\n",
        "* property_type: tipo de propiedad (casa, departamento, ph, etcétera)\n",
        "* place_with_parent_names: nombre del lugar donde se encuentra la propiedad según el publicador\n",
        "* lat-lon: coordenadas concatenadas\n",
        "* lat: latitud\n",
        "* lon: longitud\n",
        "* price: precio en la moneda especificada en currency\n",
        "* currency: divisa en la que está expresada la publicación\n",
        "* price_aprox_usd: precio aproximado en dólares estadounidenses\n",
        "* surface_total_in_m2: superficie total (en metros cuadrados)\n",
        "* surface_covered_in_m2: superficie cubierta (en metros cuadrados)\n",
        "* price_usd_per_m2: precio por metro cuadrado en dólares (precio dólares / superficie)\n",
        "* floor: número de piso (si corresponde)\n",
        "* rooms: cantidad de ambientes\n",
        "* expenses: expensas (si corresponde)\n",
        "* barrio: barrio según cartografía oficial\n",
        "* properati_url: url de la publicación en Properati\n",
        "\n",
        "### Tareas\n",
        "1. Limpieza del dataset:\n",
        "\n",
        "  - Coti + Alexia: columnas de localizacion\n",
        "  - Agus + Lautaro: Descripciones - sacar info\n",
        "  - Flor: Limpiar columnas de precios [HECHO]\n",
        "  - Flor: Completar lat, long  [HECHO]\n",
        "  - Flor: Investigar datos externos para enriquecer datos de properati\n",
        "\n",
        "2. Definir preguntas de negocio / datos a mostrar\n",
        "3. Armar visualizaciones\n",
        "\n"
      ]
    },
    {
      "cell_type": "markdown",
      "metadata": {
        "id": "itT3EKo5nxQm"
      },
      "source": [
        "## Carga del archivo desde Drive"
      ]
    },
    {
      "cell_type": "code",
      "metadata": {
        "id": "Czai8qOll2LH"
      },
      "source": [
        "# Instala libreria de python para poder conectarse de python a google drive\n",
        "!pip install -U -q PyDrive"
      ],
      "execution_count": 1,
      "outputs": []
    },
    {
      "cell_type": "code",
      "metadata": {
        "id": "MZYV6IR1l61y"
      },
      "source": [
        "# Cuando corren esta celda por primera vez les va a primero tirar un link\n",
        "# Hacen click en el link, se logean a sus cuentas de google\n",
        "# Les va a aparecer un codigo parecido a este: \n",
        "# Pegan ese codigo en el espacio en blanco que les aparece en esta celda y le dan enter\n",
        "# Con esto le dieron acceso al Python de este google colab a acceder a sus drives. \n",
        "from pydrive.auth import GoogleAuth\n",
        "from pydrive.drive import GoogleDrive\n",
        "from google.colab import auth\n",
        "from oauth2client.client import GoogleCredentials\n",
        "\n",
        "# Authenticate and create the PyDrive client.\n",
        "auth.authenticate_user()\n",
        "gauth = GoogleAuth()\n",
        "gauth.credentials = GoogleCredentials.get_application_default()\n",
        "drive = GoogleDrive(gauth)"
      ],
      "execution_count": 2,
      "outputs": []
    },
    {
      "cell_type": "code",
      "metadata": {
        "id": "Fcu1elhOrhgq"
      },
      "source": [
        "# Esto busca el archivo de properati compartido que esta en drive, y abre y lo guarda en memoria en un archivo llamado 'properati.csv'\n",
        "drive_file_url = 'https://drive.google.com/file/d/15Ofxvl8CbGrq2BjwmE7GjRCMR_YixKb4/view?usp=sharing'\n",
        "id = '15Ofxvl8CbGrq2BjwmE7GjRCMR_YixKb4'\n",
        "downloaded = drive.CreateFile({'id':id})\n",
        "downloaded.GetContentFile('properati.csv')"
      ],
      "execution_count": 3,
      "outputs": []
    },
    {
      "cell_type": "markdown",
      "metadata": {
        "id": "o3S2kjJ2n2ag"
      },
      "source": [
        "## Importar y explorar datos"
      ]
    },
    {
      "cell_type": "markdown",
      "metadata": {
        "id": "D2UPEeV7oB-Z"
      },
      "source": [
        "Importamos todas las librerias que vamos a necesitar"
      ]
    },
    {
      "cell_type": "code",
      "metadata": {
        "id": "8YNqK4yQnvW0"
      },
      "source": [
        "import pandas as pd\n",
        "import numpy as np\n",
        "import seaborn as sns\n",
        "import matplotlib.pyplot as plt\n",
        "\n",
        "# Con esta opcion de pandas podemos ver todas las columnas cuando hacemos un pd.head()\n",
        "pd.set_option('display.max_columns', None)\n",
        "pd.set_option('max_colwidth', 5000)\n",
        "\n",
        "# Con la siguiente opcion podemos ver los valores floats con solo 2 decimales (no necesitamos mas)\n",
        "#pd.set_option(\"display.precision\", 2)"
      ],
      "execution_count": 4,
      "outputs": []
    },
    {
      "cell_type": "code",
      "metadata": {
        "id": "wDQTR5lfkqKh",
        "outputId": "37536025-e580-4987-85fa-8b81e59fff9e",
        "colab": {
          "base_uri": "https://localhost:8080/",
          "height": 400
        }
      },
      "source": [
        "# Leemos el csv como un dataframe de Pandas\n",
        "data = pd.read_csv('properati.csv')\n",
        "\n",
        "# Veamos nuestro dataframe\n",
        "data.head(3)"
      ],
      "execution_count": 5,
      "outputs": [
        {
          "output_type": "execute_result",
          "data": {
            "text/html": [
              "<div>\n",
              "<style scoped>\n",
              "    .dataframe tbody tr th:only-of-type {\n",
              "        vertical-align: middle;\n",
              "    }\n",
              "\n",
              "    .dataframe tbody tr th {\n",
              "        vertical-align: top;\n",
              "    }\n",
              "\n",
              "    .dataframe thead th {\n",
              "        text-align: right;\n",
              "    }\n",
              "</style>\n",
              "<table border=\"1\" class=\"dataframe\">\n",
              "  <thead>\n",
              "    <tr style=\"text-align: right;\">\n",
              "      <th></th>\n",
              "      <th>Unnamed: 0</th>\n",
              "      <th>operation</th>\n",
              "      <th>property_type</th>\n",
              "      <th>place_name</th>\n",
              "      <th>place_with_parent_names</th>\n",
              "      <th>country_name</th>\n",
              "      <th>state_name</th>\n",
              "      <th>geonames_id</th>\n",
              "      <th>lat-lon</th>\n",
              "      <th>lat</th>\n",
              "      <th>lon</th>\n",
              "      <th>price</th>\n",
              "      <th>currency</th>\n",
              "      <th>price_aprox_local_currency</th>\n",
              "      <th>price_aprox_usd</th>\n",
              "      <th>surface_total_in_m2</th>\n",
              "      <th>surface_covered_in_m2</th>\n",
              "      <th>price_usd_per_m2</th>\n",
              "      <th>price_per_m2</th>\n",
              "      <th>floor</th>\n",
              "      <th>rooms</th>\n",
              "      <th>expenses</th>\n",
              "      <th>properati_url</th>\n",
              "      <th>description</th>\n",
              "      <th>title</th>\n",
              "      <th>image_thumbnail</th>\n",
              "    </tr>\n",
              "  </thead>\n",
              "  <tbody>\n",
              "    <tr>\n",
              "      <th>0</th>\n",
              "      <td>0</td>\n",
              "      <td>sell</td>\n",
              "      <td>PH</td>\n",
              "      <td>Mataderos</td>\n",
              "      <td>|Argentina|Capital Federal|Mataderos|</td>\n",
              "      <td>Argentina</td>\n",
              "      <td>Capital Federal</td>\n",
              "      <td>3430787.0</td>\n",
              "      <td>-34.6618237,-58.5088387</td>\n",
              "      <td>-34.661824</td>\n",
              "      <td>-58.508839</td>\n",
              "      <td>62000.0</td>\n",
              "      <td>USD</td>\n",
              "      <td>1093959.0</td>\n",
              "      <td>62000.0</td>\n",
              "      <td>55.0</td>\n",
              "      <td>40.0</td>\n",
              "      <td>1127.272727</td>\n",
              "      <td>1550.000000</td>\n",
              "      <td>NaN</td>\n",
              "      <td>NaN</td>\n",
              "      <td>NaN</td>\n",
              "      <td>http://www.properati.com.ar/15bo8_venta_ph_mat...</td>\n",
              "      <td>2 AMBIENTES TIPO CASA PLANTA BAJA POR PASILLO,...</td>\n",
              "      <td>2 AMB TIPO CASA SIN EXPENSAS EN PB</td>\n",
              "      <td>https://thumbs4.properati.com/8/BluUYiHJLhgIIK...</td>\n",
              "    </tr>\n",
              "    <tr>\n",
              "      <th>1</th>\n",
              "      <td>1</td>\n",
              "      <td>sell</td>\n",
              "      <td>apartment</td>\n",
              "      <td>La Plata</td>\n",
              "      <td>|Argentina|Bs.As. G.B.A. Zona Sur|La Plata|</td>\n",
              "      <td>Argentina</td>\n",
              "      <td>Bs.As. G.B.A. Zona Sur</td>\n",
              "      <td>3432039.0</td>\n",
              "      <td>-34.9038831,-57.9643295</td>\n",
              "      <td>-34.903883</td>\n",
              "      <td>-57.964330</td>\n",
              "      <td>150000.0</td>\n",
              "      <td>USD</td>\n",
              "      <td>2646675.0</td>\n",
              "      <td>150000.0</td>\n",
              "      <td>NaN</td>\n",
              "      <td>NaN</td>\n",
              "      <td>NaN</td>\n",
              "      <td>NaN</td>\n",
              "      <td>NaN</td>\n",
              "      <td>NaN</td>\n",
              "      <td>NaN</td>\n",
              "      <td>http://www.properati.com.ar/15bob_venta_depart...</td>\n",
              "      <td>Venta de departamento en décimo piso al frente...</td>\n",
              "      <td>VENTA Depto 2 dorm. a estrenar 7 e/ 36 y 37   ...</td>\n",
              "      <td>https://thumbs4.properati.com/7/ikpVBu2ztHA7jv...</td>\n",
              "    </tr>\n",
              "    <tr>\n",
              "      <th>2</th>\n",
              "      <td>2</td>\n",
              "      <td>sell</td>\n",
              "      <td>apartment</td>\n",
              "      <td>Mataderos</td>\n",
              "      <td>|Argentina|Capital Federal|Mataderos|</td>\n",
              "      <td>Argentina</td>\n",
              "      <td>Capital Federal</td>\n",
              "      <td>3430787.0</td>\n",
              "      <td>-34.6522615,-58.5229825</td>\n",
              "      <td>-34.652262</td>\n",
              "      <td>-58.522982</td>\n",
              "      <td>72000.0</td>\n",
              "      <td>USD</td>\n",
              "      <td>1270404.0</td>\n",
              "      <td>72000.0</td>\n",
              "      <td>55.0</td>\n",
              "      <td>55.0</td>\n",
              "      <td>1309.090909</td>\n",
              "      <td>1309.090909</td>\n",
              "      <td>NaN</td>\n",
              "      <td>NaN</td>\n",
              "      <td>NaN</td>\n",
              "      <td>http://www.properati.com.ar/15bod_venta_depart...</td>\n",
              "      <td>2 AMBIENTES 3ER PISO LATERAL LIVING COMEDOR AM...</td>\n",
              "      <td>2 AMB 3ER PISO CON ASCENSOR APTO CREDITO</td>\n",
              "      <td>https://thumbs4.properati.com/5/SXKr34F_IwG3W_...</td>\n",
              "    </tr>\n",
              "  </tbody>\n",
              "</table>\n",
              "</div>"
            ],
            "text/plain": [
              "   Unnamed: 0 operation property_type place_name  \\\n",
              "0           0      sell            PH  Mataderos   \n",
              "1           1      sell     apartment   La Plata   \n",
              "2           2      sell     apartment  Mataderos   \n",
              "\n",
              "                       place_with_parent_names country_name  \\\n",
              "0        |Argentina|Capital Federal|Mataderos|    Argentina   \n",
              "1  |Argentina|Bs.As. G.B.A. Zona Sur|La Plata|    Argentina   \n",
              "2        |Argentina|Capital Federal|Mataderos|    Argentina   \n",
              "\n",
              "               state_name  geonames_id                  lat-lon        lat  \\\n",
              "0         Capital Federal    3430787.0  -34.6618237,-58.5088387 -34.661824   \n",
              "1  Bs.As. G.B.A. Zona Sur    3432039.0  -34.9038831,-57.9643295 -34.903883   \n",
              "2         Capital Federal    3430787.0  -34.6522615,-58.5229825 -34.652262   \n",
              "\n",
              "         lon     price currency  price_aprox_local_currency  price_aprox_usd  \\\n",
              "0 -58.508839   62000.0      USD                   1093959.0          62000.0   \n",
              "1 -57.964330  150000.0      USD                   2646675.0         150000.0   \n",
              "2 -58.522982   72000.0      USD                   1270404.0          72000.0   \n",
              "\n",
              "   surface_total_in_m2  surface_covered_in_m2  price_usd_per_m2  price_per_m2  \\\n",
              "0                 55.0                   40.0       1127.272727   1550.000000   \n",
              "1                  NaN                    NaN               NaN           NaN   \n",
              "2                 55.0                   55.0       1309.090909   1309.090909   \n",
              "\n",
              "   floor  rooms  expenses                                      properati_url  \\\n",
              "0    NaN    NaN       NaN  http://www.properati.com.ar/15bo8_venta_ph_mat...   \n",
              "1    NaN    NaN       NaN  http://www.properati.com.ar/15bob_venta_depart...   \n",
              "2    NaN    NaN       NaN  http://www.properati.com.ar/15bod_venta_depart...   \n",
              "\n",
              "                                         description  \\\n",
              "0  2 AMBIENTES TIPO CASA PLANTA BAJA POR PASILLO,...   \n",
              "1  Venta de departamento en décimo piso al frente...   \n",
              "2  2 AMBIENTES 3ER PISO LATERAL LIVING COMEDOR AM...   \n",
              "\n",
              "                                               title  \\\n",
              "0                 2 AMB TIPO CASA SIN EXPENSAS EN PB   \n",
              "1  VENTA Depto 2 dorm. a estrenar 7 e/ 36 y 37   ...   \n",
              "2           2 AMB 3ER PISO CON ASCENSOR APTO CREDITO   \n",
              "\n",
              "                                     image_thumbnail  \n",
              "0  https://thumbs4.properati.com/8/BluUYiHJLhgIIK...  \n",
              "1  https://thumbs4.properati.com/7/ikpVBu2ztHA7jv...  \n",
              "2  https://thumbs4.properati.com/5/SXKr34F_IwG3W_...  "
            ]
          },
          "metadata": {
            "tags": []
          },
          "execution_count": 5
        }
      ]
    },
    {
      "cell_type": "markdown",
      "metadata": {
        "id": "XOf30vijo8oV"
      },
      "source": [
        "### Explorar y Analizar el data set"
      ]
    },
    {
      "cell_type": "markdown",
      "metadata": {
        "id": "dcIbVHw12N4K"
      },
      "source": [
        "Veamos los tipos de datos de cada columna de nuestro data set, y la cantidad de nulos que contienen."
      ]
    },
    {
      "cell_type": "code",
      "metadata": {
        "id": "iP1jl6mmZg8I",
        "outputId": "828e249c-5784-4932-ca52-050e510bf253",
        "colab": {
          "base_uri": "https://localhost:8080/",
          "height": 0
        }
      },
      "source": [
        "data.info()"
      ],
      "execution_count": 6,
      "outputs": [
        {
          "output_type": "stream",
          "text": [
            "<class 'pandas.core.frame.DataFrame'>\n",
            "RangeIndex: 121220 entries, 0 to 121219\n",
            "Data columns (total 26 columns):\n",
            " #   Column                      Non-Null Count   Dtype  \n",
            "---  ------                      --------------   -----  \n",
            " 0   Unnamed: 0                  121220 non-null  int64  \n",
            " 1   operation                   121220 non-null  object \n",
            " 2   property_type               121220 non-null  object \n",
            " 3   place_name                  121197 non-null  object \n",
            " 4   place_with_parent_names     121220 non-null  object \n",
            " 5   country_name                121220 non-null  object \n",
            " 6   state_name                  121220 non-null  object \n",
            " 7   geonames_id                 102503 non-null  float64\n",
            " 8   lat-lon                     69670 non-null   object \n",
            " 9   lat                         69670 non-null   float64\n",
            " 10  lon                         69670 non-null   float64\n",
            " 11  price                       100810 non-null  float64\n",
            " 12  currency                    100809 non-null  object \n",
            " 13  price_aprox_local_currency  100810 non-null  float64\n",
            " 14  price_aprox_usd             100810 non-null  float64\n",
            " 15  surface_total_in_m2         81892 non-null   float64\n",
            " 16  surface_covered_in_m2       101313 non-null  float64\n",
            " 17  price_usd_per_m2            68617 non-null   float64\n",
            " 18  price_per_m2                87658 non-null   float64\n",
            " 19  floor                       7899 non-null    float64\n",
            " 20  rooms                       47390 non-null   float64\n",
            " 21  expenses                    14262 non-null   float64\n",
            " 22  properati_url               121220 non-null  object \n",
            " 23  description                 121218 non-null  object \n",
            " 24  title                       121220 non-null  object \n",
            " 25  image_thumbnail             118108 non-null  object \n",
            "dtypes: float64(13), int64(1), object(12)\n",
            "memory usage: 24.0+ MB\n"
          ],
          "name": "stdout"
        }
      ]
    },
    {
      "cell_type": "markdown",
      "metadata": {
        "id": "7zVC2ZEG3Mn9"
      },
      "source": [
        "Veamos informacion sobre los valores numericos de nuestro dataset:"
      ]
    },
    {
      "cell_type": "code",
      "metadata": {
        "id": "pb5PP1I0YDzC",
        "outputId": "ea2c55c6-e0a7-49ac-8f28-57e4e2dae063",
        "colab": {
          "base_uri": "https://localhost:8080/",
          "height": 0
        }
      },
      "source": [
        "data.describe()"
      ],
      "execution_count": 7,
      "outputs": [
        {
          "output_type": "execute_result",
          "data": {
            "text/html": [
              "<div>\n",
              "<style scoped>\n",
              "    .dataframe tbody tr th:only-of-type {\n",
              "        vertical-align: middle;\n",
              "    }\n",
              "\n",
              "    .dataframe tbody tr th {\n",
              "        vertical-align: top;\n",
              "    }\n",
              "\n",
              "    .dataframe thead th {\n",
              "        text-align: right;\n",
              "    }\n",
              "</style>\n",
              "<table border=\"1\" class=\"dataframe\">\n",
              "  <thead>\n",
              "    <tr style=\"text-align: right;\">\n",
              "      <th></th>\n",
              "      <th>Unnamed: 0</th>\n",
              "      <th>geonames_id</th>\n",
              "      <th>lat</th>\n",
              "      <th>lon</th>\n",
              "      <th>price</th>\n",
              "      <th>price_aprox_local_currency</th>\n",
              "      <th>price_aprox_usd</th>\n",
              "      <th>surface_total_in_m2</th>\n",
              "      <th>surface_covered_in_m2</th>\n",
              "      <th>price_usd_per_m2</th>\n",
              "      <th>price_per_m2</th>\n",
              "      <th>floor</th>\n",
              "      <th>rooms</th>\n",
              "      <th>expenses</th>\n",
              "    </tr>\n",
              "  </thead>\n",
              "  <tbody>\n",
              "    <tr>\n",
              "      <th>count</th>\n",
              "      <td>121220.000000</td>\n",
              "      <td>1.025030e+05</td>\n",
              "      <td>69670.000000</td>\n",
              "      <td>69670.000000</td>\n",
              "      <td>1.008100e+05</td>\n",
              "      <td>1.008100e+05</td>\n",
              "      <td>1.008100e+05</td>\n",
              "      <td>81892.000000</td>\n",
              "      <td>101313.000000</td>\n",
              "      <td>68617.000000</td>\n",
              "      <td>8.765800e+04</td>\n",
              "      <td>7899.000000</td>\n",
              "      <td>47390.000000</td>\n",
              "      <td>1.426200e+04</td>\n",
              "    </tr>\n",
              "    <tr>\n",
              "      <th>mean</th>\n",
              "      <td>60609.500000</td>\n",
              "      <td>3.574442e+06</td>\n",
              "      <td>-34.626210</td>\n",
              "      <td>-59.266290</td>\n",
              "      <td>4.685259e+05</td>\n",
              "      <td>4.229397e+06</td>\n",
              "      <td>2.397006e+05</td>\n",
              "      <td>233.795328</td>\n",
              "      <td>133.050181</td>\n",
              "      <td>2160.086916</td>\n",
              "      <td>6.912216e+03</td>\n",
              "      <td>17.452336</td>\n",
              "      <td>3.080840</td>\n",
              "      <td>5.009234e+03</td>\n",
              "    </tr>\n",
              "    <tr>\n",
              "      <th>std</th>\n",
              "      <td>34993.344153</td>\n",
              "      <td>3.541306e+05</td>\n",
              "      <td>1.980936</td>\n",
              "      <td>2.299922</td>\n",
              "      <td>2.260101e+06</td>\n",
              "      <td>6.904714e+06</td>\n",
              "      <td>3.913239e+05</td>\n",
              "      <td>1782.222147</td>\n",
              "      <td>724.351479</td>\n",
              "      <td>2759.288621</td>\n",
              "      <td>2.837864e+04</td>\n",
              "      <td>120.243621</td>\n",
              "      <td>1.860773</td>\n",
              "      <td>1.204403e+05</td>\n",
              "    </tr>\n",
              "    <tr>\n",
              "      <th>min</th>\n",
              "      <td>0.000000</td>\n",
              "      <td>3.427208e+06</td>\n",
              "      <td>-54.823985</td>\n",
              "      <td>-75.678931</td>\n",
              "      <td>0.000000e+00</td>\n",
              "      <td>0.000000e+00</td>\n",
              "      <td>0.000000e+00</td>\n",
              "      <td>0.000000</td>\n",
              "      <td>0.000000</td>\n",
              "      <td>0.600000</td>\n",
              "      <td>1.510204e+00</td>\n",
              "      <td>1.000000</td>\n",
              "      <td>1.000000</td>\n",
              "      <td>1.000000e+00</td>\n",
              "    </tr>\n",
              "    <tr>\n",
              "      <th>25%</th>\n",
              "      <td>30304.750000</td>\n",
              "      <td>3.430234e+06</td>\n",
              "      <td>-34.669065</td>\n",
              "      <td>-58.727040</td>\n",
              "      <td>1.100000e+05</td>\n",
              "      <td>1.583309e+06</td>\n",
              "      <td>8.973388e+04</td>\n",
              "      <td>50.000000</td>\n",
              "      <td>45.000000</td>\n",
              "      <td>1218.181818</td>\n",
              "      <td>1.550000e+03</td>\n",
              "      <td>1.000000</td>\n",
              "      <td>2.000000</td>\n",
              "      <td>1.000000e+03</td>\n",
              "    </tr>\n",
              "    <tr>\n",
              "      <th>50%</th>\n",
              "      <td>60609.500000</td>\n",
              "      <td>3.433910e+06</td>\n",
              "      <td>-34.597985</td>\n",
              "      <td>-58.480128</td>\n",
              "      <td>1.850000e+05</td>\n",
              "      <td>2.558452e+06</td>\n",
              "      <td>1.450000e+05</td>\n",
              "      <td>84.000000</td>\n",
              "      <td>75.000000</td>\n",
              "      <td>1800.000000</td>\n",
              "      <td>2.213115e+03</td>\n",
              "      <td>3.000000</td>\n",
              "      <td>3.000000</td>\n",
              "      <td>2.000000e+03</td>\n",
              "    </tr>\n",
              "    <tr>\n",
              "      <th>75%</th>\n",
              "      <td>90914.250000</td>\n",
              "      <td>3.836668e+06</td>\n",
              "      <td>-34.441299</td>\n",
              "      <td>-58.395908</td>\n",
              "      <td>4.200000e+05</td>\n",
              "      <td>4.675792e+06</td>\n",
              "      <td>2.650000e+05</td>\n",
              "      <td>200.000000</td>\n",
              "      <td>150.000000</td>\n",
              "      <td>2486.411765</td>\n",
              "      <td>3.355549e+03</td>\n",
              "      <td>6.000000</td>\n",
              "      <td>4.000000</td>\n",
              "      <td>4.000000e+03</td>\n",
              "    </tr>\n",
              "    <tr>\n",
              "      <th>max</th>\n",
              "      <td>121219.000000</td>\n",
              "      <td>6.948895e+06</td>\n",
              "      <td>4.545843</td>\n",
              "      <td>-53.733330</td>\n",
              "      <td>6.500000e+08</td>\n",
              "      <td>8.212711e+08</td>\n",
              "      <td>4.654544e+07</td>\n",
              "      <td>200000.000000</td>\n",
              "      <td>187000.000000</td>\n",
              "      <td>206333.333333</td>\n",
              "      <td>4.000000e+06</td>\n",
              "      <td>3150.000000</td>\n",
              "      <td>32.000000</td>\n",
              "      <td>1.000150e+07</td>\n",
              "    </tr>\n",
              "  </tbody>\n",
              "</table>\n",
              "</div>"
            ],
            "text/plain": [
              "          Unnamed: 0   geonames_id           lat           lon         price  \\\n",
              "count  121220.000000  1.025030e+05  69670.000000  69670.000000  1.008100e+05   \n",
              "mean    60609.500000  3.574442e+06    -34.626210    -59.266290  4.685259e+05   \n",
              "std     34993.344153  3.541306e+05      1.980936      2.299922  2.260101e+06   \n",
              "min         0.000000  3.427208e+06    -54.823985    -75.678931  0.000000e+00   \n",
              "25%     30304.750000  3.430234e+06    -34.669065    -58.727040  1.100000e+05   \n",
              "50%     60609.500000  3.433910e+06    -34.597985    -58.480128  1.850000e+05   \n",
              "75%     90914.250000  3.836668e+06    -34.441299    -58.395908  4.200000e+05   \n",
              "max    121219.000000  6.948895e+06      4.545843    -53.733330  6.500000e+08   \n",
              "\n",
              "       price_aprox_local_currency  price_aprox_usd  surface_total_in_m2  \\\n",
              "count                1.008100e+05     1.008100e+05         81892.000000   \n",
              "mean                 4.229397e+06     2.397006e+05           233.795328   \n",
              "std                  6.904714e+06     3.913239e+05          1782.222147   \n",
              "min                  0.000000e+00     0.000000e+00             0.000000   \n",
              "25%                  1.583309e+06     8.973388e+04            50.000000   \n",
              "50%                  2.558452e+06     1.450000e+05            84.000000   \n",
              "75%                  4.675792e+06     2.650000e+05           200.000000   \n",
              "max                  8.212711e+08     4.654544e+07        200000.000000   \n",
              "\n",
              "       surface_covered_in_m2  price_usd_per_m2  price_per_m2        floor  \\\n",
              "count          101313.000000      68617.000000  8.765800e+04  7899.000000   \n",
              "mean              133.050181       2160.086916  6.912216e+03    17.452336   \n",
              "std               724.351479       2759.288621  2.837864e+04   120.243621   \n",
              "min                 0.000000          0.600000  1.510204e+00     1.000000   \n",
              "25%                45.000000       1218.181818  1.550000e+03     1.000000   \n",
              "50%                75.000000       1800.000000  2.213115e+03     3.000000   \n",
              "75%               150.000000       2486.411765  3.355549e+03     6.000000   \n",
              "max            187000.000000     206333.333333  4.000000e+06  3150.000000   \n",
              "\n",
              "              rooms      expenses  \n",
              "count  47390.000000  1.426200e+04  \n",
              "mean       3.080840  5.009234e+03  \n",
              "std        1.860773  1.204403e+05  \n",
              "min        1.000000  1.000000e+00  \n",
              "25%        2.000000  1.000000e+03  \n",
              "50%        3.000000  2.000000e+03  \n",
              "75%        4.000000  4.000000e+03  \n",
              "max       32.000000  1.000150e+07  "
            ]
          },
          "metadata": {
            "tags": []
          },
          "execution_count": 7
        }
      ]
    },
    {
      "cell_type": "markdown",
      "metadata": {
        "id": "fNWV8VQv2kUD"
      },
      "source": [
        "Veamos los tipos de operaciones que tienen nuestro dataset.\n",
        "Vemos que son todos de tipo sell, por lo tanto esta columna es redundante y voy a eliminarla en la etapa de limpieza de datos."
      ]
    },
    {
      "cell_type": "code",
      "metadata": {
        "id": "5QF-96ZLaQgM",
        "outputId": "662d4484-d09c-492b-b20d-e543d9181b9a",
        "colab": {
          "base_uri": "https://localhost:8080/",
          "height": 0
        }
      },
      "source": [
        "data.operation.value_counts()"
      ],
      "execution_count": 8,
      "outputs": [
        {
          "output_type": "execute_result",
          "data": {
            "text/plain": [
              "sell    121220\n",
              "Name: operation, dtype: int64"
            ]
          },
          "metadata": {
            "tags": []
          },
          "execution_count": 8
        }
      ]
    },
    {
      "cell_type": "markdown",
      "metadata": {
        "id": "SPtxAZit2wje"
      },
      "source": [
        "Veamos los tipos de propiedades que hay en mi dataset:\n",
        "- Departamentos\n",
        "- PH\n",
        "- Casas\n",
        "- Tiendas"
      ]
    },
    {
      "cell_type": "code",
      "metadata": {
        "id": "GUA0LziNaVie",
        "outputId": "ae91cafe-8e83-4763-f2ca-7e1dd379fa63",
        "colab": {
          "base_uri": "https://localhost:8080/",
          "height": 0
        }
      },
      "source": [
        "data.property_type.value_counts()"
      ],
      "execution_count": 9,
      "outputs": [
        {
          "output_type": "execute_result",
          "data": {
            "text/plain": [
              "apartment    71065\n",
              "house        40268\n",
              "PH            5751\n",
              "store         4136\n",
              "Name: property_type, dtype: int64"
            ]
          },
          "metadata": {
            "tags": []
          },
          "execution_count": 9
        }
      ]
    },
    {
      "cell_type": "markdown",
      "metadata": {
        "id": "2uvnyK583bJz"
      },
      "source": [
        "Veamos informacion sobre las columnas de tipo object de nuestro dataset:\n",
        "\n",
        "- Vemos que al igual que operation, la columna country_name es siempre Argentina, por lo que tambien puedo eliminarla.\n"
      ]
    },
    {
      "cell_type": "code",
      "metadata": {
        "id": "WUR-hwC93EDT",
        "outputId": "0475a1e8-c173-407b-b54f-27b2cead93c3",
        "colab": {
          "base_uri": "https://localhost:8080/",
          "height": 0
        }
      },
      "source": [
        "data.describe(include=np.object)"
      ],
      "execution_count": 10,
      "outputs": [
        {
          "output_type": "execute_result",
          "data": {
            "text/html": [
              "<div>\n",
              "<style scoped>\n",
              "    .dataframe tbody tr th:only-of-type {\n",
              "        vertical-align: middle;\n",
              "    }\n",
              "\n",
              "    .dataframe tbody tr th {\n",
              "        vertical-align: top;\n",
              "    }\n",
              "\n",
              "    .dataframe thead th {\n",
              "        text-align: right;\n",
              "    }\n",
              "</style>\n",
              "<table border=\"1\" class=\"dataframe\">\n",
              "  <thead>\n",
              "    <tr style=\"text-align: right;\">\n",
              "      <th></th>\n",
              "      <th>operation</th>\n",
              "      <th>property_type</th>\n",
              "      <th>place_name</th>\n",
              "      <th>place_with_parent_names</th>\n",
              "      <th>country_name</th>\n",
              "      <th>state_name</th>\n",
              "      <th>lat-lon</th>\n",
              "      <th>currency</th>\n",
              "      <th>properati_url</th>\n",
              "      <th>description</th>\n",
              "      <th>title</th>\n",
              "      <th>image_thumbnail</th>\n",
              "    </tr>\n",
              "  </thead>\n",
              "  <tbody>\n",
              "    <tr>\n",
              "      <th>count</th>\n",
              "      <td>121220</td>\n",
              "      <td>121220</td>\n",
              "      <td>121197</td>\n",
              "      <td>121220</td>\n",
              "      <td>121220</td>\n",
              "      <td>121220</td>\n",
              "      <td>69670</td>\n",
              "      <td>100809</td>\n",
              "      <td>121220</td>\n",
              "      <td>121218</td>\n",
              "      <td>121220</td>\n",
              "      <td>118108</td>\n",
              "    </tr>\n",
              "    <tr>\n",
              "      <th>unique</th>\n",
              "      <td>1</td>\n",
              "      <td>4</td>\n",
              "      <td>1060</td>\n",
              "      <td>1164</td>\n",
              "      <td>1</td>\n",
              "      <td>28</td>\n",
              "      <td>47203</td>\n",
              "      <td>4</td>\n",
              "      <td>121220</td>\n",
              "      <td>104055</td>\n",
              "      <td>72705</td>\n",
              "      <td>114389</td>\n",
              "    </tr>\n",
              "    <tr>\n",
              "      <th>top</th>\n",
              "      <td>sell</td>\n",
              "      <td>apartment</td>\n",
              "      <td>Córdoba</td>\n",
              "      <td>|Argentina|Santa Fe|Rosario|</td>\n",
              "      <td>Argentina</td>\n",
              "      <td>Capital Federal</td>\n",
              "      <td>-34.4026444,-58.6684776</td>\n",
              "      <td>USD</td>\n",
              "      <td>http://www.properati.com.ar/1axli_venta_depart...</td>\n",
              "      <td>AVISO LEGAL: Las descripciones arquitectónicas...</td>\n",
              "      <td>DEPARTAMENTO EN VENTA</td>\n",
              "      <td>https://thumbs4.properati.com/5/yyMiu8BHQI9KXC...</td>\n",
              "    </tr>\n",
              "    <tr>\n",
              "      <th>freq</th>\n",
              "      <td>121220</td>\n",
              "      <td>71065</td>\n",
              "      <td>9254</td>\n",
              "      <td>8504</td>\n",
              "      <td>121220</td>\n",
              "      <td>32316</td>\n",
              "      <td>312</td>\n",
              "      <td>87587</td>\n",
              "      <td>1</td>\n",
              "      <td>358</td>\n",
              "      <td>4855</td>\n",
              "      <td>255</td>\n",
              "    </tr>\n",
              "  </tbody>\n",
              "</table>\n",
              "</div>"
            ],
            "text/plain": [
              "       operation property_type place_name       place_with_parent_names  \\\n",
              "count     121220        121220     121197                        121220   \n",
              "unique         1             4       1060                          1164   \n",
              "top         sell     apartment    Córdoba  |Argentina|Santa Fe|Rosario|   \n",
              "freq      121220         71065       9254                          8504   \n",
              "\n",
              "       country_name       state_name                  lat-lon currency  \\\n",
              "count        121220           121220                    69670   100809   \n",
              "unique            1               28                    47203        4   \n",
              "top       Argentina  Capital Federal  -34.4026444,-58.6684776      USD   \n",
              "freq         121220            32316                      312    87587   \n",
              "\n",
              "                                            properati_url  \\\n",
              "count                                              121220   \n",
              "unique                                             121220   \n",
              "top     http://www.properati.com.ar/1axli_venta_depart...   \n",
              "freq                                                    1   \n",
              "\n",
              "                                              description  \\\n",
              "count                                              121218   \n",
              "unique                                             104055   \n",
              "top     AVISO LEGAL: Las descripciones arquitectónicas...   \n",
              "freq                                                  358   \n",
              "\n",
              "                        title  \\\n",
              "count                  121220   \n",
              "unique                  72705   \n",
              "top     DEPARTAMENTO EN VENTA   \n",
              "freq                     4855   \n",
              "\n",
              "                                          image_thumbnail  \n",
              "count                                              118108  \n",
              "unique                                             114389  \n",
              "top     https://thumbs4.properati.com/5/yyMiu8BHQI9KXC...  \n",
              "freq                                                  255  "
            ]
          },
          "metadata": {
            "tags": []
          },
          "execution_count": 10
        }
      ]
    },
    {
      "cell_type": "code",
      "metadata": {
        "id": "JhgBYkfjaZMH",
        "outputId": "e871cb7a-be6d-40d2-894b-b3267b5242ca",
        "colab": {
          "base_uri": "https://localhost:8080/",
          "height": 0
        }
      },
      "source": [
        "data.place_name.value_counts()"
      ],
      "execution_count": 11,
      "outputs": [
        {
          "output_type": "execute_result",
          "data": {
            "text/plain": [
              "Córdoba                            9254\n",
              "Rosario                            8504\n",
              "Mar del Plata                      6534\n",
              "Tigre                              3324\n",
              "Nordelta                           3315\n",
              "                                   ... \n",
              "Pinto                                 1\n",
              "Las Tapias                            1\n",
              "Barrio Cerrado \"Las Marías\"           1\n",
              "Barrio Cerrado \"Las Araucarias\"       1\n",
              "Villa Centenario                      1\n",
              "Name: place_name, Length: 1060, dtype: int64"
            ]
          },
          "metadata": {
            "tags": []
          },
          "execution_count": 11
        }
      ]
    },
    {
      "cell_type": "code",
      "metadata": {
        "id": "LFjtlLkpaiXu",
        "outputId": "ea1dd179-0e07-4093-cdfe-4534805d2ff2",
        "colab": {
          "base_uri": "https://localhost:8080/",
          "height": 0
        }
      },
      "source": [
        "data.state_name.value_counts()"
      ],
      "execution_count": 12,
      "outputs": [
        {
          "output_type": "execute_result",
          "data": {
            "text/plain": [
              "Capital Federal                 32316\n",
              "Bs.As. G.B.A. Zona Norte        25560\n",
              "Bs.As. G.B.A. Zona Sur          13952\n",
              "Córdoba                         12069\n",
              "Santa Fe                        10172\n",
              "Buenos Aires Costa Atlántica    10006\n",
              "Bs.As. G.B.A. Zona Oeste         9322\n",
              "Buenos Aires Interior            2291\n",
              "Río Negro                         808\n",
              "Neuquén                           733\n",
              "Mendoza                           681\n",
              "Tucumán                           674\n",
              "Corrientes                        583\n",
              "Misiones                          464\n",
              "Entre Ríos                        369\n",
              "Salta                             278\n",
              "Chubut                            259\n",
              "San Luis                          252\n",
              "La Pampa                          157\n",
              "Formosa                            65\n",
              "Chaco                              57\n",
              "San Juan                           40\n",
              "Tierra Del Fuego                   31\n",
              "Catamarca                          27\n",
              "Jujuy                              26\n",
              "Santa Cruz                         20\n",
              "La Rioja                            4\n",
              "Santiago Del Estero                 4\n",
              "Name: state_name, dtype: int64"
            ]
          },
          "metadata": {
            "tags": []
          },
          "execution_count": 12
        }
      ]
    },
    {
      "cell_type": "code",
      "metadata": {
        "id": "a7aOKNHFat_3",
        "outputId": "580cdfc7-7522-404b-9106-1e0f545569e0",
        "colab": {
          "base_uri": "https://localhost:8080/",
          "height": 0
        }
      },
      "source": [
        "data.currency.value_counts()"
      ],
      "execution_count": 13,
      "outputs": [
        {
          "output_type": "execute_result",
          "data": {
            "text/plain": [
              "USD    87587\n",
              "ARS    13219\n",
              "PEN        2\n",
              "UYU        1\n",
              "Name: currency, dtype: int64"
            ]
          },
          "metadata": {
            "tags": []
          },
          "execution_count": 13
        }
      ]
    },
    {
      "cell_type": "code",
      "metadata": {
        "id": "gcR94MyNbg0E",
        "outputId": "2941e459-de69-4f3a-8a5b-4d48a9b3712c",
        "colab": {
          "base_uri": "https://localhost:8080/",
          "height": 0
        }
      },
      "source": [
        "data.title.value_counts()"
      ],
      "execution_count": 14,
      "outputs": [
        {
          "output_type": "execute_result",
          "data": {
            "text/plain": [
              "DEPARTAMENTO EN VENTA                                                                           4855\n",
              "CASA EN VENTA                                                                                   2677\n",
              "Departamento - Nueva Cordoba                                                                    1003\n",
              "PH EN VENTA                                                                                      921\n",
              "Departamento - Centro                                                                            685\n",
              "                                                                                                ... \n",
              "PH APTO CRÉDITO EN JOSÉ C. PAZ                                                                     1\n",
              "ITUZAINGO CENTRO 300 Ms Estacion Sobre 2 Lotes 5 Ambientes Quincho Pileta Zona residencial         1\n",
              "Departamento 60m² con Plantas en Gardel, Carlos 1500, Vicente López, Olivos, por U$S 137.000       1\n",
              "2 ambientes. Excelente ubicación. Apto profesional.                                                1\n",
              "Casa 728m² con 2 Plantas, Tigre, Benavidez, por U$S 310.000                                        1\n",
              "Name: title, Length: 72705, dtype: int64"
            ]
          },
          "metadata": {
            "tags": []
          },
          "execution_count": 14
        }
      ]
    },
    {
      "cell_type": "markdown",
      "metadata": {
        "id": "JcScGjAMci1x"
      },
      "source": [
        "## Limpieza"
      ]
    },
    {
      "cell_type": "code",
      "metadata": {
        "id": "arxv6IDZcuP2",
        "outputId": "1c6f25de-956c-49ab-84d4-e2f8c3aa8e1f",
        "colab": {
          "base_uri": "https://localhost:8080/",
          "height": 476
        }
      },
      "source": [
        "data.isnull().sum()"
      ],
      "execution_count": 15,
      "outputs": [
        {
          "output_type": "execute_result",
          "data": {
            "text/plain": [
              "Unnamed: 0                         0\n",
              "operation                          0\n",
              "property_type                      0\n",
              "place_name                        23\n",
              "place_with_parent_names            0\n",
              "country_name                       0\n",
              "state_name                         0\n",
              "geonames_id                    18717\n",
              "lat-lon                        51550\n",
              "lat                            51550\n",
              "lon                            51550\n",
              "price                          20410\n",
              "currency                       20411\n",
              "price_aprox_local_currency     20410\n",
              "price_aprox_usd                20410\n",
              "surface_total_in_m2            39328\n",
              "surface_covered_in_m2          19907\n",
              "price_usd_per_m2               52603\n",
              "price_per_m2                   33562\n",
              "floor                         113321\n",
              "rooms                          73830\n",
              "expenses                      106958\n",
              "properati_url                      0\n",
              "description                        2\n",
              "title                              0\n",
              "image_thumbnail                 3112\n",
              "dtype: int64"
            ]
          },
          "metadata": {
            "tags": []
          },
          "execution_count": 15
        }
      ]
    },
    {
      "cell_type": "markdown",
      "metadata": {
        "id": "KgtpLdJrc5Je"
      },
      "source": [
        "### Columnas que me interesa quedarme\n",
        "\n",
        "**operation** es siempre sell\n",
        "\n",
        "'property_type', 'description', 'title',\n",
        "\n",
        "Solo si hacemos algo de visualizacion con mapas:\n",
        " 'geonames_id', 'lat-lon', 'lat', 'lon', \n",
        "\n",
        "Sobre lugar:\n",
        "'place_name', 'place_with_parent_names', 'country_name', 'state_name',\n",
        "\n",
        "Sobre precios:\n",
        "'price', 'currency', 'price_aprox_local_currency', 'price_aprox_usd',  'expenses', \n",
        "\n",
        "Superficie, habitaciones\n",
        "'surface_total_in_m2', 'surface_covered_in_m2', 'price_usd_per_m2', 'price_per_m2', 'floor', 'rooms',\n",
        "\n",
        "A descartar\n",
        "'properati_url', 'image_thumbnail'"
      ]
    },
    {
      "cell_type": "code",
      "metadata": {
        "id": "x86duecCdzrD"
      },
      "source": [
        "# To clean\n",
        "data_about = ['property_type', 'title', 'description'] \n",
        "data_geo = ['geonames_id', 'lat-lon', 'lat', 'lon']\n",
        "data_loc = ['state_name', 'place_name', 'place_with_parent_names'] \n",
        "data_price = ['price_aprox_usd', 'price_usd_per_m2', 'expenses']\n",
        "data_sup = ['surface_total_in_m2', 'surface_covered_in_m2', 'floor', 'rooms']\n",
        "\n",
        "data_cols = data_about + data_loc + data_price + data_sup + data_geo\n",
        "\n",
        "properati = data[data_cols]"
      ],
      "execution_count": 55,
      "outputs": []
    },
    {
      "cell_type": "code",
      "metadata": {
        "id": "4LiRiqmSqe9S",
        "outputId": "ed4dc008-c54e-456a-9e61-04ede3b709b4",
        "colab": {
          "base_uri": "https://localhost:8080/",
          "height": 136
        }
      },
      "source": [
        "# Fill empty floor with 0\n",
        "\n",
        "properati['floor'] = properati.floor.fillna(0)\n",
        "properati.floor.isnull().sum()"
      ],
      "execution_count": 56,
      "outputs": [
        {
          "output_type": "stream",
          "text": [
            "/usr/local/lib/python3.6/dist-packages/ipykernel_launcher.py:3: SettingWithCopyWarning: \n",
            "A value is trying to be set on a copy of a slice from a DataFrame.\n",
            "Try using .loc[row_indexer,col_indexer] = value instead\n",
            "\n",
            "See the caveats in the documentation: https://pandas.pydata.org/pandas-docs/stable/user_guide/indexing.html#returning-a-view-versus-a-copy\n",
            "  This is separate from the ipykernel package so we can avoid doing imports until\n"
          ],
          "name": "stderr"
        },
        {
          "output_type": "execute_result",
          "data": {
            "text/plain": [
              "0"
            ]
          },
          "metadata": {
            "tags": []
          },
          "execution_count": 56
        }
      ]
    },
    {
      "cell_type": "code",
      "metadata": {
        "id": "hBx6SMhJ_NEg",
        "outputId": "91c2d9b5-35d0-455b-f206-5ba0aa54b323",
        "colab": {
          "base_uri": "https://localhost:8080/",
          "height": 136
        }
      },
      "source": [
        "properati['property_type'] = pd.Categorical(properati['property_type'])\n",
        "properati['property_type'].dtype"
      ],
      "execution_count": 57,
      "outputs": [
        {
          "output_type": "stream",
          "text": [
            "/usr/local/lib/python3.6/dist-packages/ipykernel_launcher.py:1: SettingWithCopyWarning: \n",
            "A value is trying to be set on a copy of a slice from a DataFrame.\n",
            "Try using .loc[row_indexer,col_indexer] = value instead\n",
            "\n",
            "See the caveats in the documentation: https://pandas.pydata.org/pandas-docs/stable/user_guide/indexing.html#returning-a-view-versus-a-copy\n",
            "  \"\"\"Entry point for launching an IPython kernel.\n"
          ],
          "name": "stderr"
        },
        {
          "output_type": "execute_result",
          "data": {
            "text/plain": [
              "CategoricalDtype(categories=['PH', 'apartment', 'house', 'store'], ordered=False)"
            ]
          },
          "metadata": {
            "tags": []
          },
          "execution_count": 57
        }
      ]
    },
    {
      "cell_type": "markdown",
      "metadata": {
        "id": "Y5ViuWUmh3ya"
      },
      "source": [
        "### Limpieza de precios"
      ]
    },
    {
      "cell_type": "code",
      "metadata": {
        "id": "Pn0nLncHh5l4",
        "outputId": "5e5b4385-1c60-4966-d36f-b579eb938967",
        "colab": {
          "base_uri": "https://localhost:8080/",
          "height": 0
        }
      },
      "source": [
        "data_price_columns = ['price_aprox_local_currency', 'price_aprox_usd', 'price_usd_per_m2', 'expenses']\n",
        "data_prices = data[data_price_columns]\n",
        "data_prices.head()"
      ],
      "execution_count": 58,
      "outputs": [
        {
          "output_type": "execute_result",
          "data": {
            "text/html": [
              "<div>\n",
              "<style scoped>\n",
              "    .dataframe tbody tr th:only-of-type {\n",
              "        vertical-align: middle;\n",
              "    }\n",
              "\n",
              "    .dataframe tbody tr th {\n",
              "        vertical-align: top;\n",
              "    }\n",
              "\n",
              "    .dataframe thead th {\n",
              "        text-align: right;\n",
              "    }\n",
              "</style>\n",
              "<table border=\"1\" class=\"dataframe\">\n",
              "  <thead>\n",
              "    <tr style=\"text-align: right;\">\n",
              "      <th></th>\n",
              "      <th>price_aprox_local_currency</th>\n",
              "      <th>price_aprox_usd</th>\n",
              "      <th>price_usd_per_m2</th>\n",
              "      <th>expenses</th>\n",
              "    </tr>\n",
              "  </thead>\n",
              "  <tbody>\n",
              "    <tr>\n",
              "      <th>0</th>\n",
              "      <td>1093959.0</td>\n",
              "      <td>62000.0</td>\n",
              "      <td>1127.272727</td>\n",
              "      <td>NaN</td>\n",
              "    </tr>\n",
              "    <tr>\n",
              "      <th>1</th>\n",
              "      <td>2646675.0</td>\n",
              "      <td>150000.0</td>\n",
              "      <td>NaN</td>\n",
              "      <td>NaN</td>\n",
              "    </tr>\n",
              "    <tr>\n",
              "      <th>2</th>\n",
              "      <td>1270404.0</td>\n",
              "      <td>72000.0</td>\n",
              "      <td>1309.090909</td>\n",
              "      <td>NaN</td>\n",
              "    </tr>\n",
              "    <tr>\n",
              "      <th>3</th>\n",
              "      <td>1676227.5</td>\n",
              "      <td>95000.0</td>\n",
              "      <td>NaN</td>\n",
              "      <td>NaN</td>\n",
              "    </tr>\n",
              "    <tr>\n",
              "      <th>4</th>\n",
              "      <td>1129248.0</td>\n",
              "      <td>64000.0</td>\n",
              "      <td>1828.571429</td>\n",
              "      <td>NaN</td>\n",
              "    </tr>\n",
              "  </tbody>\n",
              "</table>\n",
              "</div>"
            ],
            "text/plain": [
              "   price_aprox_local_currency  price_aprox_usd  price_usd_per_m2  expenses\n",
              "0                   1093959.0          62000.0       1127.272727       NaN\n",
              "1                   2646675.0         150000.0               NaN       NaN\n",
              "2                   1270404.0          72000.0       1309.090909       NaN\n",
              "3                   1676227.5          95000.0               NaN       NaN\n",
              "4                   1129248.0          64000.0       1828.571429       NaN"
            ]
          },
          "metadata": {
            "tags": []
          },
          "execution_count": 58
        }
      ]
    },
    {
      "cell_type": "code",
      "metadata": {
        "id": "cLfgALW1lWIt",
        "outputId": "bdec7ca2-b219-4032-f853-d31d3e8e8f16",
        "colab": {
          "base_uri": "https://localhost:8080/",
          "height": 0
        }
      },
      "source": [
        "data_prices.isnull().sum()"
      ],
      "execution_count": 59,
      "outputs": [
        {
          "output_type": "execute_result",
          "data": {
            "text/plain": [
              "price_aprox_local_currency     20410\n",
              "price_aprox_usd                20410\n",
              "price_usd_per_m2               52603\n",
              "expenses                      106958\n",
              "dtype: int64"
            ]
          },
          "metadata": {
            "tags": []
          },
          "execution_count": 59
        }
      ]
    },
    {
      "cell_type": "code",
      "metadata": {
        "id": "WvxXYa9tjNCj",
        "outputId": "8959ae76-b99d-48f5-c911-9b86f807adff",
        "colab": {
          "base_uri": "https://localhost:8080/",
          "height": 0
        }
      },
      "source": [
        "# Filtro los que tienen precio nulo, y veo del resto de las columnas cuantos nulos hay\n",
        "data_prices.loc[data_prices.price_aprox_usd.isnull(),:].isnull().sum()\n",
        "\n",
        "# Aca puedo ver que los que no tienen precio no tienen nada del resto. \n",
        "# Si quiero rellenar cualquiera de estas columnas (excepto algunos casos de precio usd por m2) tengo que hacerlo por inferencia de otros campos"
      ],
      "execution_count": 60,
      "outputs": [
        {
          "output_type": "execute_result",
          "data": {
            "text/plain": [
              "price_aprox_local_currency    20410\n",
              "price_aprox_usd               20410\n",
              "price_usd_per_m2              20410\n",
              "expenses                      19394\n",
              "dtype: int64"
            ]
          },
          "metadata": {
            "tags": []
          },
          "execution_count": 60
        }
      ]
    },
    {
      "cell_type": "code",
      "metadata": {
        "id": "eI3SFP93lMN6",
        "outputId": "762e4ed0-6cbd-4fa5-c2a3-3e42f021ac7c",
        "colab": {
          "base_uri": "https://localhost:8080/",
          "height": 0
        }
      },
      "source": [
        "# Quiero ver el tipo de cambio que esta usando este dataset para intentar inferir el año\n",
        "\n",
        "data_prices['cambio'] = data_prices['price_aprox_local_currency'] / data_prices['price_aprox_usd']\n",
        "\n",
        "data_prices.cambio.mean()"
      ],
      "execution_count": 61,
      "outputs": [
        {
          "output_type": "stream",
          "text": [
            "/usr/local/lib/python3.6/dist-packages/ipykernel_launcher.py:3: SettingWithCopyWarning: \n",
            "A value is trying to be set on a copy of a slice from a DataFrame.\n",
            "Try using .loc[row_indexer,col_indexer] = value instead\n",
            "\n",
            "See the caveats in the documentation: https://pandas.pydata.org/pandas-docs/stable/user_guide/indexing.html#returning-a-view-versus-a-copy\n",
            "  This is separate from the ipykernel package so we can avoid doing imports until\n"
          ],
          "name": "stderr"
        },
        {
          "output_type": "execute_result",
          "data": {
            "text/plain": [
              "17.644499988448175"
            ]
          },
          "metadata": {
            "tags": []
          },
          "execution_count": 61
        }
      ]
    },
    {
      "cell_type": "markdown",
      "metadata": {
        "id": "FWdVqjvtm5Hb"
      },
      "source": [
        "Un tipo de cambio de 17.6445 nos indica que el dataset es de la segunda mitad de año de **2017**.\n"
      ]
    },
    {
      "cell_type": "code",
      "metadata": {
        "id": "WVS3DfrFodjn",
        "outputId": "3c9775c6-f059-46a2-f344-036c7645498e",
        "colab": {
          "base_uri": "https://localhost:8080/",
          "height": 0
        }
      },
      "source": [
        "data[['price_usd_per_m2', 'price_aprox_usd', 'surface_total_in_m2', 'surface_covered_in_m2', 'floor', 'rooms']].corr()"
      ],
      "execution_count": 62,
      "outputs": [
        {
          "output_type": "execute_result",
          "data": {
            "text/html": [
              "<div>\n",
              "<style scoped>\n",
              "    .dataframe tbody tr th:only-of-type {\n",
              "        vertical-align: middle;\n",
              "    }\n",
              "\n",
              "    .dataframe tbody tr th {\n",
              "        vertical-align: top;\n",
              "    }\n",
              "\n",
              "    .dataframe thead th {\n",
              "        text-align: right;\n",
              "    }\n",
              "</style>\n",
              "<table border=\"1\" class=\"dataframe\">\n",
              "  <thead>\n",
              "    <tr style=\"text-align: right;\">\n",
              "      <th></th>\n",
              "      <th>price_usd_per_m2</th>\n",
              "      <th>price_aprox_usd</th>\n",
              "      <th>surface_total_in_m2</th>\n",
              "      <th>surface_covered_in_m2</th>\n",
              "      <th>floor</th>\n",
              "      <th>rooms</th>\n",
              "    </tr>\n",
              "  </thead>\n",
              "  <tbody>\n",
              "    <tr>\n",
              "      <th>price_usd_per_m2</th>\n",
              "      <td>1.000000</td>\n",
              "      <td>0.311328</td>\n",
              "      <td>-0.047708</td>\n",
              "      <td>-0.050408</td>\n",
              "      <td>0.158965</td>\n",
              "      <td>-0.173599</td>\n",
              "    </tr>\n",
              "    <tr>\n",
              "      <th>price_aprox_usd</th>\n",
              "      <td>0.311328</td>\n",
              "      <td>1.000000</td>\n",
              "      <td>0.301137</td>\n",
              "      <td>0.165531</td>\n",
              "      <td>-0.003029</td>\n",
              "      <td>0.182916</td>\n",
              "    </tr>\n",
              "    <tr>\n",
              "      <th>surface_total_in_m2</th>\n",
              "      <td>-0.047708</td>\n",
              "      <td>0.301137</td>\n",
              "      <td>1.000000</td>\n",
              "      <td>0.195453</td>\n",
              "      <td>0.013522</td>\n",
              "      <td>0.106810</td>\n",
              "    </tr>\n",
              "    <tr>\n",
              "      <th>surface_covered_in_m2</th>\n",
              "      <td>-0.050408</td>\n",
              "      <td>0.165531</td>\n",
              "      <td>0.195453</td>\n",
              "      <td>1.000000</td>\n",
              "      <td>-0.000677</td>\n",
              "      <td>0.162912</td>\n",
              "    </tr>\n",
              "    <tr>\n",
              "      <th>floor</th>\n",
              "      <td>0.158965</td>\n",
              "      <td>-0.003029</td>\n",
              "      <td>0.013522</td>\n",
              "      <td>-0.000677</td>\n",
              "      <td>1.000000</td>\n",
              "      <td>0.065190</td>\n",
              "    </tr>\n",
              "    <tr>\n",
              "      <th>rooms</th>\n",
              "      <td>-0.173599</td>\n",
              "      <td>0.182916</td>\n",
              "      <td>0.106810</td>\n",
              "      <td>0.162912</td>\n",
              "      <td>0.065190</td>\n",
              "      <td>1.000000</td>\n",
              "    </tr>\n",
              "  </tbody>\n",
              "</table>\n",
              "</div>"
            ],
            "text/plain": [
              "                       price_usd_per_m2  price_aprox_usd  surface_total_in_m2  \\\n",
              "price_usd_per_m2               1.000000         0.311328            -0.047708   \n",
              "price_aprox_usd                0.311328         1.000000             0.301137   \n",
              "surface_total_in_m2           -0.047708         0.301137             1.000000   \n",
              "surface_covered_in_m2         -0.050408         0.165531             0.195453   \n",
              "floor                          0.158965        -0.003029             0.013522   \n",
              "rooms                         -0.173599         0.182916             0.106810   \n",
              "\n",
              "                       surface_covered_in_m2     floor     rooms  \n",
              "price_usd_per_m2                   -0.050408  0.158965 -0.173599  \n",
              "price_aprox_usd                     0.165531 -0.003029  0.182916  \n",
              "surface_total_in_m2                 0.195453  0.013522  0.106810  \n",
              "surface_covered_in_m2               1.000000 -0.000677  0.162912  \n",
              "floor                              -0.000677  1.000000  0.065190  \n",
              "rooms                               0.162912  0.065190  1.000000  "
            ]
          },
          "metadata": {
            "tags": []
          },
          "execution_count": 62
        }
      ]
    },
    {
      "cell_type": "markdown",
      "metadata": {
        "id": "3f2LMgNxvroo"
      },
      "source": [
        "### Limpieza datos de geolocalizacion\n"
      ]
    },
    {
      "cell_type": "markdown",
      "metadata": {
        "id": "rrdET14Ut6T-"
      },
      "source": [
        "Vamos a quitar los avisos que no tienen precio en dolares por m2 ya que no hay consideramos que haya una correlaccion lo bastante fuerte con otra columna para poder interpolar este valor sin ensuciar nuestro dataset."
      ]
    },
    {
      "cell_type": "code",
      "metadata": {
        "id": "XK5RIUvWp3K6",
        "outputId": "245b90fe-7b13-4a11-ba96-fe71d247f05f",
        "colab": {
          "base_uri": "https://localhost:8080/",
          "height": 0
        }
      },
      "source": [
        "properati.dropna(subset = ['price_usd_per_m2'], inplace = True)"
      ],
      "execution_count": 63,
      "outputs": [
        {
          "output_type": "stream",
          "text": [
            "/usr/local/lib/python3.6/dist-packages/ipykernel_launcher.py:1: SettingWithCopyWarning: \n",
            "A value is trying to be set on a copy of a slice from a DataFrame\n",
            "\n",
            "See the caveats in the documentation: https://pandas.pydata.org/pandas-docs/stable/user_guide/indexing.html#returning-a-view-versus-a-copy\n",
            "  \"\"\"Entry point for launching an IPython kernel.\n"
          ],
          "name": "stderr"
        }
      ]
    },
    {
      "cell_type": "code",
      "metadata": {
        "id": "gL75_uizuQCU",
        "outputId": "bb579a93-cc03-481c-e1ca-373bc44fc12f",
        "colab": {
          "base_uri": "https://localhost:8080/",
          "height": 0
        }
      },
      "source": [
        "properati.head()"
      ],
      "execution_count": 64,
      "outputs": [
        {
          "output_type": "execute_result",
          "data": {
            "text/html": [
              "<div>\n",
              "<style scoped>\n",
              "    .dataframe tbody tr th:only-of-type {\n",
              "        vertical-align: middle;\n",
              "    }\n",
              "\n",
              "    .dataframe tbody tr th {\n",
              "        vertical-align: top;\n",
              "    }\n",
              "\n",
              "    .dataframe thead th {\n",
              "        text-align: right;\n",
              "    }\n",
              "</style>\n",
              "<table border=\"1\" class=\"dataframe\">\n",
              "  <thead>\n",
              "    <tr style=\"text-align: right;\">\n",
              "      <th></th>\n",
              "      <th>property_type</th>\n",
              "      <th>title</th>\n",
              "      <th>description</th>\n",
              "      <th>state_name</th>\n",
              "      <th>place_name</th>\n",
              "      <th>place_with_parent_names</th>\n",
              "      <th>price_aprox_usd</th>\n",
              "      <th>price_usd_per_m2</th>\n",
              "      <th>expenses</th>\n",
              "      <th>surface_total_in_m2</th>\n",
              "      <th>surface_covered_in_m2</th>\n",
              "      <th>floor</th>\n",
              "      <th>rooms</th>\n",
              "      <th>geonames_id</th>\n",
              "      <th>lat-lon</th>\n",
              "      <th>lat</th>\n",
              "      <th>lon</th>\n",
              "    </tr>\n",
              "  </thead>\n",
              "  <tbody>\n",
              "    <tr>\n",
              "      <th>0</th>\n",
              "      <td>PH</td>\n",
              "      <td>2 AMB TIPO CASA SIN EXPENSAS EN PB</td>\n",
              "      <td>2 AMBIENTES TIPO CASA PLANTA BAJA POR PASILLO,...</td>\n",
              "      <td>Capital Federal</td>\n",
              "      <td>Mataderos</td>\n",
              "      <td>|Argentina|Capital Federal|Mataderos|</td>\n",
              "      <td>62000.0</td>\n",
              "      <td>1127.272727</td>\n",
              "      <td>NaN</td>\n",
              "      <td>55.0</td>\n",
              "      <td>40.0</td>\n",
              "      <td>0.0</td>\n",
              "      <td>NaN</td>\n",
              "      <td>3430787.0</td>\n",
              "      <td>-34.6618237,-58.5088387</td>\n",
              "      <td>-34.661824</td>\n",
              "      <td>-58.508839</td>\n",
              "    </tr>\n",
              "    <tr>\n",
              "      <th>2</th>\n",
              "      <td>apartment</td>\n",
              "      <td>2 AMB 3ER PISO CON ASCENSOR APTO CREDITO</td>\n",
              "      <td>2 AMBIENTES 3ER PISO LATERAL LIVING COMEDOR AM...</td>\n",
              "      <td>Capital Federal</td>\n",
              "      <td>Mataderos</td>\n",
              "      <td>|Argentina|Capital Federal|Mataderos|</td>\n",
              "      <td>72000.0</td>\n",
              "      <td>1309.090909</td>\n",
              "      <td>NaN</td>\n",
              "      <td>55.0</td>\n",
              "      <td>55.0</td>\n",
              "      <td>0.0</td>\n",
              "      <td>NaN</td>\n",
              "      <td>3430787.0</td>\n",
              "      <td>-34.6522615,-58.5229825</td>\n",
              "      <td>-34.652262</td>\n",
              "      <td>-58.522982</td>\n",
              "    </tr>\n",
              "    <tr>\n",
              "      <th>4</th>\n",
              "      <td>apartment</td>\n",
              "      <td>DEPTO 2 AMB AL CONTRAFRENTE ZONA CENTRO/PLAZA ...</td>\n",
              "      <td>DEPARTAMENTO CON FANTÁSTICA ILUMINACIÓN NATURA...</td>\n",
              "      <td>Buenos Aires Costa Atlántica</td>\n",
              "      <td>Centro</td>\n",
              "      <td>|Argentina|Buenos Aires Costa Atlántica|Mar de...</td>\n",
              "      <td>64000.0</td>\n",
              "      <td>1828.571429</td>\n",
              "      <td>NaN</td>\n",
              "      <td>35.0</td>\n",
              "      <td>35.0</td>\n",
              "      <td>0.0</td>\n",
              "      <td>NaN</td>\n",
              "      <td>3435548.0</td>\n",
              "      <td>-38.0026256,-57.5494468</td>\n",
              "      <td>-38.002626</td>\n",
              "      <td>-57.549447</td>\n",
              "    </tr>\n",
              "    <tr>\n",
              "      <th>6</th>\n",
              "      <td>PH</td>\n",
              "      <td>MUY BUEN PH AL FRENTE DOS DORMITORIOS , PATIO,...</td>\n",
              "      <td>MUY BUEN PH AL FRENTE CON ENTRADA INDEPENDIENT...</td>\n",
              "      <td>Bs.As. G.B.A. Zona Norte</td>\n",
              "      <td>Munro</td>\n",
              "      <td>|Argentina|Bs.As. G.B.A. Zona Norte|Vicente Ló...</td>\n",
              "      <td>130000.0</td>\n",
              "      <td>1226.415094</td>\n",
              "      <td>NaN</td>\n",
              "      <td>106.0</td>\n",
              "      <td>78.0</td>\n",
              "      <td>0.0</td>\n",
              "      <td>NaN</td>\n",
              "      <td>3430511.0</td>\n",
              "      <td>-34.5329567,-58.5217825</td>\n",
              "      <td>-34.532957</td>\n",
              "      <td>-58.521782</td>\n",
              "    </tr>\n",
              "    <tr>\n",
              "      <th>7</th>\n",
              "      <td>apartment</td>\n",
              "      <td>JOSE HERNANDEZ 1400 MONOAMBIENTE  ESTRENAR CAT...</td>\n",
              "      <td>EXCELENTE MONOAMBIENTE A ESTRENAR AMPLIO SUPER...</td>\n",
              "      <td>Capital Federal</td>\n",
              "      <td>Belgrano</td>\n",
              "      <td>|Argentina|Capital Federal|Belgrano|</td>\n",
              "      <td>138000.0</td>\n",
              "      <td>3066.666667</td>\n",
              "      <td>NaN</td>\n",
              "      <td>45.0</td>\n",
              "      <td>40.0</td>\n",
              "      <td>0.0</td>\n",
              "      <td>NaN</td>\n",
              "      <td>3436077.0</td>\n",
              "      <td>-34.5598729,-58.443362</td>\n",
              "      <td>-34.559873</td>\n",
              "      <td>-58.443362</td>\n",
              "    </tr>\n",
              "  </tbody>\n",
              "</table>\n",
              "</div>"
            ],
            "text/plain": [
              "  property_type                                              title  \\\n",
              "0            PH                 2 AMB TIPO CASA SIN EXPENSAS EN PB   \n",
              "2     apartment           2 AMB 3ER PISO CON ASCENSOR APTO CREDITO   \n",
              "4     apartment  DEPTO 2 AMB AL CONTRAFRENTE ZONA CENTRO/PLAZA ...   \n",
              "6            PH  MUY BUEN PH AL FRENTE DOS DORMITORIOS , PATIO,...   \n",
              "7     apartment  JOSE HERNANDEZ 1400 MONOAMBIENTE  ESTRENAR CAT...   \n",
              "\n",
              "                                         description  \\\n",
              "0  2 AMBIENTES TIPO CASA PLANTA BAJA POR PASILLO,...   \n",
              "2  2 AMBIENTES 3ER PISO LATERAL LIVING COMEDOR AM...   \n",
              "4  DEPARTAMENTO CON FANTÁSTICA ILUMINACIÓN NATURA...   \n",
              "6  MUY BUEN PH AL FRENTE CON ENTRADA INDEPENDIENT...   \n",
              "7  EXCELENTE MONOAMBIENTE A ESTRENAR AMPLIO SUPER...   \n",
              "\n",
              "                     state_name place_name  \\\n",
              "0               Capital Federal  Mataderos   \n",
              "2               Capital Federal  Mataderos   \n",
              "4  Buenos Aires Costa Atlántica     Centro   \n",
              "6      Bs.As. G.B.A. Zona Norte      Munro   \n",
              "7               Capital Federal   Belgrano   \n",
              "\n",
              "                             place_with_parent_names  price_aprox_usd  \\\n",
              "0              |Argentina|Capital Federal|Mataderos|          62000.0   \n",
              "2              |Argentina|Capital Federal|Mataderos|          72000.0   \n",
              "4  |Argentina|Buenos Aires Costa Atlántica|Mar de...          64000.0   \n",
              "6  |Argentina|Bs.As. G.B.A. Zona Norte|Vicente Ló...         130000.0   \n",
              "7               |Argentina|Capital Federal|Belgrano|         138000.0   \n",
              "\n",
              "   price_usd_per_m2  expenses  surface_total_in_m2  surface_covered_in_m2  \\\n",
              "0       1127.272727       NaN                 55.0                   40.0   \n",
              "2       1309.090909       NaN                 55.0                   55.0   \n",
              "4       1828.571429       NaN                 35.0                   35.0   \n",
              "6       1226.415094       NaN                106.0                   78.0   \n",
              "7       3066.666667       NaN                 45.0                   40.0   \n",
              "\n",
              "   floor  rooms  geonames_id                  lat-lon        lat        lon  \n",
              "0    0.0    NaN    3430787.0  -34.6618237,-58.5088387 -34.661824 -58.508839  \n",
              "2    0.0    NaN    3430787.0  -34.6522615,-58.5229825 -34.652262 -58.522982  \n",
              "4    0.0    NaN    3435548.0  -38.0026256,-57.5494468 -38.002626 -57.549447  \n",
              "6    0.0    NaN    3430511.0  -34.5329567,-58.5217825 -34.532957 -58.521782  \n",
              "7    0.0    NaN    3436077.0   -34.5598729,-58.443362 -34.559873 -58.443362  "
            ]
          },
          "metadata": {
            "tags": []
          },
          "execution_count": 64
        }
      ]
    },
    {
      "cell_type": "code",
      "metadata": {
        "id": "iR0ETTSRvx8s",
        "outputId": "67945c29-8081-47bd-b3dc-21444a3df6a0",
        "colab": {
          "base_uri": "https://localhost:8080/",
          "height": 0
        }
      },
      "source": [
        "properati['place_with_parent_names'].isnull().sum()"
      ],
      "execution_count": 65,
      "outputs": [
        {
          "output_type": "execute_result",
          "data": {
            "text/plain": [
              "0"
            ]
          },
          "metadata": {
            "tags": []
          },
          "execution_count": 65
        }
      ]
    },
    {
      "cell_type": "code",
      "metadata": {
        "id": "Ryf_sv5LwAst",
        "outputId": "dad7c07e-bb12-40c4-c2c1-23c3814f1c00",
        "colab": {
          "base_uri": "https://localhost:8080/",
          "height": 0
        }
      },
      "source": [
        "properati[data_geo].isnull().sum()"
      ],
      "execution_count": 66,
      "outputs": [
        {
          "output_type": "execute_result",
          "data": {
            "text/plain": [
              "geonames_id    11696\n",
              "lat-lon        28667\n",
              "lat            28667\n",
              "lon            28667\n",
              "dtype: int64"
            ]
          },
          "metadata": {
            "tags": []
          },
          "execution_count": 66
        }
      ]
    },
    {
      "cell_type": "code",
      "metadata": {
        "id": "U4XTZkTXx3j-",
        "outputId": "8e1b9ba1-ebc6-43b8-d316-98f68b038b17",
        "colab": {
          "base_uri": "https://localhost:8080/",
          "height": 0
        }
      },
      "source": [
        "properati.geonames_id.value_counts()"
      ],
      "execution_count": 67,
      "outputs": [
        {
          "output_type": "execute_result",
          "data": {
            "text/plain": [
              "3430863.0    4063\n",
              "3838574.0    3520\n",
              "3430234.0    2283\n",
              "3436077.0    2127\n",
              "3435874.0    1678\n",
              "             ... \n",
              "3865485.0       1\n",
              "3865385.0       1\n",
              "3864878.0       1\n",
              "3843788.0       1\n",
              "3853510.0       1\n",
              "Name: geonames_id, Length: 470, dtype: int64"
            ]
          },
          "metadata": {
            "tags": []
          },
          "execution_count": 67
        }
      ]
    },
    {
      "cell_type": "code",
      "metadata": {
        "id": "9I31gF-ywQBx",
        "outputId": "ce53fdc2-b283-4724-df2d-75ace017ae19",
        "colab": {
          "base_uri": "https://localhost:8080/",
          "height": 0
        }
      },
      "source": [
        "properati['geonames_id'] = properati.geonames_id.interpolate()\n",
        "\n",
        "properati.geonames_id.value_counts()"
      ],
      "execution_count": 68,
      "outputs": [
        {
          "output_type": "stream",
          "text": [
            "/usr/local/lib/python3.6/dist-packages/ipykernel_launcher.py:1: SettingWithCopyWarning: \n",
            "A value is trying to be set on a copy of a slice from a DataFrame.\n",
            "Try using .loc[row_indexer,col_indexer] = value instead\n",
            "\n",
            "See the caveats in the documentation: https://pandas.pydata.org/pandas-docs/stable/user_guide/indexing.html#returning-a-view-versus-a-copy\n",
            "  \"\"\"Entry point for launching an IPython kernel.\n"
          ],
          "name": "stderr"
        },
        {
          "output_type": "execute_result",
          "data": {
            "text/plain": [
              "3430863.00    4134\n",
              "3838574.00    3597\n",
              "3430234.00    2335\n",
              "3436077.00    2152\n",
              "3427753.00    1880\n",
              "              ... \n",
              "3431719.00       1\n",
              "3431727.25       1\n",
              "3431701.50       1\n",
              "3431696.00       1\n",
              "3434719.50       1\n",
              "Name: geonames_id, Length: 6637, dtype: int64"
            ]
          },
          "metadata": {
            "tags": []
          },
          "execution_count": 68
        }
      ]
    },
    {
      "cell_type": "code",
      "metadata": {
        "id": "JEFgrWO10n-O",
        "outputId": "7da31cc7-3bba-412f-973b-1394107ad5a7",
        "colab": {
          "base_uri": "https://localhost:8080/",
          "height": 0
        }
      },
      "source": [
        "properati.lat.describe()"
      ],
      "execution_count": 69,
      "outputs": [
        {
          "output_type": "execute_result",
          "data": {
            "text/plain": [
              "count    39950.000000\n",
              "mean       -34.846551\n",
              "std          1.691310\n",
              "min        -54.819736\n",
              "25%        -34.652095\n",
              "50%        -34.598832\n",
              "75%        -34.532969\n",
              "max        -23.137164\n",
              "Name: lat, dtype: float64"
            ]
          },
          "metadata": {
            "tags": []
          },
          "execution_count": 69
        }
      ]
    },
    {
      "cell_type": "code",
      "metadata": {
        "id": "Wn27_heVyPG_",
        "outputId": "bea8c699-5b41-4daa-c3d9-9ec40a4f65b2",
        "colab": {
          "base_uri": "https://localhost:8080/",
          "height": 0
        }
      },
      "source": [
        "properati['lat'] = properati.groupby('place_with_parent_names')['lat'].apply(lambda g: g.interpolate('index'))\n",
        "properati['lat'].describe()"
      ],
      "execution_count": 70,
      "outputs": [
        {
          "output_type": "stream",
          "text": [
            "/usr/local/lib/python3.6/dist-packages/ipykernel_launcher.py:1: SettingWithCopyWarning: \n",
            "A value is trying to be set on a copy of a slice from a DataFrame.\n",
            "Try using .loc[row_indexer,col_indexer] = value instead\n",
            "\n",
            "See the caveats in the documentation: https://pandas.pydata.org/pandas-docs/stable/user_guide/indexing.html#returning-a-view-versus-a-copy\n",
            "  \"\"\"Entry point for launching an IPython kernel.\n"
          ],
          "name": "stderr"
        },
        {
          "output_type": "execute_result",
          "data": {
            "text/plain": [
              "count    67783.000000\n",
              "mean       -34.605957\n",
              "std          1.687870\n",
              "min        -54.819736\n",
              "25%        -34.645004\n",
              "50%        -34.588420\n",
              "75%        -34.444033\n",
              "max        -23.137164\n",
              "Name: lat, dtype: float64"
            ]
          },
          "metadata": {
            "tags": []
          },
          "execution_count": 70
        }
      ]
    },
    {
      "cell_type": "code",
      "metadata": {
        "id": "Y4Da6F8k0oUF",
        "outputId": "0a2c71e5-1218-42d6-f76c-e319d17c7c9e",
        "colab": {
          "base_uri": "https://localhost:8080/",
          "height": 0
        }
      },
      "source": [
        "properati.lon.describe()"
      ],
      "execution_count": 71,
      "outputs": [
        {
          "output_type": "execute_result",
          "data": {
            "text/plain": [
              "count    39950.000000\n",
              "mean       -58.837329\n",
              "std          1.733245\n",
              "min        -71.663515\n",
              "25%        -58.632187\n",
              "50%        -58.457591\n",
              "75%        -58.391419\n",
              "max        -54.556127\n",
              "Name: lon, dtype: float64"
            ]
          },
          "metadata": {
            "tags": []
          },
          "execution_count": 71
        }
      ]
    },
    {
      "cell_type": "code",
      "metadata": {
        "id": "pKRUmbzGy0kq",
        "outputId": "607efa1e-8273-44f8-f9bd-47cf73a0fcd5",
        "colab": {
          "base_uri": "https://localhost:8080/",
          "height": 0
        }
      },
      "source": [
        "properati['lon'] = properati.groupby('place_with_parent_names')['lon'].apply(lambda g: g.interpolate('index'))\n",
        "properati['lon'].describe()"
      ],
      "execution_count": 72,
      "outputs": [
        {
          "output_type": "stream",
          "text": [
            "/usr/local/lib/python3.6/dist-packages/ipykernel_launcher.py:1: SettingWithCopyWarning: \n",
            "A value is trying to be set on a copy of a slice from a DataFrame.\n",
            "Try using .loc[row_indexer,col_indexer] = value instead\n",
            "\n",
            "See the caveats in the documentation: https://pandas.pydata.org/pandas-docs/stable/user_guide/indexing.html#returning-a-view-versus-a-copy\n",
            "  \"\"\"Entry point for launching an IPython kernel.\n"
          ],
          "name": "stderr"
        },
        {
          "output_type": "execute_result",
          "data": {
            "text/plain": [
              "count    67783.000000\n",
              "mean       -59.003396\n",
              "std          1.886102\n",
              "min        -71.663515\n",
              "25%        -58.666507\n",
              "50%        -58.482362\n",
              "75%        -58.403280\n",
              "max        -54.556127\n",
              "Name: lon, dtype: float64"
            ]
          },
          "metadata": {
            "tags": []
          },
          "execution_count": 72
        }
      ]
    },
    {
      "cell_type": "code",
      "metadata": {
        "id": "g39NdVYT1Nkd",
        "outputId": "510eaefa-3e8f-4242-8c77-b459b8aa5c9c",
        "colab": {
          "base_uri": "https://localhost:8080/",
          "height": 0
        }
      },
      "source": [
        "properati['lon'] = properati.groupby('place_name')['lon'].apply(lambda g: g.interpolate('index'))\n",
        "properati['lat'] = properati.groupby('place_name')['lat'].apply(lambda g: g.interpolate('index'))"
      ],
      "execution_count": 73,
      "outputs": [
        {
          "output_type": "stream",
          "text": [
            "/usr/local/lib/python3.6/dist-packages/ipykernel_launcher.py:1: SettingWithCopyWarning: \n",
            "A value is trying to be set on a copy of a slice from a DataFrame.\n",
            "Try using .loc[row_indexer,col_indexer] = value instead\n",
            "\n",
            "See the caveats in the documentation: https://pandas.pydata.org/pandas-docs/stable/user_guide/indexing.html#returning-a-view-versus-a-copy\n",
            "  \"\"\"Entry point for launching an IPython kernel.\n",
            "/usr/local/lib/python3.6/dist-packages/ipykernel_launcher.py:2: SettingWithCopyWarning: \n",
            "A value is trying to be set on a copy of a slice from a DataFrame.\n",
            "Try using .loc[row_indexer,col_indexer] = value instead\n",
            "\n",
            "See the caveats in the documentation: https://pandas.pydata.org/pandas-docs/stable/user_guide/indexing.html#returning-a-view-versus-a-copy\n",
            "  \n"
          ],
          "name": "stderr"
        }
      ]
    },
    {
      "cell_type": "code",
      "metadata": {
        "id": "0YLRGvlU0_p1",
        "outputId": "366d4d2c-b57e-49d6-bb8e-7cc817e61f22",
        "colab": {
          "base_uri": "https://localhost:8080/",
          "height": 0
        }
      },
      "source": [
        "properati[data_geo].isnull().sum()"
      ],
      "execution_count": 74,
      "outputs": [
        {
          "output_type": "execute_result",
          "data": {
            "text/plain": [
              "geonames_id        0\n",
              "lat-lon        28667\n",
              "lat              606\n",
              "lon              606\n",
              "dtype: int64"
            ]
          },
          "metadata": {
            "tags": []
          },
          "execution_count": 74
        }
      ]
    },
    {
      "cell_type": "code",
      "metadata": {
        "id": "4hNivNwk0U0Y",
        "outputId": "9c9fcd5f-049b-4ac9-a8c2-122ec53880d0",
        "colab": {
          "base_uri": "https://localhost:8080/",
          "height": 0
        }
      },
      "source": [
        "properati.drop('lat-lon', axis=1, inplace=True)\n",
        "properati.shape"
      ],
      "execution_count": 75,
      "outputs": [
        {
          "output_type": "stream",
          "text": [
            "/usr/local/lib/python3.6/dist-packages/pandas/core/frame.py:4169: SettingWithCopyWarning: \n",
            "A value is trying to be set on a copy of a slice from a DataFrame\n",
            "\n",
            "See the caveats in the documentation: https://pandas.pydata.org/pandas-docs/stable/user_guide/indexing.html#returning-a-view-versus-a-copy\n",
            "  errors=errors,\n"
          ],
          "name": "stderr"
        },
        {
          "output_type": "execute_result",
          "data": {
            "text/plain": [
              "(68617, 16)"
            ]
          },
          "metadata": {
            "tags": []
          },
          "execution_count": 75
        }
      ]
    },
    {
      "cell_type": "code",
      "metadata": {
        "id": "a3WXwn6C0sBX",
        "outputId": "0e14dc28-d7a3-49a7-9f4c-26b466940044",
        "colab": {
          "base_uri": "https://localhost:8080/",
          "height": 0
        }
      },
      "source": [
        "properati.head(3)"
      ],
      "execution_count": 76,
      "outputs": [
        {
          "output_type": "execute_result",
          "data": {
            "text/html": [
              "<div>\n",
              "<style scoped>\n",
              "    .dataframe tbody tr th:only-of-type {\n",
              "        vertical-align: middle;\n",
              "    }\n",
              "\n",
              "    .dataframe tbody tr th {\n",
              "        vertical-align: top;\n",
              "    }\n",
              "\n",
              "    .dataframe thead th {\n",
              "        text-align: right;\n",
              "    }\n",
              "</style>\n",
              "<table border=\"1\" class=\"dataframe\">\n",
              "  <thead>\n",
              "    <tr style=\"text-align: right;\">\n",
              "      <th></th>\n",
              "      <th>property_type</th>\n",
              "      <th>title</th>\n",
              "      <th>description</th>\n",
              "      <th>state_name</th>\n",
              "      <th>place_name</th>\n",
              "      <th>place_with_parent_names</th>\n",
              "      <th>price_aprox_usd</th>\n",
              "      <th>price_usd_per_m2</th>\n",
              "      <th>expenses</th>\n",
              "      <th>surface_total_in_m2</th>\n",
              "      <th>surface_covered_in_m2</th>\n",
              "      <th>floor</th>\n",
              "      <th>rooms</th>\n",
              "      <th>geonames_id</th>\n",
              "      <th>lat</th>\n",
              "      <th>lon</th>\n",
              "    </tr>\n",
              "  </thead>\n",
              "  <tbody>\n",
              "    <tr>\n",
              "      <th>0</th>\n",
              "      <td>PH</td>\n",
              "      <td>2 AMB TIPO CASA SIN EXPENSAS EN PB</td>\n",
              "      <td>2 AMBIENTES TIPO CASA PLANTA BAJA POR PASILLO,...</td>\n",
              "      <td>Capital Federal</td>\n",
              "      <td>Mataderos</td>\n",
              "      <td>|Argentina|Capital Federal|Mataderos|</td>\n",
              "      <td>62000.0</td>\n",
              "      <td>1127.272727</td>\n",
              "      <td>NaN</td>\n",
              "      <td>55.0</td>\n",
              "      <td>40.0</td>\n",
              "      <td>0.0</td>\n",
              "      <td>NaN</td>\n",
              "      <td>3430787.0</td>\n",
              "      <td>-34.661824</td>\n",
              "      <td>-58.508839</td>\n",
              "    </tr>\n",
              "    <tr>\n",
              "      <th>2</th>\n",
              "      <td>apartment</td>\n",
              "      <td>2 AMB 3ER PISO CON ASCENSOR APTO CREDITO</td>\n",
              "      <td>2 AMBIENTES 3ER PISO LATERAL LIVING COMEDOR AM...</td>\n",
              "      <td>Capital Federal</td>\n",
              "      <td>Mataderos</td>\n",
              "      <td>|Argentina|Capital Federal|Mataderos|</td>\n",
              "      <td>72000.0</td>\n",
              "      <td>1309.090909</td>\n",
              "      <td>NaN</td>\n",
              "      <td>55.0</td>\n",
              "      <td>55.0</td>\n",
              "      <td>0.0</td>\n",
              "      <td>NaN</td>\n",
              "      <td>3430787.0</td>\n",
              "      <td>-34.652262</td>\n",
              "      <td>-58.522982</td>\n",
              "    </tr>\n",
              "    <tr>\n",
              "      <th>4</th>\n",
              "      <td>apartment</td>\n",
              "      <td>DEPTO 2 AMB AL CONTRAFRENTE ZONA CENTRO/PLAZA ...</td>\n",
              "      <td>DEPARTAMENTO CON FANTÁSTICA ILUMINACIÓN NATURA...</td>\n",
              "      <td>Buenos Aires Costa Atlántica</td>\n",
              "      <td>Centro</td>\n",
              "      <td>|Argentina|Buenos Aires Costa Atlántica|Mar de...</td>\n",
              "      <td>64000.0</td>\n",
              "      <td>1828.571429</td>\n",
              "      <td>NaN</td>\n",
              "      <td>35.0</td>\n",
              "      <td>35.0</td>\n",
              "      <td>0.0</td>\n",
              "      <td>NaN</td>\n",
              "      <td>3435548.0</td>\n",
              "      <td>-38.002626</td>\n",
              "      <td>-57.549447</td>\n",
              "    </tr>\n",
              "  </tbody>\n",
              "</table>\n",
              "</div>"
            ],
            "text/plain": [
              "  property_type                                              title  \\\n",
              "0            PH                 2 AMB TIPO CASA SIN EXPENSAS EN PB   \n",
              "2     apartment           2 AMB 3ER PISO CON ASCENSOR APTO CREDITO   \n",
              "4     apartment  DEPTO 2 AMB AL CONTRAFRENTE ZONA CENTRO/PLAZA ...   \n",
              "\n",
              "                                         description  \\\n",
              "0  2 AMBIENTES TIPO CASA PLANTA BAJA POR PASILLO,...   \n",
              "2  2 AMBIENTES 3ER PISO LATERAL LIVING COMEDOR AM...   \n",
              "4  DEPARTAMENTO CON FANTÁSTICA ILUMINACIÓN NATURA...   \n",
              "\n",
              "                     state_name place_name  \\\n",
              "0               Capital Federal  Mataderos   \n",
              "2               Capital Federal  Mataderos   \n",
              "4  Buenos Aires Costa Atlántica     Centro   \n",
              "\n",
              "                             place_with_parent_names  price_aprox_usd  \\\n",
              "0              |Argentina|Capital Federal|Mataderos|          62000.0   \n",
              "2              |Argentina|Capital Federal|Mataderos|          72000.0   \n",
              "4  |Argentina|Buenos Aires Costa Atlántica|Mar de...          64000.0   \n",
              "\n",
              "   price_usd_per_m2  expenses  surface_total_in_m2  surface_covered_in_m2  \\\n",
              "0       1127.272727       NaN                 55.0                   40.0   \n",
              "2       1309.090909       NaN                 55.0                   55.0   \n",
              "4       1828.571429       NaN                 35.0                   35.0   \n",
              "\n",
              "   floor  rooms  geonames_id        lat        lon  \n",
              "0    0.0    NaN    3430787.0 -34.661824 -58.508839  \n",
              "2    0.0    NaN    3430787.0 -34.652262 -58.522982  \n",
              "4    0.0    NaN    3435548.0 -38.002626 -57.549447  "
            ]
          },
          "metadata": {
            "tags": []
          },
          "execution_count": 76
        }
      ]
    },
    {
      "cell_type": "markdown",
      "metadata": {
        "id": "emxOeKfxgZxp"
      },
      "source": [
        "## Analisis de Datos"
      ]
    },
    {
      "cell_type": "markdown",
      "metadata": {
        "id": "UcPAGmMZ7muw"
      },
      "source": [
        "Veamos la cantidad de propiedades por tipo de propiedad y por barrio, y luego veamos la distribucion de precios por m2 en usd usando groupby."
      ]
    },
    {
      "cell_type": "code",
      "metadata": {
        "id": "di__H22C5l25",
        "outputId": "5cf9fe25-650f-461c-e22d-cdccaee17f9b",
        "colab": {
          "base_uri": "https://localhost:8080/",
          "height": 306
        }
      },
      "source": [
        "group_cantidad = properati.groupby(['property_type', 'state_name'])['title'].count().sort_values(ascending=False)\n",
        "group_cantidad.head(15)"
      ],
      "execution_count": 91,
      "outputs": [
        {
          "output_type": "execute_result",
          "data": {
            "text/plain": [
              "property_type  state_name                  \n",
              "apartment      Capital Federal                 19896\n",
              "house          Bs.As. G.B.A. Zona Norte         9081\n",
              "apartment      Bs.As. G.B.A. Zona Norte         7343\n",
              "               Buenos Aires Costa Atlántica     4136\n",
              "               Santa Fe                         3276\n",
              "               Bs.As. G.B.A. Zona Sur           2946\n",
              "house          Bs.As. G.B.A. Zona Sur           2622\n",
              "apartment      Córdoba                          2426\n",
              "house          Bs.As. G.B.A. Zona Oeste         2282\n",
              "apartment      Bs.As. G.B.A. Zona Oeste         1752\n",
              "house          Buenos Aires Costa Atlántica     1713\n",
              "               Capital Federal                  1357\n",
              "PH             Capital Federal                  1266\n",
              "house          Córdoba                          1080\n",
              "store          Capital Federal                   915\n",
              "Name: title, dtype: int64"
            ]
          },
          "metadata": {
            "tags": []
          },
          "execution_count": 91
        }
      ]
    },
    {
      "cell_type": "code",
      "metadata": {
        "id": "WsgNQvR870ol",
        "outputId": "bc494b1a-9cb3-4458-ee04-21c8db082d98",
        "colab": {
          "base_uri": "https://localhost:8080/",
          "height": 306
        }
      },
      "source": [
        "group_precios = properati.groupby(['property_type', 'state_name'])['price_usd_per_m2'].mean().sort_values(ascending=False)\n",
        "group_precios.head(15)"
      ],
      "execution_count": 92,
      "outputs": [
        {
          "output_type": "execute_result",
          "data": {
            "text/plain": [
              "property_type  state_name                  \n",
              "apartment      Capital Federal                 3324.464870\n",
              "               San Juan                        3191.489362\n",
              "store          Santa Fe                        3002.901146\n",
              "apartment      Salta                           2987.691166\n",
              "store          Capital Federal                 2899.667204\n",
              "apartment      Río Negro                       2627.957903\n",
              "               Bs.As. G.B.A. Zona Norte        2539.871735\n",
              "               Santa Fe                        2391.993013\n",
              "PH             Neuquén                         2313.924378\n",
              "house          Salta                           2128.169804\n",
              "apartment      Chubut                          2002.694843\n",
              "               Mendoza                         1966.691498\n",
              "               Buenos Aires Costa Atlántica    1958.838430\n",
              "               Corrientes                      1933.717616\n",
              "               Neuquén                         1894.646765\n",
              "Name: price_usd_per_m2, dtype: float64"
            ]
          },
          "metadata": {
            "tags": []
          },
          "execution_count": 92
        }
      ]
    },
    {
      "cell_type": "code",
      "metadata": {
        "id": "YbKjJMC5Z_Uu",
        "outputId": "9e9cd87b-2d48-4c7a-c0f5-bcb3ae915187",
        "colab": {
          "base_uri": "https://localhost:8080/",
          "height": 302
        }
      },
      "source": [
        "%matplotlib inline\n",
        "properati.groupby(['state_name'])['price_usd_per_m2'].count().plot()"
      ],
      "execution_count": 111,
      "outputs": [
        {
          "output_type": "execute_result",
          "data": {
            "text/plain": [
              "<matplotlib.axes._subplots.AxesSubplot at 0x7fc5e7b5cc18>"
            ]
          },
          "metadata": {
            "tags": []
          },
          "execution_count": 111
        },
        {
          "output_type": "display_data",
          "data": {
            "image/png": "[encoded data removed]",
            "text/plain": [
              "<Figure size 432x288 with 1 Axes>"
            ]
          },
          "metadata": {
            "tags": [],
            "needs_background": "light"
          }
        }
      ]
    },
    {
      "cell_type": "markdown",
      "metadata": {
        "id": "USk7OTKsWG13"
      },
      "source": [
        "Usemos pivot_tables para analizar el dataset"
      ]
    },
    {
      "cell_type": "code",
      "metadata": {
        "id": "H926F9DUWLSx",
        "outputId": "bd106feb-f6fe-42db-f559-aa0ccaa78f26",
        "colab": {
          "base_uri": "https://localhost:8080/",
          "height": 1000
        }
      },
      "source": [
        "properati_pivot = pd.pivot_table(properati, values=['price_aprox_usd', 'price_usd_per_m2', 'expenses', 'surface_covered_in_m2', 'surface_total_in_m2'], columns='property_type', index=['state_name'], aggfunc=('mean'), )\n",
        "properati_pivot"
      ],
      "execution_count": 103,
      "outputs": [
        {
          "output_type": "execute_result",
          "data": {
            "text/html": [
              "<div>\n",
              "<style scoped>\n",
              "    .dataframe tbody tr th:only-of-type {\n",
              "        vertical-align: middle;\n",
              "    }\n",
              "\n",
              "    .dataframe tbody tr th {\n",
              "        vertical-align: top;\n",
              "    }\n",
              "\n",
              "    .dataframe thead tr th {\n",
              "        text-align: left;\n",
              "    }\n",
              "\n",
              "    .dataframe thead tr:last-of-type th {\n",
              "        text-align: right;\n",
              "    }\n",
              "</style>\n",
              "<table border=\"1\" class=\"dataframe\">\n",
              "  <thead>\n",
              "    <tr>\n",
              "      <th></th>\n",
              "      <th colspan=\"4\" halign=\"left\">expenses</th>\n",
              "      <th colspan=\"4\" halign=\"left\">price_aprox_usd</th>\n",
              "      <th colspan=\"4\" halign=\"left\">price_usd_per_m2</th>\n",
              "      <th colspan=\"4\" halign=\"left\">surface_covered_in_m2</th>\n",
              "      <th colspan=\"4\" halign=\"left\">surface_total_in_m2</th>\n",
              "    </tr>\n",
              "    <tr>\n",
              "      <th>property_type</th>\n",
              "      <th>PH</th>\n",
              "      <th>apartment</th>\n",
              "      <th>house</th>\n",
              "      <th>store</th>\n",
              "      <th>PH</th>\n",
              "      <th>apartment</th>\n",
              "      <th>house</th>\n",
              "      <th>store</th>\n",
              "      <th>PH</th>\n",
              "      <th>apartment</th>\n",
              "      <th>house</th>\n",
              "      <th>store</th>\n",
              "      <th>PH</th>\n",
              "      <th>apartment</th>\n",
              "      <th>house</th>\n",
              "      <th>store</th>\n",
              "      <th>PH</th>\n",
              "      <th>apartment</th>\n",
              "      <th>house</th>\n",
              "      <th>store</th>\n",
              "    </tr>\n",
              "    <tr>\n",
              "      <th>state_name</th>\n",
              "      <th></th>\n",
              "      <th></th>\n",
              "      <th></th>\n",
              "      <th></th>\n",
              "      <th></th>\n",
              "      <th></th>\n",
              "      <th></th>\n",
              "      <th></th>\n",
              "      <th></th>\n",
              "      <th></th>\n",
              "      <th></th>\n",
              "      <th></th>\n",
              "      <th></th>\n",
              "      <th></th>\n",
              "      <th></th>\n",
              "      <th></th>\n",
              "      <th></th>\n",
              "      <th></th>\n",
              "      <th></th>\n",
              "      <th></th>\n",
              "    </tr>\n",
              "  </thead>\n",
              "  <tbody>\n",
              "    <tr>\n",
              "      <th>Bs.As. G.B.A. Zona Norte</th>\n",
              "      <td>625.702703</td>\n",
              "      <td>3027.289782</td>\n",
              "      <td>5951.455479</td>\n",
              "      <td>1248.901639</td>\n",
              "      <td>138402.450096</td>\n",
              "      <td>207631.807193</td>\n",
              "      <td>447059.967716</td>\n",
              "      <td>545634.646067</td>\n",
              "      <td>1451.712566</td>\n",
              "      <td>2539.871735</td>\n",
              "      <td>1339.764409</td>\n",
              "      <td>1862.009755</td>\n",
              "      <td>88.060855</td>\n",
              "      <td>70.486935</td>\n",
              "      <td>257.267549</td>\n",
              "      <td>562.523511</td>\n",
              "      <td>114.587200</td>\n",
              "      <td>87.635163</td>\n",
              "      <td>484.812135</td>\n",
              "      <td>556.494382</td>\n",
              "    </tr>\n",
              "    <tr>\n",
              "      <th>Bs.As. G.B.A. Zona Oeste</th>\n",
              "      <td>270.851852</td>\n",
              "      <td>1828.487113</td>\n",
              "      <td>2765.542169</td>\n",
              "      <td>1042.933333</td>\n",
              "      <td>110384.588977</td>\n",
              "      <td>95764.692100</td>\n",
              "      <td>225703.229930</td>\n",
              "      <td>442924.929455</td>\n",
              "      <td>1224.018825</td>\n",
              "      <td>1720.754481</td>\n",
              "      <td>1081.629587</td>\n",
              "      <td>1556.947316</td>\n",
              "      <td>96.796499</td>\n",
              "      <td>53.089703</td>\n",
              "      <td>169.132530</td>\n",
              "      <td>491.425743</td>\n",
              "      <td>114.657620</td>\n",
              "      <td>62.002283</td>\n",
              "      <td>354.632778</td>\n",
              "      <td>535.081818</td>\n",
              "    </tr>\n",
              "    <tr>\n",
              "      <th>Bs.As. G.B.A. Zona Sur</th>\n",
              "      <td>496.814815</td>\n",
              "      <td>1508.886968</td>\n",
              "      <td>4143.767908</td>\n",
              "      <td>1143.676471</td>\n",
              "      <td>108290.269161</td>\n",
              "      <td>130876.970679</td>\n",
              "      <td>270661.031125</td>\n",
              "      <td>453404.200989</td>\n",
              "      <td>1114.012013</td>\n",
              "      <td>1889.978782</td>\n",
              "      <td>1164.503788</td>\n",
              "      <td>1541.024184</td>\n",
              "      <td>87.832192</td>\n",
              "      <td>64.529627</td>\n",
              "      <td>187.605681</td>\n",
              "      <td>753.928571</td>\n",
              "      <td>118.164596</td>\n",
              "      <td>73.364223</td>\n",
              "      <td>316.022883</td>\n",
              "      <td>911.858657</td>\n",
              "    </tr>\n",
              "    <tr>\n",
              "      <th>Buenos Aires Costa Atlántica</th>\n",
              "      <td>718.571429</td>\n",
              "      <td>1885.633562</td>\n",
              "      <td>3120.000000</td>\n",
              "      <td>2137.000000</td>\n",
              "      <td>89815.626167</td>\n",
              "      <td>121894.264882</td>\n",
              "      <td>219989.772755</td>\n",
              "      <td>263992.988723</td>\n",
              "      <td>1156.454370</td>\n",
              "      <td>1958.838430</td>\n",
              "      <td>749.149782</td>\n",
              "      <td>1401.045662</td>\n",
              "      <td>97.319149</td>\n",
              "      <td>76.335041</td>\n",
              "      <td>181.671985</td>\n",
              "      <td>308.355140</td>\n",
              "      <td>98.427778</td>\n",
              "      <td>83.905706</td>\n",
              "      <td>483.798015</td>\n",
              "      <td>314.957447</td>\n",
              "    </tr>\n",
              "    <tr>\n",
              "      <th>Buenos Aires Interior</th>\n",
              "      <td>800.000000</td>\n",
              "      <td>1057.742857</td>\n",
              "      <td>4242.000000</td>\n",
              "      <td>NaN</td>\n",
              "      <td>107194.224091</td>\n",
              "      <td>106792.973696</td>\n",
              "      <td>207586.335000</td>\n",
              "      <td>239055.248529</td>\n",
              "      <td>1019.888682</td>\n",
              "      <td>1633.999387</td>\n",
              "      <td>643.236465</td>\n",
              "      <td>987.670901</td>\n",
              "      <td>104.833333</td>\n",
              "      <td>82.431907</td>\n",
              "      <td>227.099338</td>\n",
              "      <td>269.517241</td>\n",
              "      <td>155.409091</td>\n",
              "      <td>91.587459</td>\n",
              "      <td>1274.023006</td>\n",
              "      <td>347.647059</td>\n",
              "    </tr>\n",
              "    <tr>\n",
              "      <th>Capital Federal</th>\n",
              "      <td>961.994083</td>\n",
              "      <td>7062.736889</td>\n",
              "      <td>3070.100000</td>\n",
              "      <td>2735.000000</td>\n",
              "      <td>190510.284052</td>\n",
              "      <td>256444.212179</td>\n",
              "      <td>528736.223648</td>\n",
              "      <td>542569.483082</td>\n",
              "      <td>1695.517729</td>\n",
              "      <td>3324.464870</td>\n",
              "      <td>1546.701574</td>\n",
              "      <td>2899.667204</td>\n",
              "      <td>96.352990</td>\n",
              "      <td>69.232853</td>\n",
              "      <td>256.765306</td>\n",
              "      <td>282.475271</td>\n",
              "      <td>128.453397</td>\n",
              "      <td>88.903046</td>\n",
              "      <td>467.948416</td>\n",
              "      <td>293.543169</td>\n",
              "    </tr>\n",
              "    <tr>\n",
              "      <th>Catamarca</th>\n",
              "      <td>NaN</td>\n",
              "      <td>NaN</td>\n",
              "      <td>NaN</td>\n",
              "      <td>NaN</td>\n",
              "      <td>NaN</td>\n",
              "      <td>NaN</td>\n",
              "      <td>161877.398333</td>\n",
              "      <td>NaN</td>\n",
              "      <td>NaN</td>\n",
              "      <td>NaN</td>\n",
              "      <td>556.045469</td>\n",
              "      <td>NaN</td>\n",
              "      <td>NaN</td>\n",
              "      <td>NaN</td>\n",
              "      <td>175.400000</td>\n",
              "      <td>NaN</td>\n",
              "      <td>NaN</td>\n",
              "      <td>NaN</td>\n",
              "      <td>425.000000</td>\n",
              "      <td>NaN</td>\n",
              "    </tr>\n",
              "    <tr>\n",
              "      <th>Chaco</th>\n",
              "      <td>NaN</td>\n",
              "      <td>2100.000000</td>\n",
              "      <td>NaN</td>\n",
              "      <td>NaN</td>\n",
              "      <td>NaN</td>\n",
              "      <td>141708.974286</td>\n",
              "      <td>182608.355789</td>\n",
              "      <td>562500.000000</td>\n",
              "      <td>NaN</td>\n",
              "      <td>1424.743536</td>\n",
              "      <td>701.166824</td>\n",
              "      <td>1509.551047</td>\n",
              "      <td>NaN</td>\n",
              "      <td>88.166667</td>\n",
              "      <td>202.812500</td>\n",
              "      <td>471.000000</td>\n",
              "      <td>NaN</td>\n",
              "      <td>96.285714</td>\n",
              "      <td>322.526316</td>\n",
              "      <td>462.000000</td>\n",
              "    </tr>\n",
              "    <tr>\n",
              "      <th>Chubut</th>\n",
              "      <td>NaN</td>\n",
              "      <td>NaN</td>\n",
              "      <td>NaN</td>\n",
              "      <td>NaN</td>\n",
              "      <td>NaN</td>\n",
              "      <td>169860.727647</td>\n",
              "      <td>354306.227955</td>\n",
              "      <td>529000.000000</td>\n",
              "      <td>NaN</td>\n",
              "      <td>2002.694843</td>\n",
              "      <td>1739.270312</td>\n",
              "      <td>1323.758082</td>\n",
              "      <td>NaN</td>\n",
              "      <td>78.545455</td>\n",
              "      <td>170.954545</td>\n",
              "      <td>1300.000000</td>\n",
              "      <td>NaN</td>\n",
              "      <td>93.117647</td>\n",
              "      <td>294.795455</td>\n",
              "      <td>424.650000</td>\n",
              "    </tr>\n",
              "    <tr>\n",
              "      <th>Corrientes</th>\n",
              "      <td>1.000000</td>\n",
              "      <td>483.551724</td>\n",
              "      <td>3823.384615</td>\n",
              "      <td>1.000000</td>\n",
              "      <td>134057.142857</td>\n",
              "      <td>156854.491667</td>\n",
              "      <td>262483.335065</td>\n",
              "      <td>346666.666667</td>\n",
              "      <td>1478.503224</td>\n",
              "      <td>1933.717616</td>\n",
              "      <td>1157.180835</td>\n",
              "      <td>1346.188700</td>\n",
              "      <td>82.428571</td>\n",
              "      <td>77.552381</td>\n",
              "      <td>194.773333</td>\n",
              "      <td>320.500000</td>\n",
              "      <td>82.857143</td>\n",
              "      <td>80.175000</td>\n",
              "      <td>334.876623</td>\n",
              "      <td>394.666667</td>\n",
              "    </tr>\n",
              "    <tr>\n",
              "      <th>Córdoba</th>\n",
              "      <td>977.909091</td>\n",
              "      <td>1597.088983</td>\n",
              "      <td>16452.910448</td>\n",
              "      <td>1774.227273</td>\n",
              "      <td>138360.004909</td>\n",
              "      <td>101184.181760</td>\n",
              "      <td>212332.224130</td>\n",
              "      <td>249448.283274</td>\n",
              "      <td>1544.048178</td>\n",
              "      <td>1426.524689</td>\n",
              "      <td>713.335035</td>\n",
              "      <td>1458.775597</td>\n",
              "      <td>80.240000</td>\n",
              "      <td>63.313754</td>\n",
              "      <td>199.172655</td>\n",
              "      <td>428.915789</td>\n",
              "      <td>141.872727</td>\n",
              "      <td>169.379225</td>\n",
              "      <td>816.545370</td>\n",
              "      <td>516.707965</td>\n",
              "    </tr>\n",
              "    <tr>\n",
              "      <th>Entre Ríos</th>\n",
              "      <td>NaN</td>\n",
              "      <td>600.083333</td>\n",
              "      <td>NaN</td>\n",
              "      <td>1.000000</td>\n",
              "      <td>NaN</td>\n",
              "      <td>95037.303714</td>\n",
              "      <td>150128.700233</td>\n",
              "      <td>616730.040000</td>\n",
              "      <td>NaN</td>\n",
              "      <td>1383.244968</td>\n",
              "      <td>1119.484937</td>\n",
              "      <td>1602.058545</td>\n",
              "      <td>NaN</td>\n",
              "      <td>60.090909</td>\n",
              "      <td>121.926829</td>\n",
              "      <td>617.500000</td>\n",
              "      <td>NaN</td>\n",
              "      <td>69.000000</td>\n",
              "      <td>500.744186</td>\n",
              "      <td>427.250000</td>\n",
              "    </tr>\n",
              "    <tr>\n",
              "      <th>Formosa</th>\n",
              "      <td>NaN</td>\n",
              "      <td>800.000000</td>\n",
              "      <td>NaN</td>\n",
              "      <td>NaN</td>\n",
              "      <td>NaN</td>\n",
              "      <td>63463.367586</td>\n",
              "      <td>NaN</td>\n",
              "      <td>NaN</td>\n",
              "      <td>NaN</td>\n",
              "      <td>1509.648462</td>\n",
              "      <td>NaN</td>\n",
              "      <td>NaN</td>\n",
              "      <td>NaN</td>\n",
              "      <td>NaN</td>\n",
              "      <td>NaN</td>\n",
              "      <td>NaN</td>\n",
              "      <td>NaN</td>\n",
              "      <td>42.034483</td>\n",
              "      <td>NaN</td>\n",
              "      <td>NaN</td>\n",
              "    </tr>\n",
              "    <tr>\n",
              "      <th>Jujuy</th>\n",
              "      <td>NaN</td>\n",
              "      <td>NaN</td>\n",
              "      <td>NaN</td>\n",
              "      <td>NaN</td>\n",
              "      <td>NaN</td>\n",
              "      <td>84125.510000</td>\n",
              "      <td>569417.010000</td>\n",
              "      <td>NaN</td>\n",
              "      <td>NaN</td>\n",
              "      <td>1682.510200</td>\n",
              "      <td>261.933196</td>\n",
              "      <td>NaN</td>\n",
              "      <td>NaN</td>\n",
              "      <td>48.000000</td>\n",
              "      <td>190.333333</td>\n",
              "      <td>NaN</td>\n",
              "      <td>NaN</td>\n",
              "      <td>50.000000</td>\n",
              "      <td>2050.666667</td>\n",
              "      <td>NaN</td>\n",
              "    </tr>\n",
              "    <tr>\n",
              "      <th>La Pampa</th>\n",
              "      <td>NaN</td>\n",
              "      <td>550.000000</td>\n",
              "      <td>NaN</td>\n",
              "      <td>NaN</td>\n",
              "      <td>NaN</td>\n",
              "      <td>72908.775000</td>\n",
              "      <td>141603.335000</td>\n",
              "      <td>308460.220000</td>\n",
              "      <td>NaN</td>\n",
              "      <td>1305.023938</td>\n",
              "      <td>858.320502</td>\n",
              "      <td>616.920440</td>\n",
              "      <td>NaN</td>\n",
              "      <td>56.500000</td>\n",
              "      <td>136.166667</td>\n",
              "      <td>500.000000</td>\n",
              "      <td>NaN</td>\n",
              "      <td>56.500000</td>\n",
              "      <td>167.500000</td>\n",
              "      <td>500.000000</td>\n",
              "    </tr>\n",
              "    <tr>\n",
              "      <th>La Rioja</th>\n",
              "      <td>NaN</td>\n",
              "      <td>NaN</td>\n",
              "      <td>NaN</td>\n",
              "      <td>NaN</td>\n",
              "      <td>NaN</td>\n",
              "      <td>NaN</td>\n",
              "      <td>72908.770000</td>\n",
              "      <td>NaN</td>\n",
              "      <td>NaN</td>\n",
              "      <td>NaN</td>\n",
              "      <td>243.029233</td>\n",
              "      <td>NaN</td>\n",
              "      <td>NaN</td>\n",
              "      <td>NaN</td>\n",
              "      <td>300.000000</td>\n",
              "      <td>NaN</td>\n",
              "      <td>NaN</td>\n",
              "      <td>NaN</td>\n",
              "      <td>300.000000</td>\n",
              "      <td>NaN</td>\n",
              "    </tr>\n",
              "    <tr>\n",
              "      <th>Mendoza</th>\n",
              "      <td>NaN</td>\n",
              "      <td>118961.578947</td>\n",
              "      <td>5742.333333</td>\n",
              "      <td>NaN</td>\n",
              "      <td>247500.000000</td>\n",
              "      <td>154542.773103</td>\n",
              "      <td>319192.043906</td>\n",
              "      <td>451500.000000</td>\n",
              "      <td>1113.716814</td>\n",
              "      <td>1966.691498</td>\n",
              "      <td>1347.909268</td>\n",
              "      <td>1361.578717</td>\n",
              "      <td>189.500000</td>\n",
              "      <td>90.386503</td>\n",
              "      <td>235.408333</td>\n",
              "      <td>557.625000</td>\n",
              "      <td>194.500000</td>\n",
              "      <td>87.350575</td>\n",
              "      <td>481.343750</td>\n",
              "      <td>1327.300000</td>\n",
              "    </tr>\n",
              "    <tr>\n",
              "      <th>Misiones</th>\n",
              "      <td>NaN</td>\n",
              "      <td>NaN</td>\n",
              "      <td>NaN</td>\n",
              "      <td>NaN</td>\n",
              "      <td>78517.140000</td>\n",
              "      <td>92810.854478</td>\n",
              "      <td>124987.228943</td>\n",
              "      <td>303115.755000</td>\n",
              "      <td>1154.663824</td>\n",
              "      <td>1287.519642</td>\n",
              "      <td>469.735704</td>\n",
              "      <td>71.604472</td>\n",
              "      <td>NaN</td>\n",
              "      <td>72.478261</td>\n",
              "      <td>352.369565</td>\n",
              "      <td>2445.000000</td>\n",
              "      <td>68.000000</td>\n",
              "      <td>78.895522</td>\n",
              "      <td>411.617886</td>\n",
              "      <td>2565.500000</td>\n",
              "    </tr>\n",
              "    <tr>\n",
              "      <th>Neuquén</th>\n",
              "      <td>NaN</td>\n",
              "      <td>1250.000000</td>\n",
              "      <td>1.000000</td>\n",
              "      <td>NaN</td>\n",
              "      <td>120675.955286</td>\n",
              "      <td>159095.875464</td>\n",
              "      <td>410909.121194</td>\n",
              "      <td>822500.000000</td>\n",
              "      <td>2313.924378</td>\n",
              "      <td>1894.646765</td>\n",
              "      <td>1138.848461</td>\n",
              "      <td>1181.086043</td>\n",
              "      <td>47.727273</td>\n",
              "      <td>71.924051</td>\n",
              "      <td>184.317460</td>\n",
              "      <td>389.166667</td>\n",
              "      <td>278.871429</td>\n",
              "      <td>132.938144</td>\n",
              "      <td>1205.074627</td>\n",
              "      <td>1255.833333</td>\n",
              "    </tr>\n",
              "    <tr>\n",
              "      <th>Río Negro</th>\n",
              "      <td>1.000000</td>\n",
              "      <td>2112.500000</td>\n",
              "      <td>NaN</td>\n",
              "      <td>1.000000</td>\n",
              "      <td>144333.333333</td>\n",
              "      <td>272468.177105</td>\n",
              "      <td>290941.275208</td>\n",
              "      <td>376162.500000</td>\n",
              "      <td>1284.275970</td>\n",
              "      <td>2627.957903</td>\n",
              "      <td>1564.846278</td>\n",
              "      <td>1504.330703</td>\n",
              "      <td>82.000000</td>\n",
              "      <td>94.417910</td>\n",
              "      <td>240.785714</td>\n",
              "      <td>201.333333</td>\n",
              "      <td>200.333333</td>\n",
              "      <td>99.460526</td>\n",
              "      <td>628.250000</td>\n",
              "      <td>278.325000</td>\n",
              "    </tr>\n",
              "    <tr>\n",
              "      <th>Salta</th>\n",
              "      <td>NaN</td>\n",
              "      <td>4100.000000</td>\n",
              "      <td>2500.000000</td>\n",
              "      <td>NaN</td>\n",
              "      <td>NaN</td>\n",
              "      <td>287022.785758</td>\n",
              "      <td>488675.323103</td>\n",
              "      <td>179467.760000</td>\n",
              "      <td>NaN</td>\n",
              "      <td>2987.691166</td>\n",
              "      <td>2128.169804</td>\n",
              "      <td>179.467760</td>\n",
              "      <td>NaN</td>\n",
              "      <td>61.000000</td>\n",
              "      <td>204.560000</td>\n",
              "      <td>400.000000</td>\n",
              "      <td>NaN</td>\n",
              "      <td>71.939394</td>\n",
              "      <td>683.758621</td>\n",
              "      <td>1000.000000</td>\n",
              "    </tr>\n",
              "    <tr>\n",
              "      <th>San Juan</th>\n",
              "      <td>NaN</td>\n",
              "      <td>NaN</td>\n",
              "      <td>NaN</td>\n",
              "      <td>NaN</td>\n",
              "      <td>NaN</td>\n",
              "      <td>600000.000000</td>\n",
              "      <td>26249.780000</td>\n",
              "      <td>NaN</td>\n",
              "      <td>NaN</td>\n",
              "      <td>3191.489362</td>\n",
              "      <td>104.999120</td>\n",
              "      <td>NaN</td>\n",
              "      <td>NaN</td>\n",
              "      <td>188.000000</td>\n",
              "      <td>90.000000</td>\n",
              "      <td>NaN</td>\n",
              "      <td>NaN</td>\n",
              "      <td>188.000000</td>\n",
              "      <td>250.000000</td>\n",
              "      <td>NaN</td>\n",
              "    </tr>\n",
              "    <tr>\n",
              "      <th>San Luis</th>\n",
              "      <td>NaN</td>\n",
              "      <td>425.000000</td>\n",
              "      <td>3800.000000</td>\n",
              "      <td>NaN</td>\n",
              "      <td>NaN</td>\n",
              "      <td>259920.495000</td>\n",
              "      <td>347383.256750</td>\n",
              "      <td>794000.000000</td>\n",
              "      <td>NaN</td>\n",
              "      <td>1724.424645</td>\n",
              "      <td>1597.285854</td>\n",
              "      <td>1369.953236</td>\n",
              "      <td>NaN</td>\n",
              "      <td>103.666667</td>\n",
              "      <td>132.613208</td>\n",
              "      <td>480.500000</td>\n",
              "      <td>NaN</td>\n",
              "      <td>290.166667</td>\n",
              "      <td>573.058333</td>\n",
              "      <td>644.400000</td>\n",
              "    </tr>\n",
              "    <tr>\n",
              "      <th>Santa Cruz</th>\n",
              "      <td>NaN</td>\n",
              "      <td>NaN</td>\n",
              "      <td>NaN</td>\n",
              "      <td>NaN</td>\n",
              "      <td>NaN</td>\n",
              "      <td>NaN</td>\n",
              "      <td>159184.064000</td>\n",
              "      <td>100950.610000</td>\n",
              "      <td>NaN</td>\n",
              "      <td>NaN</td>\n",
              "      <td>725.064327</td>\n",
              "      <td>420.627542</td>\n",
              "      <td>NaN</td>\n",
              "      <td>NaN</td>\n",
              "      <td>163.000000</td>\n",
              "      <td>200.000000</td>\n",
              "      <td>NaN</td>\n",
              "      <td>NaN</td>\n",
              "      <td>286.900000</td>\n",
              "      <td>240.000000</td>\n",
              "    </tr>\n",
              "    <tr>\n",
              "      <th>Santa Fe</th>\n",
              "      <td>150.000000</td>\n",
              "      <td>1304.271028</td>\n",
              "      <td>40366.833333</td>\n",
              "      <td>775.000000</td>\n",
              "      <td>82946.973846</td>\n",
              "      <td>138035.555153</td>\n",
              "      <td>203079.614506</td>\n",
              "      <td>248891.038889</td>\n",
              "      <td>1207.188748</td>\n",
              "      <td>2391.993013</td>\n",
              "      <td>990.905762</td>\n",
              "      <td>3002.901146</td>\n",
              "      <td>63.692308</td>\n",
              "      <td>51.112539</td>\n",
              "      <td>192.853873</td>\n",
              "      <td>210.688889</td>\n",
              "      <td>79.153846</td>\n",
              "      <td>132.764347</td>\n",
              "      <td>331.461912</td>\n",
              "      <td>197.777778</td>\n",
              "    </tr>\n",
              "    <tr>\n",
              "      <th>Santiago Del Estero</th>\n",
              "      <td>NaN</td>\n",
              "      <td>NaN</td>\n",
              "      <td>1.000000</td>\n",
              "      <td>NaN</td>\n",
              "      <td>NaN</td>\n",
              "      <td>30285.180000</td>\n",
              "      <td>230000.000000</td>\n",
              "      <td>NaN</td>\n",
              "      <td>NaN</td>\n",
              "      <td>513.308136</td>\n",
              "      <td>148.000000</td>\n",
              "      <td>NaN</td>\n",
              "      <td>NaN</td>\n",
              "      <td>47.000000</td>\n",
              "      <td>275.000000</td>\n",
              "      <td>NaN</td>\n",
              "      <td>NaN</td>\n",
              "      <td>59.000000</td>\n",
              "      <td>1875.000000</td>\n",
              "      <td>NaN</td>\n",
              "    </tr>\n",
              "    <tr>\n",
              "      <th>Tierra Del Fuego</th>\n",
              "      <td>NaN</td>\n",
              "      <td>NaN</td>\n",
              "      <td>300.000000</td>\n",
              "      <td>NaN</td>\n",
              "      <td>NaN</td>\n",
              "      <td>127929.298000</td>\n",
              "      <td>190499.686875</td>\n",
              "      <td>515209.190000</td>\n",
              "      <td>NaN</td>\n",
              "      <td>1820.550732</td>\n",
              "      <td>769.871670</td>\n",
              "      <td>1100.747107</td>\n",
              "      <td>NaN</td>\n",
              "      <td>63.500000</td>\n",
              "      <td>135.500000</td>\n",
              "      <td>398.500000</td>\n",
              "      <td>NaN</td>\n",
              "      <td>90.100000</td>\n",
              "      <td>244.375000</td>\n",
              "      <td>452.500000</td>\n",
              "    </tr>\n",
              "    <tr>\n",
              "      <th>Tucumán</th>\n",
              "      <td>1500.000000</td>\n",
              "      <td>1547.400000</td>\n",
              "      <td>800.000000</td>\n",
              "      <td>NaN</td>\n",
              "      <td>128992.450000</td>\n",
              "      <td>137748.543307</td>\n",
              "      <td>222896.485581</td>\n",
              "      <td>168659.926000</td>\n",
              "      <td>1329.819072</td>\n",
              "      <td>1495.412049</td>\n",
              "      <td>1047.004923</td>\n",
              "      <td>600.299163</td>\n",
              "      <td>72.000000</td>\n",
              "      <td>71.094595</td>\n",
              "      <td>189.388889</td>\n",
              "      <td>349.666667</td>\n",
              "      <td>97.000000</td>\n",
              "      <td>94.582677</td>\n",
              "      <td>224.441860</td>\n",
              "      <td>326.200000</td>\n",
              "    </tr>\n",
              "  </tbody>\n",
              "</table>\n",
              "</div>"
            ],
            "text/plain": [
              "                                 expenses                               \\\n",
              "property_type                          PH      apartment         house   \n",
              "state_name                                                               \n",
              "Bs.As. G.B.A. Zona Norte       625.702703    3027.289782   5951.455479   \n",
              "Bs.As. G.B.A. Zona Oeste       270.851852    1828.487113   2765.542169   \n",
              "Bs.As. G.B.A. Zona Sur         496.814815    1508.886968   4143.767908   \n",
              "Buenos Aires Costa Atlántica   718.571429    1885.633562   3120.000000   \n",
              "Buenos Aires Interior          800.000000    1057.742857   4242.000000   \n",
              "Capital Federal                961.994083    7062.736889   3070.100000   \n",
              "Catamarca                             NaN            NaN           NaN   \n",
              "Chaco                                 NaN    2100.000000           NaN   \n",
              "Chubut                                NaN            NaN           NaN   \n",
              "Corrientes                       1.000000     483.551724   3823.384615   \n",
              "Córdoba                        977.909091    1597.088983  16452.910448   \n",
              "Entre Ríos                            NaN     600.083333           NaN   \n",
              "Formosa                               NaN     800.000000           NaN   \n",
              "Jujuy                                 NaN            NaN           NaN   \n",
              "La Pampa                              NaN     550.000000           NaN   \n",
              "La Rioja                              NaN            NaN           NaN   \n",
              "Mendoza                               NaN  118961.578947   5742.333333   \n",
              "Misiones                              NaN            NaN           NaN   \n",
              "Neuquén                               NaN    1250.000000      1.000000   \n",
              "Río Negro                        1.000000    2112.500000           NaN   \n",
              "Salta                                 NaN    4100.000000   2500.000000   \n",
              "San Juan                              NaN            NaN           NaN   \n",
              "San Luis                              NaN     425.000000   3800.000000   \n",
              "Santa Cruz                            NaN            NaN           NaN   \n",
              "Santa Fe                       150.000000    1304.271028  40366.833333   \n",
              "Santiago Del Estero                   NaN            NaN      1.000000   \n",
              "Tierra Del Fuego                      NaN            NaN    300.000000   \n",
              "Tucumán                       1500.000000    1547.400000    800.000000   \n",
              "\n",
              "                                          price_aprox_usd                 \\\n",
              "property_type                       store              PH      apartment   \n",
              "state_name                                                                 \n",
              "Bs.As. G.B.A. Zona Norte      1248.901639   138402.450096  207631.807193   \n",
              "Bs.As. G.B.A. Zona Oeste      1042.933333   110384.588977   95764.692100   \n",
              "Bs.As. G.B.A. Zona Sur        1143.676471   108290.269161  130876.970679   \n",
              "Buenos Aires Costa Atlántica  2137.000000    89815.626167  121894.264882   \n",
              "Buenos Aires Interior                 NaN   107194.224091  106792.973696   \n",
              "Capital Federal               2735.000000   190510.284052  256444.212179   \n",
              "Catamarca                             NaN             NaN            NaN   \n",
              "Chaco                                 NaN             NaN  141708.974286   \n",
              "Chubut                                NaN             NaN  169860.727647   \n",
              "Corrientes                       1.000000   134057.142857  156854.491667   \n",
              "Córdoba                       1774.227273   138360.004909  101184.181760   \n",
              "Entre Ríos                       1.000000             NaN   95037.303714   \n",
              "Formosa                               NaN             NaN   63463.367586   \n",
              "Jujuy                                 NaN             NaN   84125.510000   \n",
              "La Pampa                              NaN             NaN   72908.775000   \n",
              "La Rioja                              NaN             NaN            NaN   \n",
              "Mendoza                               NaN   247500.000000  154542.773103   \n",
              "Misiones                              NaN    78517.140000   92810.854478   \n",
              "Neuquén                               NaN   120675.955286  159095.875464   \n",
              "Río Negro                        1.000000   144333.333333  272468.177105   \n",
              "Salta                                 NaN             NaN  287022.785758   \n",
              "San Juan                              NaN             NaN  600000.000000   \n",
              "San Luis                              NaN             NaN  259920.495000   \n",
              "Santa Cruz                            NaN             NaN            NaN   \n",
              "Santa Fe                       775.000000    82946.973846  138035.555153   \n",
              "Santiago Del Estero                   NaN             NaN   30285.180000   \n",
              "Tierra Del Fuego                      NaN             NaN  127929.298000   \n",
              "Tucumán                               NaN   128992.450000  137748.543307   \n",
              "\n",
              "                                                           price_usd_per_m2  \\\n",
              "property_type                         house          store               PH   \n",
              "state_name                                                                    \n",
              "Bs.As. G.B.A. Zona Norte      447059.967716  545634.646067      1451.712566   \n",
              "Bs.As. G.B.A. Zona Oeste      225703.229930  442924.929455      1224.018825   \n",
              "Bs.As. G.B.A. Zona Sur        270661.031125  453404.200989      1114.012013   \n",
              "Buenos Aires Costa Atlántica  219989.772755  263992.988723      1156.454370   \n",
              "Buenos Aires Interior         207586.335000  239055.248529      1019.888682   \n",
              "Capital Federal               528736.223648  542569.483082      1695.517729   \n",
              "Catamarca                     161877.398333            NaN              NaN   \n",
              "Chaco                         182608.355789  562500.000000              NaN   \n",
              "Chubut                        354306.227955  529000.000000              NaN   \n",
              "Corrientes                    262483.335065  346666.666667      1478.503224   \n",
              "Córdoba                       212332.224130  249448.283274      1544.048178   \n",
              "Entre Ríos                    150128.700233  616730.040000              NaN   \n",
              "Formosa                                 NaN            NaN              NaN   \n",
              "Jujuy                         569417.010000            NaN              NaN   \n",
              "La Pampa                      141603.335000  308460.220000              NaN   \n",
              "La Rioja                       72908.770000            NaN              NaN   \n",
              "Mendoza                       319192.043906  451500.000000      1113.716814   \n",
              "Misiones                      124987.228943  303115.755000      1154.663824   \n",
              "Neuquén                       410909.121194  822500.000000      2313.924378   \n",
              "Río Negro                     290941.275208  376162.500000      1284.275970   \n",
              "Salta                         488675.323103  179467.760000              NaN   \n",
              "San Juan                       26249.780000            NaN              NaN   \n",
              "San Luis                      347383.256750  794000.000000              NaN   \n",
              "Santa Cruz                    159184.064000  100950.610000              NaN   \n",
              "Santa Fe                      203079.614506  248891.038889      1207.188748   \n",
              "Santiago Del Estero           230000.000000            NaN              NaN   \n",
              "Tierra Del Fuego              190499.686875  515209.190000              NaN   \n",
              "Tucumán                       222896.485581  168659.926000      1329.819072   \n",
              "\n",
              "                                                                     \\\n",
              "property_type                   apartment        house        store   \n",
              "state_name                                                            \n",
              "Bs.As. G.B.A. Zona Norte      2539.871735  1339.764409  1862.009755   \n",
              "Bs.As. G.B.A. Zona Oeste      1720.754481  1081.629587  1556.947316   \n",
              "Bs.As. G.B.A. Zona Sur        1889.978782  1164.503788  1541.024184   \n",
              "Buenos Aires Costa Atlántica  1958.838430   749.149782  1401.045662   \n",
              "Buenos Aires Interior         1633.999387   643.236465   987.670901   \n",
              "Capital Federal               3324.464870  1546.701574  2899.667204   \n",
              "Catamarca                             NaN   556.045469          NaN   \n",
              "Chaco                         1424.743536   701.166824  1509.551047   \n",
              "Chubut                        2002.694843  1739.270312  1323.758082   \n",
              "Corrientes                    1933.717616  1157.180835  1346.188700   \n",
              "Córdoba                       1426.524689   713.335035  1458.775597   \n",
              "Entre Ríos                    1383.244968  1119.484937  1602.058545   \n",
              "Formosa                       1509.648462          NaN          NaN   \n",
              "Jujuy                         1682.510200   261.933196          NaN   \n",
              "La Pampa                      1305.023938   858.320502   616.920440   \n",
              "La Rioja                              NaN   243.029233          NaN   \n",
              "Mendoza                       1966.691498  1347.909268  1361.578717   \n",
              "Misiones                      1287.519642   469.735704    71.604472   \n",
              "Neuquén                       1894.646765  1138.848461  1181.086043   \n",
              "Río Negro                     2627.957903  1564.846278  1504.330703   \n",
              "Salta                         2987.691166  2128.169804   179.467760   \n",
              "San Juan                      3191.489362   104.999120          NaN   \n",
              "San Luis                      1724.424645  1597.285854  1369.953236   \n",
              "Santa Cruz                            NaN   725.064327   420.627542   \n",
              "Santa Fe                      2391.993013   990.905762  3002.901146   \n",
              "Santiago Del Estero            513.308136   148.000000          NaN   \n",
              "Tierra Del Fuego              1820.550732   769.871670  1100.747107   \n",
              "Tucumán                       1495.412049  1047.004923   600.299163   \n",
              "\n",
              "                             surface_covered_in_m2                          \\\n",
              "property_type                                   PH   apartment       house   \n",
              "state_name                                                                   \n",
              "Bs.As. G.B.A. Zona Norte                 88.060855   70.486935  257.267549   \n",
              "Bs.As. G.B.A. Zona Oeste                 96.796499   53.089703  169.132530   \n",
              "Bs.As. G.B.A. Zona Sur                   87.832192   64.529627  187.605681   \n",
              "Buenos Aires Costa Atlántica             97.319149   76.335041  181.671985   \n",
              "Buenos Aires Interior                   104.833333   82.431907  227.099338   \n",
              "Capital Federal                          96.352990   69.232853  256.765306   \n",
              "Catamarca                                      NaN         NaN  175.400000   \n",
              "Chaco                                          NaN   88.166667  202.812500   \n",
              "Chubut                                         NaN   78.545455  170.954545   \n",
              "Corrientes                               82.428571   77.552381  194.773333   \n",
              "Córdoba                                  80.240000   63.313754  199.172655   \n",
              "Entre Ríos                                     NaN   60.090909  121.926829   \n",
              "Formosa                                        NaN         NaN         NaN   \n",
              "Jujuy                                          NaN   48.000000  190.333333   \n",
              "La Pampa                                       NaN   56.500000  136.166667   \n",
              "La Rioja                                       NaN         NaN  300.000000   \n",
              "Mendoza                                 189.500000   90.386503  235.408333   \n",
              "Misiones                                       NaN   72.478261  352.369565   \n",
              "Neuquén                                  47.727273   71.924051  184.317460   \n",
              "Río Negro                                82.000000   94.417910  240.785714   \n",
              "Salta                                          NaN   61.000000  204.560000   \n",
              "San Juan                                       NaN  188.000000   90.000000   \n",
              "San Luis                                       NaN  103.666667  132.613208   \n",
              "Santa Cruz                                     NaN         NaN  163.000000   \n",
              "Santa Fe                                 63.692308   51.112539  192.853873   \n",
              "Santiago Del Estero                            NaN   47.000000  275.000000   \n",
              "Tierra Del Fuego                               NaN   63.500000  135.500000   \n",
              "Tucumán                                  72.000000   71.094595  189.388889   \n",
              "\n",
              "                                          surface_total_in_m2              \\\n",
              "property_type                       store                  PH   apartment   \n",
              "state_name                                                                  \n",
              "Bs.As. G.B.A. Zona Norte       562.523511          114.587200   87.635163   \n",
              "Bs.As. G.B.A. Zona Oeste       491.425743          114.657620   62.002283   \n",
              "Bs.As. G.B.A. Zona Sur         753.928571          118.164596   73.364223   \n",
              "Buenos Aires Costa Atlántica   308.355140           98.427778   83.905706   \n",
              "Buenos Aires Interior          269.517241          155.409091   91.587459   \n",
              "Capital Federal                282.475271          128.453397   88.903046   \n",
              "Catamarca                             NaN                 NaN         NaN   \n",
              "Chaco                          471.000000                 NaN   96.285714   \n",
              "Chubut                        1300.000000                 NaN   93.117647   \n",
              "Corrientes                     320.500000           82.857143   80.175000   \n",
              "Córdoba                        428.915789          141.872727  169.379225   \n",
              "Entre Ríos                     617.500000                 NaN   69.000000   \n",
              "Formosa                               NaN                 NaN   42.034483   \n",
              "Jujuy                                 NaN                 NaN   50.000000   \n",
              "La Pampa                       500.000000                 NaN   56.500000   \n",
              "La Rioja                              NaN                 NaN         NaN   \n",
              "Mendoza                        557.625000          194.500000   87.350575   \n",
              "Misiones                      2445.000000           68.000000   78.895522   \n",
              "Neuquén                        389.166667          278.871429  132.938144   \n",
              "Río Negro                      201.333333          200.333333   99.460526   \n",
              "Salta                          400.000000                 NaN   71.939394   \n",
              "San Juan                              NaN                 NaN  188.000000   \n",
              "San Luis                       480.500000                 NaN  290.166667   \n",
              "Santa Cruz                     200.000000                 NaN         NaN   \n",
              "Santa Fe                       210.688889           79.153846  132.764347   \n",
              "Santiago Del Estero                   NaN                 NaN   59.000000   \n",
              "Tierra Del Fuego               398.500000                 NaN   90.100000   \n",
              "Tucumán                        349.666667           97.000000   94.582677   \n",
              "\n",
              "                                                        \n",
              "property_type                       house        store  \n",
              "state_name                                              \n",
              "Bs.As. G.B.A. Zona Norte       484.812135   556.494382  \n",
              "Bs.As. G.B.A. Zona Oeste       354.632778   535.081818  \n",
              "Bs.As. G.B.A. Zona Sur         316.022883   911.858657  \n",
              "Buenos Aires Costa Atlántica   483.798015   314.957447  \n",
              "Buenos Aires Interior         1274.023006   347.647059  \n",
              "Capital Federal                467.948416   293.543169  \n",
              "Catamarca                      425.000000          NaN  \n",
              "Chaco                          322.526316   462.000000  \n",
              "Chubut                         294.795455   424.650000  \n",
              "Corrientes                     334.876623   394.666667  \n",
              "Córdoba                        816.545370   516.707965  \n",
              "Entre Ríos                     500.744186   427.250000  \n",
              "Formosa                               NaN          NaN  \n",
              "Jujuy                         2050.666667          NaN  \n",
              "La Pampa                       167.500000   500.000000  \n",
              "La Rioja                       300.000000          NaN  \n",
              "Mendoza                        481.343750  1327.300000  \n",
              "Misiones                       411.617886  2565.500000  \n",
              "Neuquén                       1205.074627  1255.833333  \n",
              "Río Negro                      628.250000   278.325000  \n",
              "Salta                          683.758621  1000.000000  \n",
              "San Juan                       250.000000          NaN  \n",
              "San Luis                       573.058333   644.400000  \n",
              "Santa Cruz                     286.900000   240.000000  \n",
              "Santa Fe                       331.461912   197.777778  \n",
              "Santiago Del Estero           1875.000000          NaN  \n",
              "Tierra Del Fuego               244.375000   452.500000  \n",
              "Tucumán                        224.441860   326.200000  "
            ]
          },
          "metadata": {
            "tags": []
          },
          "execution_count": 103
        }
      ]
    },
    {
      "cell_type": "code",
      "metadata": {
        "id": "RaBrYUwXYtQd",
        "outputId": "cf6c08d4-6855-43a1-85bb-757decd2aed7",
        "colab": {
          "base_uri": "https://localhost:8080/",
          "height": 451
        }
      },
      "source": [
        "properati_price_pivot = pd.pivot_table(properati, values=['price_usd_per_m2'], index=['state_name'], aggfunc=('mean',), )\n",
        "properati_price_pivot.plot(kind='bar')"
      ],
      "execution_count": 108,
      "outputs": [
        {
          "output_type": "execute_result",
          "data": {
            "text/plain": [
              "<matplotlib.axes._subplots.AxesSubplot at 0x7fc5e7d795f8>"
            ]
          },
          "metadata": {
            "tags": []
          },
          "execution_count": 108
        },
        {
          "output_type": "display_data",
          "data": {
            "image/png": "[encoded data removed]",
            "text/plain": [
              "<Figure size 432x288 with 1 Axes>"
            ]
          },
          "metadata": {
            "tags": []
          }
        }
      ]
    },
    {
      "cell_type": "code",
      "metadata": {
        "id": "neGIVvylq6NV",
        "outputId": "d4568f43-06e7-4415-f468-524b1505de8c",
        "colab": {
          "base_uri": "https://localhost:8080/",
          "height": 359
        }
      },
      "source": [
        "# Filtro los que no tienen precio por m2\n",
        "properati = properati.loc[properati.price_usd_per_m2.notnull(),:]\n",
        "\n",
        "# Veamos como se distribuyen los precios por bins\n",
        "(count, division)= np.histogram(properati.price_usd_per_m2)\n",
        "bins = []\n",
        "for i in range(0,len(division)-1):\n",
        "    bins.append((division[i],division[i+1]))\n",
        "\n",
        "bins = pd.DataFrame({'bin': bins,\n",
        "                     'cantidad': count})\n",
        "bins"
      ],
      "execution_count": 79,
      "outputs": [
        {
          "output_type": "execute_result",
          "data": {
            "text/html": [
              "<div>\n",
              "<style scoped>\n",
              "    .dataframe tbody tr th:only-of-type {\n",
              "        vertical-align: middle;\n",
              "    }\n",
              "\n",
              "    .dataframe tbody tr th {\n",
              "        vertical-align: top;\n",
              "    }\n",
              "\n",
              "    .dataframe thead th {\n",
              "        text-align: right;\n",
              "    }\n",
              "</style>\n",
              "<table border=\"1\" class=\"dataframe\">\n",
              "  <thead>\n",
              "    <tr style=\"text-align: right;\">\n",
              "      <th></th>\n",
              "      <th>bin</th>\n",
              "      <th>cantidad</th>\n",
              "    </tr>\n",
              "  </thead>\n",
              "  <tbody>\n",
              "    <tr>\n",
              "      <th>0</th>\n",
              "      <td>(0.6, 20633.873333333326)</td>\n",
              "      <td>68202</td>\n",
              "    </tr>\n",
              "    <tr>\n",
              "      <th>1</th>\n",
              "      <td>(20633.873333333326, 41267.14666666665)</td>\n",
              "      <td>388</td>\n",
              "    </tr>\n",
              "    <tr>\n",
              "      <th>2</th>\n",
              "      <td>(41267.14666666665, 61900.41999999998)</td>\n",
              "      <td>22</td>\n",
              "    </tr>\n",
              "    <tr>\n",
              "      <th>3</th>\n",
              "      <td>(61900.41999999998, 82533.69333333331)</td>\n",
              "      <td>2</td>\n",
              "    </tr>\n",
              "    <tr>\n",
              "      <th>4</th>\n",
              "      <td>(82533.69333333331, 103166.96666666665)</td>\n",
              "      <td>0</td>\n",
              "    </tr>\n",
              "    <tr>\n",
              "      <th>5</th>\n",
              "      <td>(103166.96666666665, 123800.23999999996)</td>\n",
              "      <td>1</td>\n",
              "    </tr>\n",
              "    <tr>\n",
              "      <th>6</th>\n",
              "      <td>(123800.23999999996, 144433.5133333333)</td>\n",
              "      <td>0</td>\n",
              "    </tr>\n",
              "    <tr>\n",
              "      <th>7</th>\n",
              "      <td>(144433.5133333333, 165066.78666666662)</td>\n",
              "      <td>0</td>\n",
              "    </tr>\n",
              "    <tr>\n",
              "      <th>8</th>\n",
              "      <td>(165066.78666666662, 185700.05999999994)</td>\n",
              "      <td>1</td>\n",
              "    </tr>\n",
              "    <tr>\n",
              "      <th>9</th>\n",
              "      <td>(185700.05999999994, 206333.33333333328)</td>\n",
              "      <td>1</td>\n",
              "    </tr>\n",
              "  </tbody>\n",
              "</table>\n",
              "</div>"
            ],
            "text/plain": [
              "                                        bin  cantidad\n",
              "0                 (0.6, 20633.873333333326)     68202\n",
              "1   (20633.873333333326, 41267.14666666665)       388\n",
              "2    (41267.14666666665, 61900.41999999998)        22\n",
              "3    (61900.41999999998, 82533.69333333331)         2\n",
              "4   (82533.69333333331, 103166.96666666665)         0\n",
              "5  (103166.96666666665, 123800.23999999996)         1\n",
              "6   (123800.23999999996, 144433.5133333333)         0\n",
              "7   (144433.5133333333, 165066.78666666662)         0\n",
              "8  (165066.78666666662, 185700.05999999994)         1\n",
              "9  (185700.05999999994, 206333.33333333328)         1"
            ]
          },
          "metadata": {
            "tags": []
          },
          "execution_count": 79
        }
      ]
    },
    {
      "cell_type": "code",
      "metadata": {
        "id": "a2vyGFm9r2PQ"
      },
      "source": [
        "properati_filtrados = properati[(properati.price_usd_per_m2 < properati.price_usd_per_m2.quantile(.95)) & (properati.price_usd_per_m2 > properati.price_usd_per_m2.quantile(.02))]"
      ],
      "execution_count": 80,
      "outputs": []
    },
    {
      "cell_type": "code",
      "metadata": {
        "id": "hhVG45rhuYU1",
        "outputId": "62ccfe60-3eb9-4fbe-c246-559bb63f190f",
        "colab": {
          "base_uri": "https://localhost:8080/",
          "height": 680
        }
      },
      "source": [
        "# Veamos la correlacion entre los datos\n",
        "fig, ax = plt.subplots(figsize=(16,8))         # Sample figsize in inches\n",
        "cor = properati_filtrados.corr().abs()\n",
        "cor.values[[np.arange(6)]*2] = 0\n",
        "ax = plt.axes()\n",
        "sns.heatmap(cor,cmap='Reds', alpha=0.5,ax=ax);\n",
        "ax.set_title('Correlacion entre los datos', fontsize=20)\n",
        "plt.show();"
      ],
      "execution_count": 81,
      "outputs": [
        {
          "output_type": "stream",
          "text": [
            "/usr/local/lib/python3.6/dist-packages/ipykernel_launcher.py:4: FutureWarning: Using a non-tuple sequence for multidimensional indexing is deprecated; use `arr[tuple(seq)]` instead of `arr[seq]`. In the future this will be interpreted as an array index, `arr[np.array(seq)]`, which will result either in an error or a different result.\n",
            "  after removing the cwd from sys.path.\n"
          ],
          "name": "stderr"
        },
        {
          "output_type": "display_data",
          "data": {
            "image/png": "[encoded data removed]",
            "text/plain": [
              "<Figure size 1152x576 with 2 Axes>"
            ]
          },
          "metadata": {
            "tags": []
          }
        }
      ]
    },
    {
      "cell_type": "code",
      "metadata": {
        "id": "Ipn4QeTcrqwf",
        "outputId": "b0bae07f-7c9f-495a-9582-17cb851d3f74",
        "colab": {
          "base_uri": "https://localhost:8080/",
          "height": 453
        }
      },
      "source": [
        "sns.set(style=\"white\", palette=\"muted\", color_codes=True)\n",
        "rs = np.random.RandomState(10)\n",
        "\n",
        "# Set up the matplotlib figure\n",
        "f, axes = plt.subplots(1, 2, figsize=(15, 5))\n",
        "sns.despine(left=True)\n",
        "\n",
        "\n",
        "g1=sns.distplot(properati[['price_usd_per_m2']],ax=axes[0])\n",
        "g1.axes.set_title('Precios de propiedades sin filtrar', fontsize=24)\n",
        "\n",
        "g2 = sns.distplot(properati_filtrados[['price_usd_per_m2']], color=\"purple\",ax=axes[1])\n",
        "g2.axes.set_title('Precios de propiedades filtrada', fontsize=24,  color=\"purple\")\n",
        "\n",
        "plt.setp(axes, yticks=[])\n",
        "plt.tight_layout()\n",
        "plt.show()"
      ],
      "execution_count": 82,
      "outputs": [
        {
          "output_type": "stream",
          "text": [
            "/usr/local/lib/python3.6/dist-packages/seaborn/distributions.py:2551: FutureWarning: `distplot` is a deprecated function and will be removed in a future version. Please adapt your code to use either `displot` (a figure-level function with similar flexibility) or `histplot` (an axes-level function for histograms).\n",
            "  warnings.warn(msg, FutureWarning)\n",
            "/usr/local/lib/python3.6/dist-packages/seaborn/distributions.py:2551: FutureWarning: `distplot` is a deprecated function and will be removed in a future version. Please adapt your code to use either `displot` (a figure-level function with similar flexibility) or `histplot` (an axes-level function for histograms).\n",
            "  warnings.warn(msg, FutureWarning)\n"
          ],
          "name": "stderr"
        },
        {
          "output_type": "display_data",
          "data": {
            "image/png": "[encoded data removed]",
            "text/plain": [
              "<Figure size 1080x360 with 2 Axes>"
            ]
          },
          "metadata": {
            "tags": []
          }
        }
      ]
    },
    {
      "cell_type": "code",
      "metadata": {
        "id": "SCDYLYN8ax0t",
        "outputId": "c5a23e9d-b601-4757-cc14-ac02fa52abf4",
        "colab": {
          "base_uri": "https://localhost:8080/",
          "height": 302
        }
      },
      "source": [
        "sns.boxplot(x = properati_filtrados['price_usd_per_m2'])"
      ],
      "execution_count": 115,
      "outputs": [
        {
          "output_type": "execute_result",
          "data": {
            "text/plain": [
              "<matplotlib.axes._subplots.AxesSubplot at 0x7fc5e791f470>"
            ]
          },
          "metadata": {
            "tags": []
          },
          "execution_count": 115
        },
        {
          "output_type": "display_data",
          "data": {
            "image/png": "[encoded data removed]",
            "text/plain": [
              "<Figure size 432x288 with 1 Axes>"
            ]
          },
          "metadata": {
            "tags": [],
            "needs_background": "light"
          }
        }
      ]
    },
    {
      "cell_type": "code",
      "metadata": {
        "id": "oIMxBD5wsXUd",
        "outputId": "06a209c7-63b9-4da5-827d-1240abbe9aa5",
        "colab": {
          "base_uri": "https://localhost:8080/",
          "height": 370
        }
      },
      "source": [
        "# Precios segun el tipo de propiedad\n",
        "\n",
        "properati_type = properati_filtrados.groupby('property_type').mean()['price_usd_per_m2'].sort_values(ascending=False)\n",
        "graph = properati_type.plot.barh(figsize=(14,5),fontsize=15, color='g', alpha=0.6)\n",
        "graph.set_title(\"Precio(usd/m2) promedio segun el tipo de propiedad\", fontsize=20)\n",
        "graph.set_ylabel(\"Tipo de propiedad\", fontsize=18)\n",
        "graph.set_xlabel(\"USD/m2\", fontsize=18)\n",
        "plt.show()"
      ],
      "execution_count": 83,
      "outputs": [
        {
          "output_type": "display_data",
          "data": {
            "image/png": "[encoded data removed]",
            "text/plain": [
              "<Figure size 1008x360 with 1 Axes>"
            ]
          },
          "metadata": {
            "tags": []
          }
        }
      ]
    },
    {
      "cell_type": "code",
      "metadata": {
        "id": "XoSTTbsps9Ev",
        "outputId": "9076f463-4a28-4de5-f356-d87c7a6e917a",
        "colab": {
          "base_uri": "https://localhost:8080/",
          "height": 510
        }
      },
      "source": [
        "properati_filtrados['state_name'].value_counts()"
      ],
      "execution_count": 84,
      "outputs": [
        {
          "output_type": "execute_result",
          "data": {
            "text/plain": [
              "Capital Federal                 20707\n",
              "Bs.As. G.B.A. Zona Norte        16673\n",
              "Buenos Aires Costa Atlántica     6137\n",
              "Bs.As. G.B.A. Zona Sur           5975\n",
              "Bs.As. G.B.A. Zona Oeste         4426\n",
              "Santa Fe                         3767\n",
              "Córdoba                          3439\n",
              "Buenos Aires Interior             856\n",
              "Corrientes                        307\n",
              "Mendoza                           294\n",
              "Neuquén                           221\n",
              "Río Negro                         200\n",
              "Tucumán                           173\n",
              "Misiones                          152\n",
              "Chubut                            120\n",
              "San Luis                          111\n",
              "Entre Ríos                         71\n",
              "Salta                              49\n",
              "Formosa                            29\n",
              "Tierra Del Fuego                   28\n",
              "Chaco                              27\n",
              "Santa Cruz                         11\n",
              "La Pampa                           10\n",
              "Catamarca                           5\n",
              "Jujuy                               4\n",
              "Santiago Del Estero                 2\n",
              "San Juan                            1\n",
              "La Rioja                            1\n",
              "Name: state_name, dtype: int64"
            ]
          },
          "metadata": {
            "tags": []
          },
          "execution_count": 84
        }
      ]
    },
    {
      "cell_type": "code",
      "metadata": {
        "id": "fqefLTI8sl1e",
        "outputId": "72d97b73-2485-44c0-df09-764b6df5d11b",
        "colab": {
          "base_uri": "https://localhost:8080/",
          "height": 615
        }
      },
      "source": [
        "# Precios por state_name\n",
        "properati_filtrados = properati_filtrados.loc[properati_filtrados.place_name.notnull(),:]\n",
        "\n",
        "properati_type_state_name = properati_filtrados.groupby('state_name').mean()['price_usd_per_m2'].sort_values(ascending=True)\n",
        "graph = properati_type_state_name.plot.barh(figsize=(20,10),fontsize=15, color='g', alpha=0.6)\n",
        "graph.set_title(\"Precio(usd/m2) promedio segun el zona\", fontsize=20)\n",
        "graph.set_ylabel(\"Estado\", fontsize=18)\n",
        "graph.set_xlabel(\"USD/m2\", fontsize=18)\n",
        "plt.show()"
      ],
      "execution_count": 89,
      "outputs": [
        {
          "output_type": "display_data",
          "data": {
            "image/png": "[encoded data removed]",
            "text/plain": [
              "<Figure size 1440x720 with 1 Axes>"
            ]
          },
          "metadata": {
            "tags": []
          }
        }
      ]
    },
    {
      "cell_type": "code",
      "metadata": {
        "id": "kafZRORVa36G",
        "outputId": "c5ad8a5d-6cd8-4c28-8588-b3c349d2374b",
        "colab": {
          "base_uri": "https://localhost:8080/",
          "height": 302
        }
      },
      "source": [
        "sns.boxplot(x = properati_filtrados['surface_total_in_m2'])"
      ],
      "execution_count": 113,
      "outputs": [
        {
          "output_type": "execute_result",
          "data": {
            "text/plain": [
              "<matplotlib.axes._subplots.AxesSubplot at 0x7fc5e7b08a20>"
            ]
          },
          "metadata": {
            "tags": []
          },
          "execution_count": 113
        },
        {
          "output_type": "display_data",
          "data": {
            "image/png": "[encoded data removed]",
            "text/plain": [
              "<Figure size 432x288 with 1 Axes>"
            ]
          },
          "metadata": {
            "tags": [],
            "needs_background": "light"
          }
        }
      ]
    },
    {
      "cell_type": "code",
      "metadata": {
        "id": "I4LAbNp0bY15",
        "outputId": "1c2769c6-cd13-4bf0-b03c-85128704c644",
        "colab": {
          "base_uri": "https://localhost:8080/",
          "height": 51
        }
      },
      "source": [
        "properati_filtrados = properati_filtrados[(properati.surface_total_in_m2 < properati.surface_total_in_m2.quantile(.95)) & (properati.surface_total_in_m2 > properati.surface_total_in_m2.quantile(.02))]"
      ],
      "execution_count": 116,
      "outputs": [
        {
          "output_type": "stream",
          "text": [
            "/usr/local/lib/python3.6/dist-packages/ipykernel_launcher.py:1: UserWarning: Boolean Series key will be reindexed to match DataFrame index.\n",
            "  \"\"\"Entry point for launching an IPython kernel.\n"
          ],
          "name": "stderr"
        }
      ]
    },
    {
      "cell_type": "code",
      "metadata": {
        "id": "gp4NZfwJbjXS",
        "outputId": "09792be2-52cc-42e0-9771-8f0d66fd0f4b",
        "colab": {
          "base_uri": "https://localhost:8080/",
          "height": 356
        }
      },
      "source": [
        "sns.boxplot(properati_filtrados['surface_total_in_m2'])"
      ],
      "execution_count": 119,
      "outputs": [
        {
          "output_type": "stream",
          "text": [
            "/usr/local/lib/python3.6/dist-packages/seaborn/_decorators.py:43: FutureWarning: Pass the following variable as a keyword arg: x. From version 0.12, the only valid positional argument will be `data`, and passing other arguments without an explicit keyword will result in an error or misinterpretation.\n",
            "  FutureWarning\n"
          ],
          "name": "stderr"
        },
        {
          "output_type": "execute_result",
          "data": {
            "text/plain": [
              "<matplotlib.axes._subplots.AxesSubplot at 0x7fc5e77f0048>"
            ]
          },
          "metadata": {
            "tags": []
          },
          "execution_count": 119
        },
        {
          "output_type": "display_data",
          "data": {
            "image/png": "[encoded data removed]",
            "text/plain": [
              "<Figure size 432x288 with 1 Axes>"
            ]
          },
          "metadata": {
            "tags": [],
            "needs_background": "light"
          }
        }
      ]
    },
    {
      "cell_type": "markdown",
      "metadata": {
        "id": "94fuLbLyb9pf"
      },
      "source": [
        "Veamos de este data set ya filtrado que procentaje de nulos tiene cada columna"
      ]
    },
    {
      "cell_type": "code",
      "metadata": {
        "id": "5zPShvBxb672",
        "outputId": "ce7c1af4-0a68-48a8-a6c1-4f313ac8b386",
        "colab": {
          "base_uri": "https://localhost:8080/",
          "height": 306
        }
      },
      "source": [
        "properati_filtrados.isna().mean().round(4).sort_values(ascending=False) * 100"
      ],
      "execution_count": 124,
      "outputs": [
        {
          "output_type": "execute_result",
          "data": {
            "text/plain": [
              "expenses                   83.21\n",
              "rooms                      64.01\n",
              "surface_covered_in_m2       7.64\n",
              "lon                         0.81\n",
              "lat                         0.81\n",
              "geonames_id                 0.00\n",
              "floor                       0.00\n",
              "surface_total_in_m2         0.00\n",
              "price_usd_per_m2            0.00\n",
              "price_aprox_usd             0.00\n",
              "place_with_parent_names     0.00\n",
              "place_name                  0.00\n",
              "state_name                  0.00\n",
              "description                 0.00\n",
              "title                       0.00\n",
              "property_type               0.00\n",
              "dtype: float64"
            ]
          },
          "metadata": {
            "tags": []
          },
          "execution_count": 124
        }
      ]
    },
    {
      "cell_type": "code",
      "metadata": {
        "id": "AYndmd1Cct3K",
        "outputId": "b47b6a4f-1a08-4def-9510-c53ff20df4f9",
        "colab": {
          "base_uri": "https://localhost:8080/",
          "height": 34
        }
      },
      "source": [
        "print(f\"El dataset final luego de la limpieza tiene {len(properati_filtrados)} observaciones\")"
      ],
      "execution_count": 125,
      "outputs": [
        {
          "output_type": "stream",
          "text": [
            "El dataset final luego de la limpieza tiene 59707 observaciones\n"
          ],
          "name": "stdout"
        }
      ]
    },
    {
      "cell_type": "markdown",
      "metadata": {
        "id": "BUYqy9CteNDJ"
      },
      "source": [
        "Veamos los barrios mas caros de capital Federal"
      ]
    },
    {
      "cell_type": "code",
      "metadata": {
        "id": "zV7xX_9UeThV",
        "outputId": "564868e8-77df-49e1-cca1-361865203afe",
        "colab": {
          "base_uri": "https://localhost:8080/",
          "height": 34
        }
      },
      "source": [
        "properati_capital = properati_filtrados[properati_filtrados['state_name'] == 'Capital Federal']\n",
        "properati_capital.shape"
      ],
      "execution_count": 132,
      "outputs": [
        {
          "output_type": "execute_result",
          "data": {
            "text/plain": [
              "(19762, 16)"
            ]
          },
          "metadata": {
            "tags": []
          },
          "execution_count": 132
        }
      ]
    },
    {
      "cell_type": "code",
      "metadata": {
        "id": "0NLSqnC7d5fL",
        "outputId": "8f734cf8-8597-4d24-ecff-0a52206682fa",
        "colab": {
          "base_uri": "https://localhost:8080/",
          "height": 622
        }
      },
      "source": [
        "# Ajusto el tamaño de la figura para poder verla correctamente, y con xticks pongo los nombres de los barrios en vertical para poder leerlos\n",
        "plt.rcParams['figure.figsize'] = (12,8)\n",
        "plt.xticks(rotation = 90)\n",
        "\n",
        "barrios = properati_capital.groupby('place_name').mean().sort_values('price_usd_per_m2', ascending=False).index\n",
        "sns.barplot(x=\"place_name\", y=\"price_usd_per_m2\", order=barrios, data=properati_capital)"
      ],
      "execution_count": 137,
      "outputs": [
        {
          "output_type": "execute_result",
          "data": {
            "text/plain": [
              "<matplotlib.axes._subplots.AxesSubplot at 0x7fc5e7989978>"
            ]
          },
          "metadata": {
            "tags": []
          },
          "execution_count": 137
        },
        {
          "output_type": "display_data",
          "data": {
            "image/png": "[encoded data removed]",
            "text/plain": [
              "<Figure size 864x576 with 1 Axes>"
            ]
          },
          "metadata": {
            "tags": [],
            "needs_background": "light"
          }
        }
      ]
    }
  ]
}